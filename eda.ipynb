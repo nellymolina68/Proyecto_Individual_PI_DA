{
 "cells": [
  {
   "cell_type": "markdown",
   "metadata": {},
   "source": [
    "**Analisis Exploratorio de los Datos : EDA (Exploratory Data Analysis)**"
   ]
  },
  {
   "cell_type": "markdown",
   "metadata": {},
   "source": [
    "En el analisis exploratorio de los datos, de los 15 archivos previamente revisados ( revision_data), solo extraje 6, para llevar a cabo mi proyecto. \n",
    "\n",
    "Proyecto : **Analisis de datos sobre el acceso al Internet fijo en Argentina y su evolucion en materia de las diferentes tecnologias, infraestructura, velocidad e ingresos por la prestacion del servicio  y su Impacto en la Calidad de Servicio, tanto anivel nacional como por provincias.**\n",
    "\n",
    "Periodo:  2014-2022 \n",
    "\n",
    "Luego de la descarga de los 16 datasets contenidos en la APi de ENACOM: , se extrajeron estos dataframe para lograr los objetivos del proyecto.\n",
    "\n",
    "Dataframes a analizar: \n",
    "\n",
    "\n",
    "1.- df1, df2, df3 para obtener información detallada sobre la infraestructura y tecnologías por año.(df_union)\n",
    "2.- df5 para evaluar la velocidad de bajada y su variación trimestral.\n",
    "3.- df12 para evaluar la distribucion de los ingresos trimestrales por la prestacion del servicio de internet fijo.\n",
    "4.  df14, df15 para medir los accesos por cada 100 hogares y por cada 100 habitantes.\n",
    "\n"
   ]
  },
  {
   "cell_type": "code",
   "execution_count": 1,
   "metadata": {},
   "outputs": [],
   "source": [
    "#LECTURA DE LOS DATASETS#\n",
    "\n",
    "# Importación de Bibliotecas:\n",
    "import pandas as pd\n",
    "import numpy as np\n",
    "import matplotlib.pyplot as plt\n",
    "import seaborn as sns\n",
    "import plotly.graph_objects as go\n",
    "import plotly.express as px"
   ]
  },
  {
   "cell_type": "markdown",
   "metadata": {},
   "source": [
    "# Carga de datos\n"
   ]
  },
  {
   "cell_type": "code",
   "execution_count": 2,
   "metadata": {},
   "outputs": [
    {
     "name": "stdout",
     "output_type": "stream",
     "text": [
      "(36, 6)\n"
     ]
    },
    {
     "data": {
      "text/html": [
       "<div>\n",
       "<style scoped>\n",
       "    .dataframe tbody tr th:only-of-type {\n",
       "        vertical-align: middle;\n",
       "    }\n",
       "\n",
       "    .dataframe tbody tr th {\n",
       "        vertical-align: top;\n",
       "    }\n",
       "\n",
       "    .dataframe thead th {\n",
       "        text-align: right;\n",
       "    }\n",
       "</style>\n",
       "<table border=\"1\" class=\"dataframe\">\n",
       "  <thead>\n",
       "    <tr style=\"text-align: right;\">\n",
       "      <th></th>\n",
       "      <th>Año</th>\n",
       "      <th>Trimestre</th>\n",
       "      <th>Banda ancha fija</th>\n",
       "      <th>Dial up</th>\n",
       "      <th>Total</th>\n",
       "      <th>Periodo</th>\n",
       "    </tr>\n",
       "  </thead>\n",
       "  <tbody>\n",
       "    <tr>\n",
       "      <th>0</th>\n",
       "      <td>2022</td>\n",
       "      <td>4</td>\n",
       "      <td>11</td>\n",
       "      <td>12</td>\n",
       "      <td>11</td>\n",
       "      <td>Oct-Dic 2022</td>\n",
       "    </tr>\n",
       "    <tr>\n",
       "      <th>1</th>\n",
       "      <td>2022</td>\n",
       "      <td>3</td>\n",
       "      <td>11</td>\n",
       "      <td>12</td>\n",
       "      <td>11</td>\n",
       "      <td>Jul-Sept 2022</td>\n",
       "    </tr>\n",
       "    <tr>\n",
       "      <th>2</th>\n",
       "      <td>2022</td>\n",
       "      <td>2</td>\n",
       "      <td>11</td>\n",
       "      <td>12</td>\n",
       "      <td>11</td>\n",
       "      <td>Abr-Jun 2022</td>\n",
       "    </tr>\n",
       "    <tr>\n",
       "      <th>3</th>\n",
       "      <td>2022</td>\n",
       "      <td>1</td>\n",
       "      <td>11</td>\n",
       "      <td>13</td>\n",
       "      <td>11</td>\n",
       "      <td>Ene-Mar 2022</td>\n",
       "    </tr>\n",
       "    <tr>\n",
       "      <th>4</th>\n",
       "      <td>2021</td>\n",
       "      <td>4</td>\n",
       "      <td>10</td>\n",
       "      <td>13</td>\n",
       "      <td>10</td>\n",
       "      <td>Oct-Dic 2021</td>\n",
       "    </tr>\n",
       "  </tbody>\n",
       "</table>\n",
       "</div>"
      ],
      "text/plain": [
       "    Año  Trimestre  Banda ancha fija  Dial up  Total        Periodo\n",
       "0  2022          4                11       12     11   Oct-Dic 2022\n",
       "1  2022          3                11       12     11  Jul-Sept 2022\n",
       "2  2022          2                11       12     11   Abr-Jun 2022\n",
       "3  2022          1                11       13     11   Ene-Mar 2022\n",
       "4  2021          4                10       13     10   Oct-Dic 2021"
      ]
     },
     "execution_count": 2,
     "metadata": {},
     "output_type": "execute_result"
    }
   ],
   "source": [
    "#Total nacional de accesos a Internet fijo por banda ancha y banda angosta\n",
    "df1 = pd.read_csv(\"datasets/aif_ba_ba_nac.csv\")\n",
    "# Mostrar las primeras filas y estadísticas descriptivas : El dataset consta de 36 filas y 6 columnas\n",
    "print(df1.shape)\n",
    "df1.head()"
   ]
  },
  {
   "cell_type": "code",
   "execution_count": 3,
   "metadata": {},
   "outputs": [
    {
     "name": "stdout",
     "output_type": "stream",
     "text": [
      "(864, 6)\n"
     ]
    },
    {
     "data": {
      "text/html": [
       "<div>\n",
       "<style scoped>\n",
       "    .dataframe tbody tr th:only-of-type {\n",
       "        vertical-align: middle;\n",
       "    }\n",
       "\n",
       "    .dataframe tbody tr th {\n",
       "        vertical-align: top;\n",
       "    }\n",
       "\n",
       "    .dataframe thead th {\n",
       "        text-align: right;\n",
       "    }\n",
       "</style>\n",
       "<table border=\"1\" class=\"dataframe\">\n",
       "  <thead>\n",
       "    <tr style=\"text-align: right;\">\n",
       "      <th></th>\n",
       "      <th>Año</th>\n",
       "      <th>Trimestre</th>\n",
       "      <th>Provincia</th>\n",
       "      <th>Banda ancha fija</th>\n",
       "      <th>Dial up</th>\n",
       "      <th>Total</th>\n",
       "    </tr>\n",
       "  </thead>\n",
       "  <tbody>\n",
       "    <tr>\n",
       "      <th>0</th>\n",
       "      <td>2022</td>\n",
       "      <td>4</td>\n",
       "      <td>Buenos Aires</td>\n",
       "      <td>5</td>\n",
       "      <td>6.0</td>\n",
       "      <td>5</td>\n",
       "    </tr>\n",
       "    <tr>\n",
       "      <th>1</th>\n",
       "      <td>2022</td>\n",
       "      <td>4</td>\n",
       "      <td>Capital Federal</td>\n",
       "      <td>2</td>\n",
       "      <td>2.0</td>\n",
       "      <td>2</td>\n",
       "    </tr>\n",
       "    <tr>\n",
       "      <th>2</th>\n",
       "      <td>2022</td>\n",
       "      <td>4</td>\n",
       "      <td>Catamarca</td>\n",
       "      <td>71</td>\n",
       "      <td>1.0</td>\n",
       "      <td>71</td>\n",
       "    </tr>\n",
       "    <tr>\n",
       "      <th>3</th>\n",
       "      <td>2022</td>\n",
       "      <td>4</td>\n",
       "      <td>Chaco</td>\n",
       "      <td>144</td>\n",
       "      <td>5.0</td>\n",
       "      <td>144</td>\n",
       "    </tr>\n",
       "    <tr>\n",
       "      <th>4</th>\n",
       "      <td>2022</td>\n",
       "      <td>4</td>\n",
       "      <td>Chubut</td>\n",
       "      <td>168</td>\n",
       "      <td>904.0</td>\n",
       "      <td>169</td>\n",
       "    </tr>\n",
       "  </tbody>\n",
       "</table>\n",
       "</div>"
      ],
      "text/plain": [
       "    Año  Trimestre        Provincia  Banda ancha fija  Dial up  Total\n",
       "0  2022          4     Buenos Aires                 5      6.0      5\n",
       "1  2022          4  Capital Federal                 2      2.0      2\n",
       "2  2022          4        Catamarca                71      1.0     71\n",
       "3  2022          4            Chaco               144      5.0    144\n",
       "4  2022          4           Chubut               168    904.0    169"
      ]
     },
     "execution_count": 3,
     "metadata": {},
     "output_type": "execute_result"
    }
   ],
   "source": [
    "#Accesos a banda ancha y banda angosta por provincia\n",
    "df2 = pd.read_csv(\"datasets/aif_ba_ba_p.csv\")\n",
    "# Mostrar las primeras filas y estadísticas descriptivas : El dataset consta de 864 filas y 6 columnas\n",
    "print(df2.shape)\n",
    "df2.head()"
   ]
  },
  {
   "cell_type": "code",
   "execution_count": 4,
   "metadata": {},
   "outputs": [
    {
     "name": "stdout",
     "output_type": "stream",
     "text": [
      "(864, 12)\n"
     ]
    },
    {
     "data": {
      "text/html": [
       "<div>\n",
       "<style scoped>\n",
       "    .dataframe tbody tr th:only-of-type {\n",
       "        vertical-align: middle;\n",
       "    }\n",
       "\n",
       "    .dataframe tbody tr th {\n",
       "        vertical-align: top;\n",
       "    }\n",
       "\n",
       "    .dataframe thead th {\n",
       "        text-align: right;\n",
       "    }\n",
       "</style>\n",
       "<table border=\"1\" class=\"dataframe\">\n",
       "  <thead>\n",
       "    <tr style=\"text-align: right;\">\n",
       "      <th></th>\n",
       "      <th>Año</th>\n",
       "      <th>Trimestre</th>\n",
       "      <th>Provincia</th>\n",
       "      <th>HASTA 512 kbps</th>\n",
       "      <th>+ 512 Kbps - 1 Mbps</th>\n",
       "      <th>+ 1 Mbps - 6 Mbps</th>\n",
       "      <th>+ 6 Mbps - 10 Mbps</th>\n",
       "      <th>+ 10 Mbps - 20 Mbps</th>\n",
       "      <th>+ 20 Mbps - 30 Mbps</th>\n",
       "      <th>+ 30 Mbps</th>\n",
       "      <th>OTROS</th>\n",
       "      <th>Total</th>\n",
       "    </tr>\n",
       "  </thead>\n",
       "  <tbody>\n",
       "    <tr>\n",
       "      <th>0</th>\n",
       "      <td>2022</td>\n",
       "      <td>4</td>\n",
       "      <td>Buenos Aires</td>\n",
       "      <td>28.934</td>\n",
       "      <td>23.347</td>\n",
       "      <td>259.866</td>\n",
       "      <td>281.550</td>\n",
       "      <td>244.555</td>\n",
       "      <td>98.670</td>\n",
       "      <td>3.760.109</td>\n",
       "      <td>97.634</td>\n",
       "      <td>4.794.665</td>\n",
       "    </tr>\n",
       "    <tr>\n",
       "      <th>1</th>\n",
       "      <td>2022</td>\n",
       "      <td>4</td>\n",
       "      <td>Capital Federal</td>\n",
       "      <td>516.000</td>\n",
       "      <td>5.096</td>\n",
       "      <td>31.320</td>\n",
       "      <td>64.653</td>\n",
       "      <td>36.336</td>\n",
       "      <td>8.116</td>\n",
       "      <td>1.299.117</td>\n",
       "      <td>106.772</td>\n",
       "      <td>1.551.926</td>\n",
       "    </tr>\n",
       "    <tr>\n",
       "      <th>2</th>\n",
       "      <td>2022</td>\n",
       "      <td>4</td>\n",
       "      <td>Catamarca</td>\n",
       "      <td>71.000</td>\n",
       "      <td>315.000</td>\n",
       "      <td>2.716</td>\n",
       "      <td>5.028</td>\n",
       "      <td>4.638</td>\n",
       "      <td>3.122</td>\n",
       "      <td>52.739</td>\n",
       "      <td>2.280</td>\n",
       "      <td>70.909</td>\n",
       "    </tr>\n",
       "    <tr>\n",
       "      <th>3</th>\n",
       "      <td>2022</td>\n",
       "      <td>4</td>\n",
       "      <td>Chaco</td>\n",
       "      <td>461.000</td>\n",
       "      <td>771.000</td>\n",
       "      <td>16.067</td>\n",
       "      <td>17.846</td>\n",
       "      <td>6.704</td>\n",
       "      <td>3.039</td>\n",
       "      <td>94.866</td>\n",
       "      <td>3.909</td>\n",
       "      <td>143.663</td>\n",
       "    </tr>\n",
       "    <tr>\n",
       "      <th>4</th>\n",
       "      <td>2022</td>\n",
       "      <td>4</td>\n",
       "      <td>Chubut</td>\n",
       "      <td>109.000</td>\n",
       "      <td>1.614</td>\n",
       "      <td>46.457</td>\n",
       "      <td>31.007</td>\n",
       "      <td>34.728</td>\n",
       "      <td>15.770</td>\n",
       "      <td>19.048</td>\n",
       "      <td>20.026</td>\n",
       "      <td>168.759</td>\n",
       "    </tr>\n",
       "  </tbody>\n",
       "</table>\n",
       "</div>"
      ],
      "text/plain": [
       "    Año  Trimestre        Provincia  HASTA 512 kbps  + 512 Kbps - 1 Mbps  \\\n",
       "0  2022          4     Buenos Aires          28.934               23.347   \n",
       "1  2022          4  Capital Federal         516.000                5.096   \n",
       "2  2022          4        Catamarca          71.000              315.000   \n",
       "3  2022          4            Chaco         461.000              771.000   \n",
       "4  2022          4           Chubut         109.000                1.614   \n",
       "\n",
       "  + 1 Mbps - 6 Mbps  + 6 Mbps - 10 Mbps  + 10 Mbps - 20 Mbps  \\\n",
       "0           259.866             281.550              244.555   \n",
       "1            31.320              64.653               36.336   \n",
       "2             2.716               5.028                4.638   \n",
       "3            16.067              17.846                6.704   \n",
       "4            46.457              31.007               34.728   \n",
       "\n",
       "   + 20 Mbps - 30 Mbps  + 30 Mbps    OTROS      Total  \n",
       "0               98.670  3.760.109   97.634  4.794.665  \n",
       "1                8.116  1.299.117  106.772  1.551.926  \n",
       "2                3.122     52.739    2.280     70.909  \n",
       "3                3.039     94.866    3.909    143.663  \n",
       "4               15.770     19.048   20.026    168.759  "
      ]
     },
     "execution_count": 4,
     "metadata": {},
     "output_type": "execute_result"
    }
   ],
   "source": [
    "# Acceso a Internet Fijo por rangos de velocidad de bajada y provincia\n",
    "df3 = pd.read_csv(\"datasets/aif_rvdb_p.csv\")\n",
    "# Muestra el datasets\n",
    "# Mostrar las primeras filas y estadísticas descriptivas : El dataset consta de 864 filas y 12 columnas\n",
    "print(df3.shape)\n",
    "df3.head()"
   ]
  },
  {
   "cell_type": "markdown",
   "metadata": {},
   "source": [
    "**Para obtener información detallada sobre la infraestructura y tecnologías por año uno los DataFrames df1, df2, y df3, ejecuto los siguientes pasos**\n"
   ]
  },
  {
   "cell_type": "code",
   "execution_count": 5,
   "metadata": {},
   "outputs": [
    {
     "name": "stdout",
     "output_type": "stream",
     "text": [
      "    Año  Trimestre  Banda ancha fija_x  Dial up_x  Total_x       Periodo  \\\n",
      "0  2022          4                  11         12       11  Oct-Dic 2022   \n",
      "1  2022          4                  11         12       11  Oct-Dic 2022   \n",
      "2  2022          4                  11         12       11  Oct-Dic 2022   \n",
      "3  2022          4                  11         12       11  Oct-Dic 2022   \n",
      "4  2022          4                  11         12       11  Oct-Dic 2022   \n",
      "\n",
      "         Provincia  Banda ancha fija_y  Dial up_y  Total_y  HASTA 512 kbps  \\\n",
      "0     Buenos Aires                   5        6.0        5          28.934   \n",
      "1  Capital Federal                   2        2.0        2         516.000   \n",
      "2        Catamarca                  71        1.0       71          71.000   \n",
      "3            Chaco                 144        5.0      144         461.000   \n",
      "4           Chubut                 168      904.0      169         109.000   \n",
      "\n",
      "   + 512 Kbps - 1 Mbps + 1 Mbps - 6 Mbps  + 6 Mbps - 10 Mbps  \\\n",
      "0               23.347           259.866             281.550   \n",
      "1                5.096            31.320              64.653   \n",
      "2              315.000             2.716               5.028   \n",
      "3              771.000            16.067              17.846   \n",
      "4                1.614            46.457              31.007   \n",
      "\n",
      "   + 10 Mbps - 20 Mbps  + 20 Mbps - 30 Mbps  + 30 Mbps    OTROS      Total  \n",
      "0              244.555               98.670  3.760.109   97.634  4.794.665  \n",
      "1               36.336                8.116  1.299.117  106.772  1.551.926  \n",
      "2                4.638                3.122     52.739    2.280     70.909  \n",
      "3                6.704                3.039     94.866    3.909    143.663  \n",
      "4               34.728               15.770     19.048   20.026    168.759  \n"
     ]
    }
   ],
   "source": [
    "# Unir df1, df2, y df3 por las columnas comunes (Año, Trimestre, Provincia)\n",
    "df_union = pd.merge(df1, df2, on=['Año', 'Trimestre'])\n",
    "df_union = pd.merge(df_union, df3, on=['Año', 'Trimestre', 'Provincia'])\n",
    "\n",
    "# Visualizar las primeras filas del DataFrame resultante\n",
    "print(df_union.head())"
   ]
  },
  {
   "cell_type": "code",
   "execution_count": 6,
   "metadata": {},
   "outputs": [
    {
     "data": {
      "text/html": [
       "<div>\n",
       "<style scoped>\n",
       "    .dataframe tbody tr th:only-of-type {\n",
       "        vertical-align: middle;\n",
       "    }\n",
       "\n",
       "    .dataframe tbody tr th {\n",
       "        vertical-align: top;\n",
       "    }\n",
       "\n",
       "    .dataframe thead th {\n",
       "        text-align: right;\n",
       "    }\n",
       "</style>\n",
       "<table border=\"1\" class=\"dataframe\">\n",
       "  <thead>\n",
       "    <tr style=\"text-align: right;\">\n",
       "      <th></th>\n",
       "      <th>Año</th>\n",
       "      <th>Trimestre</th>\n",
       "      <th>Banda ancha fija_x</th>\n",
       "      <th>Dial up_x</th>\n",
       "      <th>Total_x</th>\n",
       "      <th>Periodo</th>\n",
       "      <th>Provincia</th>\n",
       "      <th>Banda ancha fija_y</th>\n",
       "      <th>Dial up_y</th>\n",
       "      <th>Total_y</th>\n",
       "      <th>HASTA 512 kbps</th>\n",
       "      <th>+ 512 Kbps - 1 Mbps</th>\n",
       "      <th>+ 1 Mbps - 6 Mbps</th>\n",
       "      <th>+ 6 Mbps - 10 Mbps</th>\n",
       "      <th>+ 10 Mbps - 20 Mbps</th>\n",
       "      <th>+ 20 Mbps - 30 Mbps</th>\n",
       "      <th>+ 30 Mbps</th>\n",
       "      <th>OTROS</th>\n",
       "      <th>Total</th>\n",
       "    </tr>\n",
       "  </thead>\n",
       "  <tbody>\n",
       "    <tr>\n",
       "      <th>0</th>\n",
       "      <td>2022</td>\n",
       "      <td>4</td>\n",
       "      <td>11</td>\n",
       "      <td>12</td>\n",
       "      <td>11</td>\n",
       "      <td>Oct-Dic 2022</td>\n",
       "      <td>Buenos Aires</td>\n",
       "      <td>5</td>\n",
       "      <td>6.0</td>\n",
       "      <td>5</td>\n",
       "      <td>28.934</td>\n",
       "      <td>23.347</td>\n",
       "      <td>259.866</td>\n",
       "      <td>281.550</td>\n",
       "      <td>244.555</td>\n",
       "      <td>98.670</td>\n",
       "      <td>3.760.109</td>\n",
       "      <td>97.634</td>\n",
       "      <td>4.794.665</td>\n",
       "    </tr>\n",
       "    <tr>\n",
       "      <th>1</th>\n",
       "      <td>2022</td>\n",
       "      <td>4</td>\n",
       "      <td>11</td>\n",
       "      <td>12</td>\n",
       "      <td>11</td>\n",
       "      <td>Oct-Dic 2022</td>\n",
       "      <td>Capital Federal</td>\n",
       "      <td>2</td>\n",
       "      <td>2.0</td>\n",
       "      <td>2</td>\n",
       "      <td>516.000</td>\n",
       "      <td>5.096</td>\n",
       "      <td>31.320</td>\n",
       "      <td>64.653</td>\n",
       "      <td>36.336</td>\n",
       "      <td>8.116</td>\n",
       "      <td>1.299.117</td>\n",
       "      <td>106.772</td>\n",
       "      <td>1.551.926</td>\n",
       "    </tr>\n",
       "    <tr>\n",
       "      <th>2</th>\n",
       "      <td>2022</td>\n",
       "      <td>4</td>\n",
       "      <td>11</td>\n",
       "      <td>12</td>\n",
       "      <td>11</td>\n",
       "      <td>Oct-Dic 2022</td>\n",
       "      <td>Catamarca</td>\n",
       "      <td>71</td>\n",
       "      <td>1.0</td>\n",
       "      <td>71</td>\n",
       "      <td>71.000</td>\n",
       "      <td>315.000</td>\n",
       "      <td>2.716</td>\n",
       "      <td>5.028</td>\n",
       "      <td>4.638</td>\n",
       "      <td>3.122</td>\n",
       "      <td>52.739</td>\n",
       "      <td>2.280</td>\n",
       "      <td>70.909</td>\n",
       "    </tr>\n",
       "    <tr>\n",
       "      <th>3</th>\n",
       "      <td>2022</td>\n",
       "      <td>4</td>\n",
       "      <td>11</td>\n",
       "      <td>12</td>\n",
       "      <td>11</td>\n",
       "      <td>Oct-Dic 2022</td>\n",
       "      <td>Chaco</td>\n",
       "      <td>144</td>\n",
       "      <td>5.0</td>\n",
       "      <td>144</td>\n",
       "      <td>461.000</td>\n",
       "      <td>771.000</td>\n",
       "      <td>16.067</td>\n",
       "      <td>17.846</td>\n",
       "      <td>6.704</td>\n",
       "      <td>3.039</td>\n",
       "      <td>94.866</td>\n",
       "      <td>3.909</td>\n",
       "      <td>143.663</td>\n",
       "    </tr>\n",
       "    <tr>\n",
       "      <th>4</th>\n",
       "      <td>2022</td>\n",
       "      <td>4</td>\n",
       "      <td>11</td>\n",
       "      <td>12</td>\n",
       "      <td>11</td>\n",
       "      <td>Oct-Dic 2022</td>\n",
       "      <td>Chubut</td>\n",
       "      <td>168</td>\n",
       "      <td>904.0</td>\n",
       "      <td>169</td>\n",
       "      <td>109.000</td>\n",
       "      <td>1.614</td>\n",
       "      <td>46.457</td>\n",
       "      <td>31.007</td>\n",
       "      <td>34.728</td>\n",
       "      <td>15.770</td>\n",
       "      <td>19.048</td>\n",
       "      <td>20.026</td>\n",
       "      <td>168.759</td>\n",
       "    </tr>\n",
       "  </tbody>\n",
       "</table>\n",
       "</div>"
      ],
      "text/plain": [
       "    Año  Trimestre  Banda ancha fija_x  Dial up_x  Total_x       Periodo  \\\n",
       "0  2022          4                  11         12       11  Oct-Dic 2022   \n",
       "1  2022          4                  11         12       11  Oct-Dic 2022   \n",
       "2  2022          4                  11         12       11  Oct-Dic 2022   \n",
       "3  2022          4                  11         12       11  Oct-Dic 2022   \n",
       "4  2022          4                  11         12       11  Oct-Dic 2022   \n",
       "\n",
       "         Provincia  Banda ancha fija_y  Dial up_y  Total_y  HASTA 512 kbps  \\\n",
       "0     Buenos Aires                   5        6.0        5          28.934   \n",
       "1  Capital Federal                   2        2.0        2         516.000   \n",
       "2        Catamarca                  71        1.0       71          71.000   \n",
       "3            Chaco                 144        5.0      144         461.000   \n",
       "4           Chubut                 168      904.0      169         109.000   \n",
       "\n",
       "   + 512 Kbps - 1 Mbps + 1 Mbps - 6 Mbps  + 6 Mbps - 10 Mbps  \\\n",
       "0               23.347           259.866             281.550   \n",
       "1                5.096            31.320              64.653   \n",
       "2              315.000             2.716               5.028   \n",
       "3              771.000            16.067              17.846   \n",
       "4                1.614            46.457              31.007   \n",
       "\n",
       "   + 10 Mbps - 20 Mbps  + 20 Mbps - 30 Mbps  + 30 Mbps    OTROS      Total  \n",
       "0              244.555               98.670  3.760.109   97.634  4.794.665  \n",
       "1               36.336                8.116  1.299.117  106.772  1.551.926  \n",
       "2                4.638                3.122     52.739    2.280     70.909  \n",
       "3                6.704                3.039     94.866    3.909    143.663  \n",
       "4               34.728               15.770     19.048   20.026    168.759  "
      ]
     },
     "execution_count": 6,
     "metadata": {},
     "output_type": "execute_result"
    }
   ],
   "source": [
    "df_union.head()"
   ]
  },
  {
   "cell_type": "code",
   "execution_count": 7,
   "metadata": {},
   "outputs": [
    {
     "name": "stdout",
     "output_type": "stream",
     "text": [
      "               Año   Trimestre  Banda ancha fija_x   Dial up_x     Total_x  \\\n",
      "count   864.000000  864.000000          864.000000  864.000000  864.000000   \n",
      "mean   2018.000000    2.500000            8.361111   23.083333    8.361111   \n",
      "std       2.583484    1.118682            1.475695   10.034587    1.475695   \n",
      "min    2014.000000    1.000000            6.000000   10.000000    6.000000   \n",
      "25%    2016.000000    1.750000            7.000000   12.000000    7.000000   \n",
      "50%    2018.000000    2.500000            8.000000   27.000000    8.000000   \n",
      "75%    2020.000000    3.250000            9.250000   32.250000    9.250000   \n",
      "max    2022.000000    4.000000           11.000000   39.000000   11.000000   \n",
      "\n",
      "       Banda ancha fija_y   Dial up_y     Total_y  HASTA 512 kbps  \\\n",
      "count          864.000000  862.000000  864.000000      864.000000   \n",
      "mean           137.326389  150.595128  137.636574      126.069829   \n",
      "std            180.812265  230.167337  180.798813      186.417712   \n",
      "min              1.000000    0.000000    1.000000        1.007000   \n",
      "25%             39.000000    2.000000   39.750000       11.000000   \n",
      "50%             90.500000   16.000000   91.000000       51.000000   \n",
      "75%            143.000000  253.500000  143.250000      133.250000   \n",
      "max            987.000000  998.000000  987.000000      998.000000   \n",
      "\n",
      "       + 512 Kbps - 1 Mbps  + 6 Mbps - 10 Mbps  + 10 Mbps - 20 Mbps  \\\n",
      "count           864.000000          864.000000           864.000000   \n",
      "mean            104.202722           70.717505            78.652155   \n",
      "std             211.789353          138.831868           168.570068   \n",
      "min               0.000000            0.000000             0.000000   \n",
      "25%               3.310750            5.410250             5.000000   \n",
      "50%               8.762000           20.208000            15.159000   \n",
      "75%              85.525500           61.934500            51.959500   \n",
      "max             999.000000          917.000000           978.000000   \n",
      "\n",
      "       + 20 Mbps - 30 Mbps       OTROS  \n",
      "count           864.000000  858.000000  \n",
      "mean             99.993059   34.439517  \n",
      "std             207.349280  133.288022  \n",
      "min               0.000000   -1.945000  \n",
      "25%               2.091000    0.000000  \n",
      "50%              11.042500    0.000000  \n",
      "75%              64.286250    7.939750  \n",
      "max             997.000000  989.000000  \n"
     ]
    }
   ],
   "source": [
    "# Vizualizo la informcion descriptiva y estadistica de dataframe \n",
    "print(df_union.describe())"
   ]
  },
  {
   "cell_type": "code",
   "execution_count": 8,
   "metadata": {},
   "outputs": [
    {
     "name": "stdout",
     "output_type": "stream",
     "text": [
      "Año                    0\n",
      "Trimestre              0\n",
      "Banda ancha fija_x     0\n",
      "Dial up_x              0\n",
      "Total_x                0\n",
      "Periodo                0\n",
      "Provincia              0\n",
      "Banda ancha fija_y     0\n",
      "Dial up_y              2\n",
      "Total_y                0\n",
      "HASTA 512 kbps         0\n",
      "+ 512 Kbps - 1 Mbps    0\n",
      "+ 1 Mbps - 6 Mbps      0\n",
      "+ 6 Mbps - 10 Mbps     0\n",
      "+ 10 Mbps - 20 Mbps    0\n",
      "+ 20 Mbps - 30 Mbps    0\n",
      "+ 30 Mbps              0\n",
      "OTROS                  6\n",
      "Total                  0\n",
      "dtype: int64\n"
     ]
    }
   ],
   "source": [
    "# Contar valores nulos por columna: Se observan poca cantidad de valores NaN respecto al total de datos por lo que decido eliminarlos, \n",
    "print(df_union.isnull().sum())\n"
   ]
  },
  {
   "cell_type": "code",
   "execution_count": 9,
   "metadata": {},
   "outputs": [
    {
     "name": "stdout",
     "output_type": "stream",
     "text": [
      "    Año  Trimestre  Banda ancha fija_x  Dial up_x  Total_x       Periodo  \\\n",
      "0  2022          4                  11         12       11  Oct-Dic 2022   \n",
      "1  2022          4                  11         12       11  Oct-Dic 2022   \n",
      "2  2022          4                  11         12       11  Oct-Dic 2022   \n",
      "3  2022          4                  11         12       11  Oct-Dic 2022   \n",
      "4  2022          4                  11         12       11  Oct-Dic 2022   \n",
      "\n",
      "         Provincia  Banda ancha fija_y  Dial up_y  Total_y  HASTA 512 kbps  \\\n",
      "0     Buenos Aires                   5        6.0        5          28.934   \n",
      "1  Capital Federal                   2        2.0        2         516.000   \n",
      "2        Catamarca                  71        1.0       71          71.000   \n",
      "3            Chaco                 144        5.0      144         461.000   \n",
      "4           Chubut                 168      904.0      169         109.000   \n",
      "\n",
      "   + 512 Kbps - 1 Mbps + 1 Mbps - 6 Mbps  + 6 Mbps - 10 Mbps  \\\n",
      "0               23.347           259.866             281.550   \n",
      "1                5.096            31.320              64.653   \n",
      "2              315.000             2.716               5.028   \n",
      "3              771.000            16.067              17.846   \n",
      "4                1.614            46.457              31.007   \n",
      "\n",
      "   + 10 Mbps - 20 Mbps  + 20 Mbps - 30 Mbps  + 30 Mbps    OTROS      Total  \n",
      "0              244.555               98.670  3.760.109   97.634  4.794.665  \n",
      "1               36.336                8.116  1.299.117  106.772  1.551.926  \n",
      "2                4.638                3.122     52.739    2.280     70.909  \n",
      "3                6.704                3.039     94.866    3.909    143.663  \n",
      "4               34.728               15.770     19.048   20.026    168.759  \n"
     ]
    }
   ],
   "source": [
    "# Reemplazar NaN por 0 en el DataFrame \n",
    "df_union.fillna(0, inplace=True)\n",
    "\n",
    "# Visualizar las primeras filas del DataFrame después del reemplazo\n",
    "print(df_union.head())\n"
   ]
  },
  {
   "cell_type": "code",
   "execution_count": 10,
   "metadata": {},
   "outputs": [
    {
     "name": "stdout",
     "output_type": "stream",
     "text": [
      "<class 'pandas.core.frame.DataFrame'>\n",
      "RangeIndex: 864 entries, 0 to 863\n",
      "Data columns (total 19 columns):\n",
      " #   Column               Non-Null Count  Dtype  \n",
      "---  ------               --------------  -----  \n",
      " 0   Año                  864 non-null    int64  \n",
      " 1   Trimestre            864 non-null    int64  \n",
      " 2   Banda ancha fija_x   864 non-null    int64  \n",
      " 3   Dial up_x            864 non-null    int64  \n",
      " 4   Total_x              864 non-null    int64  \n",
      " 5   Periodo              864 non-null    object \n",
      " 6   Provincia            864 non-null    object \n",
      " 7   Banda ancha fija_y   864 non-null    int64  \n",
      " 8   Dial up_y            864 non-null    float64\n",
      " 9   Total_y              864 non-null    int64  \n",
      " 10  HASTA 512 kbps       864 non-null    float64\n",
      " 11  + 512 Kbps - 1 Mbps  864 non-null    float64\n",
      " 12  + 1 Mbps - 6 Mbps    864 non-null    object \n",
      " 13  + 6 Mbps - 10 Mbps   864 non-null    float64\n",
      " 14  + 10 Mbps - 20 Mbps  864 non-null    float64\n",
      " 15  + 20 Mbps - 30 Mbps  864 non-null    float64\n",
      " 16  + 30 Mbps            864 non-null    object \n",
      " 17  OTROS                864 non-null    float64\n",
      " 18  Total                864 non-null    object \n",
      "dtypes: float64(7), int64(7), object(5)\n",
      "memory usage: 128.4+ KB\n"
     ]
    }
   ],
   "source": [
    "# Este método imprime información sobre un DataFrame, incluido el tipo de índice y las columnas, valores no nulos y uso de memoria.\n",
    "df_union.info()"
   ]
  },
  {
   "cell_type": "code",
   "execution_count": 11,
   "metadata": {},
   "outputs": [],
   "source": [
    "# Lista de columnas a convertir a tipo entero\n",
    "columns_to_convert = ['+ 1 Mbps - 6 Mbps', '+ 30 Mbps']\n",
    "\n",
    "# Convertir las columnas a tipo entero\n",
    "df_union[columns_to_convert] = df_union[columns_to_convert].apply(pd.to_numeric, errors='coerce', downcast='integer')\n",
    "\n"
   ]
  },
  {
   "cell_type": "code",
   "execution_count": 12,
   "metadata": {},
   "outputs": [
    {
     "name": "stdout",
     "output_type": "stream",
     "text": [
      "Cantidad de duplicados: 0\n"
     ]
    }
   ],
   "source": [
    "\n",
    "# Visualizacion de duplicados\n",
    "cantidad_duplicados = df_union.duplicated().sum()\n",
    "print(\"Cantidad de duplicados:\", cantidad_duplicados)\n"
   ]
  },
  {
   "cell_type": "markdown",
   "metadata": {},
   "source": [
    "**Determino la cantidad de outliers que Banda ancha fija_y', 'Dial up_y , variables numericas con su respectivo grafico donde se visualizan los mismos.**"
   ]
  },
  {
   "cell_type": "code",
   "execution_count": 13,
   "metadata": {},
   "outputs": [
    {
     "name": "stdout",
     "output_type": "stream",
     "text": [
      "\n",
      "Outliers en la columna 'Banda ancha fija_y':\n",
      "20     888\n",
      "44     888\n",
      "68     879\n",
      "92     870\n",
      "101    987\n",
      "      ... \n",
      "812    520\n",
      "821    577\n",
      "836    512\n",
      "845    567\n",
      "860    506\n",
      "Name: Banda ancha fija_y, Length: 68, dtype: int64\n"
     ]
    },
    {
     "data": {
      "image/png": "[encoded data removed]",
      "text/plain": [
       "<Figure size 600x400 with 1 Axes>"
      ]
     },
     "metadata": {},
     "output_type": "display_data"
    },
    {
     "name": "stdout",
     "output_type": "stream",
     "text": [
      "\n",
      "Outliers en la columna 'Dial up_y':\n",
      "4      904.0\n",
      "12     777.0\n",
      "28     904.0\n",
      "36     777.0\n",
      "52     904.0\n",
      "       ...  \n",
      "814    755.0\n",
      "833    755.0\n",
      "838    766.0\n",
      "857    755.0\n",
      "862    766.0\n",
      "Name: Dial up_y, Length: 65, dtype: float64\n"
     ]
    },
    {
     "data": {
      "image/png": "[encoded data removed]",
      "text/plain": [
       "<Figure size 600x400 with 1 Axes>"
      ]
     },
     "metadata": {},
     "output_type": "display_data"
    }
   ],
   "source": [
    "\n",
    "# Método de Tukey para encontrar outliers\n",
    "def detect_outliers(data, column):\n",
    "    Q1 = data[column].quantile(0.25)\n",
    "    Q3 = data[column].quantile(0.75)\n",
    "    IQR = Q3 - Q1\n",
    "    lower_bound = Q1 - 1.5 * IQR\n",
    "    upper_bound = Q3 + 1.5 * IQR\n",
    "    outliers = (data[column] < lower_bound) | (data[column] > upper_bound)\n",
    "    return outliers\n",
    "\n",
    "# Lista de columnas específicas para detectar outliers\n",
    "columns_to_check = ['Banda ancha fija_y', 'Dial up_y',]\n",
    "\n",
    "# Crear un DataFrame para almacenar información sobre valores atípicos\n",
    "outliers_df = pd.DataFrame(index=df_union.index)\n",
    "\n",
    "# Detectar outliers en las columnas específicas\n",
    "for column in columns_to_check:\n",
    "    outliers_df[column] = detect_outliers(df_union, column)\n",
    "\n",
    "    # Imprimir valores atípicos en la columna\n",
    "    print(f\"\\nOutliers en la columna '{column}':\")\n",
    "    print(df_union.loc[outliers_df[column], column])\n",
    "\n",
    "    # Visualizar los outliers con colores\n",
    "    plt.figure(figsize=(6, 4))\n",
    "    sns.heatmap(outliers_df[[column]], cmap='viridis', cbar=False)\n",
    "    plt.title(f'Outliers en la columna {column}')\n",
    "    plt.show()\n"
   ]
  },
  {
   "cell_type": "markdown",
   "metadata": {},
   "source": [
    "Valores atípicos (outliers) detectados para cada una de las columnas específicas. En este contexto, los valores atípicos son aquellos que están fuera del rango intercuartílico (IQR), según el criterio del boxplot (Diagrama de Caja). Explicare cómo interpreto estos resultados utilizando un ejemplo de la columna 'Banda ancha fija_y':\n",
    "\n",
    "Eje x (Índice): Los números en la columna izquierda ('20', '44', '68', etc.) son los índices de las filas en el DataFrame donde se encuentran los valores atípicos.\n",
    "\n",
    "Eje y (Valores Atípicos): Los números en la columna derecha ('888', '888', '879', etc.) son los valores específicos que se consideran atípicos en la columna 'Banda ancha fija_y'.\n",
    "\n",
    "Las filas en este ejemplo,  que tienen estos índices ('20', '44', '68', etc.) contienen valores que están fuera del rango intercuartílico para la columna 'Banda ancha fija_y'.\n",
    "Por ejemplo, en la fila con índice '20', el valor en la columna 'Banda ancha fija_y' es '888', lo que indica que este valor se considera atípico según el criterio del boxplot.\n",
    "\n",
    "En vista a que los valores atipicos de las columnas 'Banda ancha fija_y'. y Dial up_y son pocos (133) respecto al total de datos (856 c/columna), considere no hacerle ningun tratamiento, tomando en cuenta la variabilidad geográfica y demográfica de las provincias en Argentina. Algunas provincias pueden tener características únicas que resulten en valores atípicos sin que representen errores en los datos.\n",
    "\n"
   ]
  },
  {
   "cell_type": "code",
   "execution_count": 14,
   "metadata": {},
   "outputs": [
    {
     "name": "stdout",
     "output_type": "stream",
     "text": [
      "Total de valores atípicos por variable:\n",
      "Banda ancha fija_y    68\n",
      "Dial up_y             65\n",
      "dtype: int64\n",
      "\n",
      "Total general de valores atípicos en todo el conjunto de datos: 133\n"
     ]
    }
   ],
   "source": [
    "# Calcula el total de valores atípicos por variable del Dataframe df_union \n",
    "total_outliers_por_variable = outliers_df.sum()\n",
    "\n",
    "# Mostrar el resultado\n",
    "print(\"Total de valores atípicos por variable:\")\n",
    "print(total_outliers_por_variable)\n",
    "\n",
    "# Calcular el total general de valores atípicos en todo el conjunto de datos\n",
    "total_general_valores_atipicos = outliers_df.sum().sum()\n",
    "\n",
    "# Mostrar el total general de valores atípicos en todo el conjunto de datos\n",
    "print(\"\\nTotal general de valores atípicos en todo el conjunto de datos:\", total_general_valores_atipicos)\n",
    "\n"
   ]
  },
  {
   "cell_type": "code",
   "execution_count": 15,
   "metadata": {},
   "outputs": [
    {
     "data": {
      "image/png": "[encoded data removed]",
      "text/plain": [
       "<Figure size 1000x600 with 1 Axes>"
      ]
     },
     "metadata": {},
     "output_type": "display_data"
    }
   ],
   "source": [
    "# Crear un gráfico de barras para mostrar el total de valores atípicos por variable\n",
    "plt.figure(figsize=(10, 6))\n",
    "total_outliers_por_variable.plot(kind='bar', color='skyblue')\n",
    "plt.title('Total de Valores Atípicos por Variable')\n",
    "plt.xlabel('Variable')\n",
    "plt.ylabel('Total de Valores Atípicos')\n",
    "plt.show()\n"
   ]
  },
  {
   "cell_type": "markdown",
   "metadata": {},
   "source": [
    "# Visualizaciones: \n",
    "# 1- Evolución de Accesos por Año por tipo de red."
   ]
  },
  {
   "cell_type": "code",
   "execution_count": 16,
   "metadata": {},
   "outputs": [
    {
     "data": {
      "application/vnd.plotly.v1+json": {
       "config": {
        "plotlyServerURL": "https://plot.ly"
       },
       "data": [
        {
         "marker": {
          "color": "rgb(55, 83, 109)"
         },
         "name": "Banda ancha fija_y",
         "type": "bar",
         "x": [
          2014,
          2015,
          2016,
          2017,
          2018,
          2019,
          2020,
          2021,
          2022
         ],
         "y": [
          9600,
          10391,
          10718,
          11654,
          13207,
          14697,
          15857,
          17537,
          14989
         ]
        },
        {
         "line": {
          "color": "rgb(219, 64, 82)",
          "width": 2
         },
         "name": "Dial up_y",
         "type": "scatter",
         "x": [
          2014,
          2015,
          2016,
          2017,
          2018,
          2019,
          2020,
          2021,
          2022
         ],
         "y": [
          17322,
          15161,
          13311,
          12944,
          11573,
          13746,
          14239,
          15035,
          16482
         ],
         "yaxis": "y2"
        }
       ],
       "layout": {
        "autosize": false,
        "height": 500,
        "showlegend": false,
        "template": {
         "data": {
          "bar": [
           {
            "error_x": {
             "color": "#2a3f5f"
            },
            "error_y": {
             "color": "#2a3f5f"
            },
            "marker": {
             "line": {
              "color": "white",
              "width": 0.5
             },
             "pattern": {
              "fillmode": "overlay",
              "size": 10,
              "solidity": 0.2
             }
            },
            "type": "bar"
           }
          ],
          "barpolar": [
           {
            "marker": {
             "line": {
              "color": "white",
              "width": 0.5
             },
             "pattern": {
              "fillmode": "overlay",
              "size": 10,
              "solidity": 0.2
             }
            },
            "type": "barpolar"
           }
          ],
          "carpet": [
           {
            "aaxis": {
             "endlinecolor": "#2a3f5f",
             "gridcolor": "#C8D4E3",
             "linecolor": "#C8D4E3",
             "minorgridcolor": "#C8D4E3",
             "startlinecolor": "#2a3f5f"
            },
            "baxis": {
             "endlinecolor": "#2a3f5f",
             "gridcolor": "#C8D4E3",
             "linecolor": "#C8D4E3",
             "minorgridcolor": "#C8D4E3",
             "startlinecolor": "#2a3f5f"
            },
            "type": "carpet"
           }
          ],
          "choropleth": [
           {
            "colorbar": {
             "outlinewidth": 0,
             "ticks": ""
            },
            "type": "choropleth"
           }
          ],
          "contour": [
           {
            "colorbar": {
             "outlinewidth": 0,
             "ticks": ""
            },
            "colorscale": [
             [
              0,
              "#0d0887"
             ],
             [
              0.1111111111111111,
              "#46039f"
             ],
             [
              0.2222222222222222,
              "#7201a8"
             ],
             [
              0.3333333333333333,
              "#9c179e"
             ],
             [
              0.4444444444444444,
              "#bd3786"
             ],
             [
              0.5555555555555556,
              "#d8576b"
             ],
             [
              0.6666666666666666,
              "#ed7953"
             ],
             [
              0.7777777777777778,
              "#fb9f3a"
             ],
             [
              0.8888888888888888,
              "#fdca26"
             ],
             [
              1,
              "#f0f921"
             ]
            ],
            "type": "contour"
           }
          ],
          "contourcarpet": [
           {
            "colorbar": {
             "outlinewidth": 0,
             "ticks": ""
            },
            "type": "contourcarpet"
           }
          ],
          "heatmap": [
           {
            "colorbar": {
             "outlinewidth": 0,
             "ticks": ""
            },
            "colorscale": [
             [
              0,
              "#0d0887"
             ],
             [
              0.1111111111111111,
              "#46039f"
             ],
             [
              0.2222222222222222,
              "#7201a8"
             ],
             [
              0.3333333333333333,
              "#9c179e"
             ],
             [
              0.4444444444444444,
              "#bd3786"
             ],
             [
              0.5555555555555556,
              "#d8576b"
             ],
             [
              0.6666666666666666,
              "#ed7953"
             ],
             [
              0.7777777777777778,
              "#fb9f3a"
             ],
             [
              0.8888888888888888,
              "#fdca26"
             ],
             [
              1,
              "#f0f921"
             ]
            ],
            "type": "heatmap"
           }
          ],
          "heatmapgl": [
           {
            "colorbar": {
             "outlinewidth": 0,
             "ticks": ""
            },
            "colorscale": [
             [
              0,
              "#0d0887"
             ],
             [
              0.1111111111111111,
              "#46039f"
             ],
             [
              0.2222222222222222,
              "#7201a8"
             ],
             [
              0.3333333333333333,
              "#9c179e"
             ],
             [
              0.4444444444444444,
              "#bd3786"
             ],
             [
              0.5555555555555556,
              "#d8576b"
             ],
             [
              0.6666666666666666,
              "#ed7953"
             ],
             [
              0.7777777777777778,
              "#fb9f3a"
             ],
             [
              0.8888888888888888,
              "#fdca26"
             ],
             [
              1,
              "#f0f921"
             ]
            ],
            "type": "heatmapgl"
           }
          ],
          "histogram": [
           {
            "marker": {
             "pattern": {
              "fillmode": "overlay",
              "size": 10,
              "solidity": 0.2
             }
            },
            "type": "histogram"
           }
          ],
          "histogram2d": [
           {
            "colorbar": {
             "outlinewidth": 0,
             "ticks": ""
            },
            "colorscale": [
             [
              0,
              "#0d0887"
             ],
             [
              0.1111111111111111,
              "#46039f"
             ],
             [
              0.2222222222222222,
              "#7201a8"
             ],
             [
              0.3333333333333333,
              "#9c179e"
             ],
             [
              0.4444444444444444,
              "#bd3786"
             ],
             [
              0.5555555555555556,
              "#d8576b"
             ],
             [
              0.6666666666666666,
              "#ed7953"
             ],
             [
              0.7777777777777778,
              "#fb9f3a"
             ],
             [
              0.8888888888888888,
              "#fdca26"
             ],
             [
              1,
              "#f0f921"
             ]
            ],
            "type": "histogram2d"
           }
          ],
          "histogram2dcontour": [
           {
            "colorbar": {
             "outlinewidth": 0,
             "ticks": ""
            },
            "colorscale": [
             [
              0,
              "#0d0887"
             ],
             [
              0.1111111111111111,
              "#46039f"
             ],
             [
              0.2222222222222222,
              "#7201a8"
             ],
             [
              0.3333333333333333,
              "#9c179e"
             ],
             [
              0.4444444444444444,
              "#bd3786"
             ],
             [
              0.5555555555555556,
              "#d8576b"
             ],
             [
              0.6666666666666666,
              "#ed7953"
             ],
             [
              0.7777777777777778,
              "#fb9f3a"
             ],
             [
              0.8888888888888888,
              "#fdca26"
             ],
             [
              1,
              "#f0f921"
             ]
            ],
            "type": "histogram2dcontour"
           }
          ],
          "mesh3d": [
           {
            "colorbar": {
             "outlinewidth": 0,
             "ticks": ""
            },
            "type": "mesh3d"
           }
          ],
          "parcoords": [
           {
            "line": {
             "colorbar": {
              "outlinewidth": 0,
              "ticks": ""
             }
            },
            "type": "parcoords"
           }
          ],
          "pie": [
           {
            "automargin": true,
            "type": "pie"
           }
          ],
          "scatter": [
           {
            "fillpattern": {
             "fillmode": "overlay",
             "size": 10,
             "solidity": 0.2
            },
            "type": "scatter"
           }
          ],
          "scatter3d": [
           {
            "line": {
             "colorbar": {
              "outlinewidth": 0,
              "ticks": ""
             }
            },
            "marker": {
             "colorbar": {
              "outlinewidth": 0,
              "ticks": ""
             }
            },
            "type": "scatter3d"
           }
          ],
          "scattercarpet": [
           {
            "marker": {
             "colorbar": {
              "outlinewidth": 0,
              "ticks": ""
             }
            },
            "type": "scattercarpet"
           }
          ],
          "scattergeo": [
           {
            "marker": {
             "colorbar": {
              "outlinewidth": 0,
              "ticks": ""
             }
            },
            "type": "scattergeo"
           }
          ],
          "scattergl": [
           {
            "marker": {
             "colorbar": {
              "outlinewidth": 0,
              "ticks": ""
             }
            },
            "type": "scattergl"
           }
          ],
          "scattermapbox": [
           {
            "marker": {
             "colorbar": {
              "outlinewidth": 0,
              "ticks": ""
             }
            },
            "type": "scattermapbox"
           }
          ],
          "scatterpolar": [
           {
            "marker": {
             "colorbar": {
              "outlinewidth": 0,
              "ticks": ""
             }
            },
            "type": "scatterpolar"
           }
          ],
          "scatterpolargl": [
           {
            "marker": {
             "colorbar": {
              "outlinewidth": 0,
              "ticks": ""
             }
            },
            "type": "scatterpolargl"
           }
          ],
          "scatterternary": [
           {
            "marker": {
             "colorbar": {
              "outlinewidth": 0,
              "ticks": ""
             }
            },
            "type": "scatterternary"
           }
          ],
          "surface": [
           {
            "colorbar": {
             "outlinewidth": 0,
             "ticks": ""
            },
            "colorscale": [
             [
              0,
              "#0d0887"
             ],
             [
              0.1111111111111111,
              "#46039f"
             ],
             [
              0.2222222222222222,
              "#7201a8"
             ],
             [
              0.3333333333333333,
              "#9c179e"
             ],
             [
              0.4444444444444444,
              "#bd3786"
             ],
             [
              0.5555555555555556,
              "#d8576b"
             ],
             [
              0.6666666666666666,
              "#ed7953"
             ],
             [
              0.7777777777777778,
              "#fb9f3a"
             ],
             [
              0.8888888888888888,
              "#fdca26"
             ],
             [
              1,
              "#f0f921"
             ]
            ],
            "type": "surface"
           }
          ],
          "table": [
           {
            "cells": {
             "fill": {
              "color": "#EBF0F8"
             },
             "line": {
              "color": "white"
             }
            },
            "header": {
             "fill": {
              "color": "#C8D4E3"
             },
             "line": {
              "color": "white"
             }
            },
            "type": "table"
           }
          ]
         },
         "layout": {
          "annotationdefaults": {
           "arrowcolor": "#2a3f5f",
           "arrowhead": 0,
           "arrowwidth": 1
          },
          "autotypenumbers": "strict",
          "coloraxis": {
           "colorbar": {
            "outlinewidth": 0,
            "ticks": ""
           }
          },
          "colorscale": {
           "diverging": [
            [
             0,
             "#8e0152"
            ],
            [
             0.1,
             "#c51b7d"
            ],
            [
             0.2,
             "#de77ae"
            ],
            [
             0.3,
             "#f1b6da"
            ],
            [
             0.4,
             "#fde0ef"
            ],
            [
             0.5,
             "#f7f7f7"
            ],
            [
             0.6,
             "#e6f5d0"
            ],
            [
             0.7,
             "#b8e186"
            ],
            [
             0.8,
             "#7fbc41"
            ],
            [
             0.9,
             "#4d9221"
            ],
            [
             1,
             "#276419"
            ]
           ],
           "sequential": [
            [
             0,
             "#0d0887"
            ],
            [
             0.1111111111111111,
             "#46039f"
            ],
            [
             0.2222222222222222,
             "#7201a8"
            ],
            [
             0.3333333333333333,
             "#9c179e"
            ],
            [
             0.4444444444444444,
             "#bd3786"
            ],
            [
             0.5555555555555556,
             "#d8576b"
            ],
            [
             0.6666666666666666,
             "#ed7953"
            ],
            [
             0.7777777777777778,
             "#fb9f3a"
            ],
            [
             0.8888888888888888,
             "#fdca26"
            ],
            [
             1,
             "#f0f921"
            ]
           ],
           "sequentialminus": [
            [
             0,
             "#0d0887"
            ],
            [
             0.1111111111111111,
             "#46039f"
            ],
            [
             0.2222222222222222,
             "#7201a8"
            ],
            [
             0.3333333333333333,
             "#9c179e"
            ],
            [
             0.4444444444444444,
             "#bd3786"
            ],
            [
             0.5555555555555556,
             "#d8576b"
            ],
            [
             0.6666666666666666,
             "#ed7953"
            ],
            [
             0.7777777777777778,
             "#fb9f3a"
            ],
            [
             0.8888888888888888,
             "#fdca26"
            ],
            [
             1,
             "#f0f921"
            ]
           ]
          },
          "colorway": [
           "#636efa",
           "#EF553B",
           "#00cc96",
           "#ab63fa",
           "#FFA15A",
           "#19d3f3",
           "#FF6692",
           "#B6E880",
           "#FF97FF",
           "#FECB52"
          ],
          "font": {
           "color": "#2a3f5f"
          },
          "geo": {
           "bgcolor": "white",
           "lakecolor": "white",
           "landcolor": "white",
           "showlakes": true,
           "showland": true,
           "subunitcolor": "#C8D4E3"
          },
          "hoverlabel": {
           "align": "left"
          },
          "hovermode": "closest",
          "mapbox": {
           "style": "light"
          },
          "paper_bgcolor": "white",
          "plot_bgcolor": "white",
          "polar": {
           "angularaxis": {
            "gridcolor": "#EBF0F8",
            "linecolor": "#EBF0F8",
            "ticks": ""
           },
           "bgcolor": "white",
           "radialaxis": {
            "gridcolor": "#EBF0F8",
            "linecolor": "#EBF0F8",
            "ticks": ""
           }
          },
          "scene": {
           "xaxis": {
            "backgroundcolor": "white",
            "gridcolor": "#DFE8F3",
            "gridwidth": 2,
            "linecolor": "#EBF0F8",
            "showbackground": true,
            "ticks": "",
            "zerolinecolor": "#EBF0F8"
           },
           "yaxis": {
            "backgroundcolor": "white",
            "gridcolor": "#DFE8F3",
            "gridwidth": 2,
            "linecolor": "#EBF0F8",
            "showbackground": true,
            "ticks": "",
            "zerolinecolor": "#EBF0F8"
           },
           "zaxis": {
            "backgroundcolor": "white",
            "gridcolor": "#DFE8F3",
            "gridwidth": 2,
            "linecolor": "#EBF0F8",
            "showbackground": true,
            "ticks": "",
            "zerolinecolor": "#EBF0F8"
           }
          },
          "shapedefaults": {
           "line": {
            "color": "#2a3f5f"
           }
          },
          "ternary": {
           "aaxis": {
            "gridcolor": "#DFE8F3",
            "linecolor": "#A2B1C6",
            "ticks": ""
           },
           "baxis": {
            "gridcolor": "#DFE8F3",
            "linecolor": "#A2B1C6",
            "ticks": ""
           },
           "bgcolor": "white",
           "caxis": {
            "gridcolor": "#DFE8F3",
            "linecolor": "#A2B1C6",
            "ticks": ""
           }
          },
          "title": {
           "x": 0.05
          },
          "xaxis": {
           "automargin": true,
           "gridcolor": "#EBF0F8",
           "linecolor": "#EBF0F8",
           "ticks": "",
           "title": {
            "standoff": 15
           },
           "zerolinecolor": "#EBF0F8",
           "zerolinewidth": 2
          },
          "yaxis": {
           "automargin": true,
           "gridcolor": "#EBF0F8",
           "linecolor": "#EBF0F8",
           "ticks": "",
           "title": {
            "standoff": 15
           },
           "zerolinecolor": "#EBF0F8",
           "zerolinewidth": 2
          }
         }
        },
        "title": {
         "text": "Evolución de Accesos por Año"
        },
        "width": 500,
        "xaxis": {
         "title": {
          "text": "Año"
         }
        },
        "yaxis": {
         "title": {
          "text": "Banda ancha fija_y"
         }
        },
        "yaxis2": {
         "overlaying": "y",
         "side": "right",
         "title": {
          "text": "Dial up_y"
         }
        }
       }
      }
     },
     "metadata": {},
     "output_type": "display_data"
    }
   ],
   "source": [
    "df = df_union\n",
    "\n",
    "# Agrupamos los datos por año y calculamos la suma de 'Banda ancha fija_y' y 'Dial up_y'\n",
    "grouped = df.groupby('Año')[['Banda ancha fija_y', 'Dial up_y']].sum()\n",
    "\n",
    "# Creamos el gráfico de barras para 'Banda ancha fija_y'\n",
    "trace1 = go.Bar(\n",
    "    x=grouped.index,\n",
    "    y=grouped['Banda ancha fija_y'],\n",
    "    name='Banda ancha fija_y',\n",
    "    marker_color='rgb(55, 83, 109)'\n",
    ")\n",
    "\n",
    "# Creamos el gráfico de línea para 'Dial up_y'\n",
    "trace2 = go.Scatter(\n",
    "    x=grouped.index,\n",
    "    y=grouped['Dial up_y'],\n",
    "    name='Dial up_y',\n",
    "    line=dict(color='rgb(219, 64, 82)', width=2),\n",
    "    yaxis='y2'\n",
    ")\n",
    "\n",
    "data = [trace1, trace2]\n",
    "\n",
    "layout = go.Layout(\n",
    "    title='Evolución de Accesos por Año',\n",
    "    autosize=False,\n",
    "    width=500,\n",
    "    height=500,\n",
    "    xaxis=dict(title='Año'),\n",
    "    yaxis=dict(title='Banda ancha fija_y'),\n",
    "    yaxis2=dict(title='Dial up_y', overlaying='y', side='right'),\n",
    "    showlegend=False,\n",
    "    template='plotly_white'\n",
    ")\n",
    "\n",
    "fig = go.Figure(data=data, layout=layout)\n",
    "fig.show()\n",
    "\n"
   ]
  },
  {
   "cell_type": "markdown",
   "metadata": {},
   "source": [
    "# Análisis del Gráfico: \n",
    "El gráfico muestra la evolución de los accesos a través de dos tecnologías: 'Banda ancha fija' y 'Dial up', a lo largo de los años.\n",
    "\n",
    "**Banda Ancha Fija**\n",
    "\n",
    "La 'Banda ancha fija' se representa mediante barras en el gráfico. Podemos observar que la cantidad de accesos a través de 'Banda ancha fija' ha ido aumentando a lo largo de los años. Esto podría indicar una preferencia creciente por esta tecnología debido a su velocidad y fiabilidad en comparación con 'Dial up'.\n",
    "\n",
    "**Dial Up**\n",
    "\n",
    "El 'Dial up' se representa mediante una línea en el gráfico. A diferencia de la 'Banda ancha fija', la cantidad de accesos a través de 'Dial up' ha ido disminuyendo a lo largo de los años. Esto podría deberse a que 'Dial up' es una tecnología más antigua y más lenta en comparación con la 'Banda ancha fija'.\n",
    "\n",
    "**Intersección**\n",
    "\n",
    "La intersección de la línea ('Dial up') y las barras ('Banda ancha fija') representa el punto en el tiempo donde la cantidad de accesos a través de ambas tecnologías fue la misma. A partir de ese punto, la 'Banda ancha fija' se convirtió en la tecnología dominante.\n",
    "\n",
    "**Conclusión**\n",
    "\n",
    "En resumen, el gráfico muestra una clara tendencia hacia el uso de la 'Banda ancha fija' en detrimento del 'Dial up'. Este cambio en las preferencias de los usuarios podría tener implicaciones importantes para los proveedores de servicios de internet, quienes podrían necesitar adaptar sus ofertas de servicios para satisfacer la creciente demanda de 'Banda ancha fija'.\n"
   ]
  },
  {
   "cell_type": "markdown",
   "metadata": {},
   "source": [
    "# 2- Velocidad Promedio Ponderada"
   ]
  },
  {
   "cell_type": "code",
   "execution_count": 17,
   "metadata": {},
   "outputs": [
    {
     "data": {
      "application/vnd.plotly.v1+json": {
       "config": {
        "plotlyServerURL": "https://plot.ly"
       },
       "data": [
        {
         "mode": "lines",
         "name": "+ 512 Kbps - 1 Mbps",
         "type": "scatter",
         "x": [
          2014,
          2015,
          2016,
          2017,
          2018,
          2019,
          2020,
          2021,
          2022
         ],
         "y": [
          68.41384375,
          54.31195833333334,
          48.84860416666667,
          29.65041666666667,
          25.573520833333333,
          103.22653125,
          226.07829166666667,
          212.80583333333334,
          168.9155
         ]
        },
        {
         "mode": "lines",
         "name": "+ 1 Mbps - 6 Mbps",
         "type": "scatter",
         "x": [
          2014,
          2015,
          2016,
          2017,
          2018,
          2019,
          2020,
          2021,
          2022
         ],
         "y": [
          81.18827272727273,
          113.14378021978023,
          117.31001086956522,
          104.16801086956522,
          82.12456521739131,
          81.5029347826087,
          66.16288043478261,
          62.09492473118279,
          48.88546875
         ]
        },
        {
         "mode": "lines",
         "name": "+ 6 Mbps - 10 Mbps",
         "type": "scatter",
         "x": [
          2014,
          2015,
          2016,
          2017,
          2018,
          2019,
          2020,
          2021,
          2022
         ],
         "y": [
          26.70239583333333,
          52.53735416666667,
          97.19536458333333,
          122.63454166666666,
          106.13204166666667,
          42.63228125,
          68.27755208333333,
          71.72616666666666,
          48.61984375
         ]
        },
        {
         "mode": "lines",
         "name": "+ 10 Mbps - 20 Mbps",
         "type": "scatter",
         "x": [
          2014,
          2015,
          2016,
          2017,
          2018,
          2019,
          2020,
          2021,
          2022
         ],
         "y": [
          114.66485416666667,
          113.90941666666667,
          46.620312500000004,
          88.07271874999999,
          138.46304166666667,
          99.23152083333333,
          38.88192708333333,
          32.47779166666667,
          35.5478125
         ]
        },
        {
         "mode": "lines",
         "name": "+ 20 Mbps - 30 Mbps",
         "type": "scatter",
         "x": [
          2014,
          2015,
          2016,
          2017,
          2018,
          2019,
          2020,
          2021,
          2022
         ],
         "y": [
          47.13726041666666,
          115.96106250000001,
          105.31253125,
          70.83666666666666,
          110.52076041666668,
          97.98372916666666,
          139.38039583333332,
          115.06589583333333,
          97.73922916666668
         ]
        },
        {
         "mode": "lines",
         "name": "+ 30 Mbps",
         "type": "scatter",
         "x": [
          2014,
          2015,
          2016,
          2017,
          2018,
          2019,
          2020,
          2021,
          2022
         ],
         "y": [
          65.7316875,
          56.57670833333333,
          49.243770833333336,
          87.80486458333333,
          73.06948958333334,
          122.11304255319149,
          138.96476923076924,
          136.28689772727273,
          104.99531818181818
         ]
        },
        {
         "mode": "lines",
         "name": "OTROS",
         "type": "scatter",
         "x": [
          2014,
          2015,
          2016,
          2017,
          2018,
          2019,
          2020,
          2021,
          2022
         ],
         "y": [
          0,
          0,
          0,
          1.61609375,
          50.73761458333333,
          35.5465625,
          52.175635416666665,
          66.42723958333333,
          101.30004166666667
         ]
        }
       ],
       "layout": {
        "template": {
         "data": {
          "bar": [
           {
            "error_x": {
             "color": "#2a3f5f"
            },
            "error_y": {
             "color": "#2a3f5f"
            },
            "marker": {
             "line": {
              "color": "white",
              "width": 0.5
             },
             "pattern": {
              "fillmode": "overlay",
              "size": 10,
              "solidity": 0.2
             }
            },
            "type": "bar"
           }
          ],
          "barpolar": [
           {
            "marker": {
             "line": {
              "color": "white",
              "width": 0.5
             },
             "pattern": {
              "fillmode": "overlay",
              "size": 10,
              "solidity": 0.2
             }
            },
            "type": "barpolar"
           }
          ],
          "carpet": [
           {
            "aaxis": {
             "endlinecolor": "#2a3f5f",
             "gridcolor": "#C8D4E3",
             "linecolor": "#C8D4E3",
             "minorgridcolor": "#C8D4E3",
             "startlinecolor": "#2a3f5f"
            },
            "baxis": {
             "endlinecolor": "#2a3f5f",
             "gridcolor": "#C8D4E3",
             "linecolor": "#C8D4E3",
             "minorgridcolor": "#C8D4E3",
             "startlinecolor": "#2a3f5f"
            },
            "type": "carpet"
           }
          ],
          "choropleth": [
           {
            "colorbar": {
             "outlinewidth": 0,
             "ticks": ""
            },
            "type": "choropleth"
           }
          ],
          "contour": [
           {
            "colorbar": {
             "outlinewidth": 0,
             "ticks": ""
            },
            "colorscale": [
             [
              0,
              "#0d0887"
             ],
             [
              0.1111111111111111,
              "#46039f"
             ],
             [
              0.2222222222222222,
              "#7201a8"
             ],
             [
              0.3333333333333333,
              "#9c179e"
             ],
             [
              0.4444444444444444,
              "#bd3786"
             ],
             [
              0.5555555555555556,
              "#d8576b"
             ],
             [
              0.6666666666666666,
              "#ed7953"
             ],
             [
              0.7777777777777778,
              "#fb9f3a"
             ],
             [
              0.8888888888888888,
              "#fdca26"
             ],
             [
              1,
              "#f0f921"
             ]
            ],
            "type": "contour"
           }
          ],
          "contourcarpet": [
           {
            "colorbar": {
             "outlinewidth": 0,
             "ticks": ""
            },
            "type": "contourcarpet"
           }
          ],
          "heatmap": [
           {
            "colorbar": {
             "outlinewidth": 0,
             "ticks": ""
            },
            "colorscale": [
             [
              0,
              "#0d0887"
             ],
             [
              0.1111111111111111,
              "#46039f"
             ],
             [
              0.2222222222222222,
              "#7201a8"
             ],
             [
              0.3333333333333333,
              "#9c179e"
             ],
             [
              0.4444444444444444,
              "#bd3786"
             ],
             [
              0.5555555555555556,
              "#d8576b"
             ],
             [
              0.6666666666666666,
              "#ed7953"
             ],
             [
              0.7777777777777778,
              "#fb9f3a"
             ],
             [
              0.8888888888888888,
              "#fdca26"
             ],
             [
              1,
              "#f0f921"
             ]
            ],
            "type": "heatmap"
           }
          ],
          "heatmapgl": [
           {
            "colorbar": {
             "outlinewidth": 0,
             "ticks": ""
            },
            "colorscale": [
             [
              0,
              "#0d0887"
             ],
             [
              0.1111111111111111,
              "#46039f"
             ],
             [
              0.2222222222222222,
              "#7201a8"
             ],
             [
              0.3333333333333333,
              "#9c179e"
             ],
             [
              0.4444444444444444,
              "#bd3786"
             ],
             [
              0.5555555555555556,
              "#d8576b"
             ],
             [
              0.6666666666666666,
              "#ed7953"
             ],
             [
              0.7777777777777778,
              "#fb9f3a"
             ],
             [
              0.8888888888888888,
              "#fdca26"
             ],
             [
              1,
              "#f0f921"
             ]
            ],
            "type": "heatmapgl"
           }
          ],
          "histogram": [
           {
            "marker": {
             "pattern": {
              "fillmode": "overlay",
              "size": 10,
              "solidity": 0.2
             }
            },
            "type": "histogram"
           }
          ],
          "histogram2d": [
           {
            "colorbar": {
             "outlinewidth": 0,
             "ticks": ""
            },
            "colorscale": [
             [
              0,
              "#0d0887"
             ],
             [
              0.1111111111111111,
              "#46039f"
             ],
             [
              0.2222222222222222,
              "#7201a8"
             ],
             [
              0.3333333333333333,
              "#9c179e"
             ],
             [
              0.4444444444444444,
              "#bd3786"
             ],
             [
              0.5555555555555556,
              "#d8576b"
             ],
             [
              0.6666666666666666,
              "#ed7953"
             ],
             [
              0.7777777777777778,
              "#fb9f3a"
             ],
             [
              0.8888888888888888,
              "#fdca26"
             ],
             [
              1,
              "#f0f921"
             ]
            ],
            "type": "histogram2d"
           }
          ],
          "histogram2dcontour": [
           {
            "colorbar": {
             "outlinewidth": 0,
             "ticks": ""
            },
            "colorscale": [
             [
              0,
              "#0d0887"
             ],
             [
              0.1111111111111111,
              "#46039f"
             ],
             [
              0.2222222222222222,
              "#7201a8"
             ],
             [
              0.3333333333333333,
              "#9c179e"
             ],
             [
              0.4444444444444444,
              "#bd3786"
             ],
             [
              0.5555555555555556,
              "#d8576b"
             ],
             [
              0.6666666666666666,
              "#ed7953"
             ],
             [
              0.7777777777777778,
              "#fb9f3a"
             ],
             [
              0.8888888888888888,
              "#fdca26"
             ],
             [
              1,
              "#f0f921"
             ]
            ],
            "type": "histogram2dcontour"
           }
          ],
          "mesh3d": [
           {
            "colorbar": {
             "outlinewidth": 0,
             "ticks": ""
            },
            "type": "mesh3d"
           }
          ],
          "parcoords": [
           {
            "line": {
             "colorbar": {
              "outlinewidth": 0,
              "ticks": ""
             }
            },
            "type": "parcoords"
           }
          ],
          "pie": [
           {
            "automargin": true,
            "type": "pie"
           }
          ],
          "scatter": [
           {
            "fillpattern": {
             "fillmode": "overlay",
             "size": 10,
             "solidity": 0.2
            },
            "type": "scatter"
           }
          ],
          "scatter3d": [
           {
            "line": {
             "colorbar": {
              "outlinewidth": 0,
              "ticks": ""
             }
            },
            "marker": {
             "colorbar": {
              "outlinewidth": 0,
              "ticks": ""
             }
            },
            "type": "scatter3d"
           }
          ],
          "scattercarpet": [
           {
            "marker": {
             "colorbar": {
              "outlinewidth": 0,
              "ticks": ""
             }
            },
            "type": "scattercarpet"
           }
          ],
          "scattergeo": [
           {
            "marker": {
             "colorbar": {
              "outlinewidth": 0,
              "ticks": ""
             }
            },
            "type": "scattergeo"
           }
          ],
          "scattergl": [
           {
            "marker": {
             "colorbar": {
              "outlinewidth": 0,
              "ticks": ""
             }
            },
            "type": "scattergl"
           }
          ],
          "scattermapbox": [
           {
            "marker": {
             "colorbar": {
              "outlinewidth": 0,
              "ticks": ""
             }
            },
            "type": "scattermapbox"
           }
          ],
          "scatterpolar": [
           {
            "marker": {
             "colorbar": {
              "outlinewidth": 0,
              "ticks": ""
             }
            },
            "type": "scatterpolar"
           }
          ],
          "scatterpolargl": [
           {
            "marker": {
             "colorbar": {
              "outlinewidth": 0,
              "ticks": ""
             }
            },
            "type": "scatterpolargl"
           }
          ],
          "scatterternary": [
           {
            "marker": {
             "colorbar": {
              "outlinewidth": 0,
              "ticks": ""
             }
            },
            "type": "scatterternary"
           }
          ],
          "surface": [
           {
            "colorbar": {
             "outlinewidth": 0,
             "ticks": ""
            },
            "colorscale": [
             [
              0,
              "#0d0887"
             ],
             [
              0.1111111111111111,
              "#46039f"
             ],
             [
              0.2222222222222222,
              "#7201a8"
             ],
             [
              0.3333333333333333,
              "#9c179e"
             ],
             [
              0.4444444444444444,
              "#bd3786"
             ],
             [
              0.5555555555555556,
              "#d8576b"
             ],
             [
              0.6666666666666666,
              "#ed7953"
             ],
             [
              0.7777777777777778,
              "#fb9f3a"
             ],
             [
              0.8888888888888888,
              "#fdca26"
             ],
             [
              1,
              "#f0f921"
             ]
            ],
            "type": "surface"
           }
          ],
          "table": [
           {
            "cells": {
             "fill": {
              "color": "#EBF0F8"
             },
             "line": {
              "color": "white"
             }
            },
            "header": {
             "fill": {
              "color": "#C8D4E3"
             },
             "line": {
              "color": "white"
             }
            },
            "type": "table"
           }
          ]
         },
         "layout": {
          "annotationdefaults": {
           "arrowcolor": "#2a3f5f",
           "arrowhead": 0,
           "arrowwidth": 1
          },
          "autotypenumbers": "strict",
          "coloraxis": {
           "colorbar": {
            "outlinewidth": 0,
            "ticks": ""
           }
          },
          "colorscale": {
           "diverging": [
            [
             0,
             "#8e0152"
            ],
            [
             0.1,
             "#c51b7d"
            ],
            [
             0.2,
             "#de77ae"
            ],
            [
             0.3,
             "#f1b6da"
            ],
            [
             0.4,
             "#fde0ef"
            ],
            [
             0.5,
             "#f7f7f7"
            ],
            [
             0.6,
             "#e6f5d0"
            ],
            [
             0.7,
             "#b8e186"
            ],
            [
             0.8,
             "#7fbc41"
            ],
            [
             0.9,
             "#4d9221"
            ],
            [
             1,
             "#276419"
            ]
           ],
           "sequential": [
            [
             0,
             "#0d0887"
            ],
            [
             0.1111111111111111,
             "#46039f"
            ],
            [
             0.2222222222222222,
             "#7201a8"
            ],
            [
             0.3333333333333333,
             "#9c179e"
            ],
            [
             0.4444444444444444,
             "#bd3786"
            ],
            [
             0.5555555555555556,
             "#d8576b"
            ],
            [
             0.6666666666666666,
             "#ed7953"
            ],
            [
             0.7777777777777778,
             "#fb9f3a"
            ],
            [
             0.8888888888888888,
             "#fdca26"
            ],
            [
             1,
             "#f0f921"
            ]
           ],
           "sequentialminus": [
            [
             0,
             "#0d0887"
            ],
            [
             0.1111111111111111,
             "#46039f"
            ],
            [
             0.2222222222222222,
             "#7201a8"
            ],
            [
             0.3333333333333333,
             "#9c179e"
            ],
            [
             0.4444444444444444,
             "#bd3786"
            ],
            [
             0.5555555555555556,
             "#d8576b"
            ],
            [
             0.6666666666666666,
             "#ed7953"
            ],
            [
             0.7777777777777778,
             "#fb9f3a"
            ],
            [
             0.8888888888888888,
             "#fdca26"
            ],
            [
             1,
             "#f0f921"
            ]
           ]
          },
          "colorway": [
           "#636efa",
           "#EF553B",
           "#00cc96",
           "#ab63fa",
           "#FFA15A",
           "#19d3f3",
           "#FF6692",
           "#B6E880",
           "#FF97FF",
           "#FECB52"
          ],
          "font": {
           "color": "#2a3f5f"
          },
          "geo": {
           "bgcolor": "white",
           "lakecolor": "white",
           "landcolor": "white",
           "showlakes": true,
           "showland": true,
           "subunitcolor": "#C8D4E3"
          },
          "hoverlabel": {
           "align": "left"
          },
          "hovermode": "closest",
          "mapbox": {
           "style": "light"
          },
          "paper_bgcolor": "white",
          "plot_bgcolor": "white",
          "polar": {
           "angularaxis": {
            "gridcolor": "#EBF0F8",
            "linecolor": "#EBF0F8",
            "ticks": ""
           },
           "bgcolor": "white",
           "radialaxis": {
            "gridcolor": "#EBF0F8",
            "linecolor": "#EBF0F8",
            "ticks": ""
           }
          },
          "scene": {
           "xaxis": {
            "backgroundcolor": "white",
            "gridcolor": "#DFE8F3",
            "gridwidth": 2,
            "linecolor": "#EBF0F8",
            "showbackground": true,
            "ticks": "",
            "zerolinecolor": "#EBF0F8"
           },
           "yaxis": {
            "backgroundcolor": "white",
            "gridcolor": "#DFE8F3",
            "gridwidth": 2,
            "linecolor": "#EBF0F8",
            "showbackground": true,
            "ticks": "",
            "zerolinecolor": "#EBF0F8"
           },
           "zaxis": {
            "backgroundcolor": "white",
            "gridcolor": "#DFE8F3",
            "gridwidth": 2,
            "linecolor": "#EBF0F8",
            "showbackground": true,
            "ticks": "",
            "zerolinecolor": "#EBF0F8"
           }
          },
          "shapedefaults": {
           "line": {
            "color": "#2a3f5f"
           }
          },
          "ternary": {
           "aaxis": {
            "gridcolor": "#DFE8F3",
            "linecolor": "#A2B1C6",
            "ticks": ""
           },
           "baxis": {
            "gridcolor": "#DFE8F3",
            "linecolor": "#A2B1C6",
            "ticks": ""
           },
           "bgcolor": "white",
           "caxis": {
            "gridcolor": "#DFE8F3",
            "linecolor": "#A2B1C6",
            "ticks": ""
           }
          },
          "title": {
           "x": 0.05
          },
          "xaxis": {
           "automargin": true,
           "gridcolor": "#EBF0F8",
           "linecolor": "#EBF0F8",
           "ticks": "",
           "title": {
            "standoff": 15
           },
           "zerolinecolor": "#EBF0F8",
           "zerolinewidth": 2
          },
          "yaxis": {
           "automargin": true,
           "gridcolor": "#EBF0F8",
           "linecolor": "#EBF0F8",
           "ticks": "",
           "title": {
            "standoff": 15
           },
           "zerolinecolor": "#EBF0F8",
           "zerolinewidth": 2
          }
         }
        },
        "title": {
         "text": "ACCESOS DE VELOCIDAD POR AÑO"
        },
        "xaxis": {
         "title": {
          "text": "Año"
         }
        },
        "yaxis": {
         "title": {
          "text": "Velocidad Promedio"
         }
        }
       }
      }
     },
     "metadata": {},
     "output_type": "display_data"
    }
   ],
   "source": [
    "# Calculamos la cantidad de accesos y las velocidades promedio por año\n",
    "grouped = df.groupby('Año')[['+ 512 Kbps - 1 Mbps', '+ 1 Mbps - 6 Mbps', '+ 6 Mbps - 10 Mbps', '+ 10 Mbps - 20 Mbps', '+ 20 Mbps - 30 Mbps', '+ 30 Mbps', 'OTROS']].mean().reset_index()\n",
    "\n",
    "# Creamos el gráfico\n",
    "fig = go.Figure()\n",
    "\n",
    "# Añadimos las trazas para cada velocidad\n",
    "fig.add_trace(go.Scatter(x=grouped['Año'], y=grouped['+ 512 Kbps - 1 Mbps'], mode='lines', name='+ 512 Kbps - 1 Mbps'))\n",
    "fig.add_trace(go.Scatter(x=grouped['Año'], y=grouped['+ 1 Mbps - 6 Mbps'], mode='lines', name='+ 1 Mbps - 6 Mbps'))\n",
    "fig.add_trace(go.Scatter(x=grouped['Año'], y=grouped['+ 6 Mbps - 10 Mbps'], mode='lines', name='+ 6 Mbps - 10 Mbps'))\n",
    "fig.add_trace(go.Scatter(x=grouped['Año'], y=grouped['+ 10 Mbps - 20 Mbps'], mode='lines', name='+ 10 Mbps - 20 Mbps'))\n",
    "fig.add_trace(go.Scatter(x=grouped['Año'], y=grouped['+ 20 Mbps - 30 Mbps'], mode='lines', name='+ 20 Mbps - 30 Mbps'))\n",
    "fig.add_trace(go.Scatter(x=grouped['Año'], y=grouped['+ 30 Mbps'], mode='lines', name='+ 30 Mbps'))\n",
    "fig.add_trace(go.Scatter(x=grouped['Año'], y=grouped['OTROS'], mode='lines', name='OTROS'))\n",
    "\n",
    "# Configuramos el diseño del gráfico\n",
    "fig.update_layout(\n",
    "    title='ACCESOS DE VELOCIDAD POR AÑO',\n",
    "    xaxis_title='Año',\n",
    "    yaxis_title='Velocidad Promedio',\n",
    "    template='plotly_white'\n",
    ")\n",
    "\n",
    "# Mostramos el gráfico\n",
    "fig.show()\n",
    "\n"
   ]
  },
  {
   "cell_type": "markdown",
   "metadata": {},
   "source": [
    "# Análisis del Gráfico: Accesos por Velocidad por Año\n",
    "\n",
    "El gráfico muestra la evolución de las velocidades promedio de acceso a internet por año.\n",
    "\n",
    "**Velocidades de Acceso**\n",
    "Las velocidades de acceso se dividen en varias categorías:\n",
    "\n",
    "- '+ 512 Kbps - 1 Mbps'\n",
    "- '+ 1 Mbps - 6 Mbps'\n",
    "- '+ 6 Mbps - 10 Mbps'\n",
    "- '+ 10 Mbps - 20 Mbps'\n",
    "- '+ 20 Mbps - 30 Mbps'\n",
    "- '+ 30 Mbps'\n",
    "- 'OTROS'\n",
    "\n",
    "Cada una de estas categorías se representa con una línea en el gráfico.\n",
    "\n",
    "**Evolución a lo Largo del Tiempo**\n",
    "\n",
    "Al observar el gráfico, podemos ver cómo ha cambiado la velocidad promedio de acceso a internet a lo largo de los años en Argentina.  Esto nos puede dar una idea de cómo ha mejorado las tecnologías de acceso a internet con el tiempo.\n",
    "\n",
    "**Conclusión**\n",
    "\n",
    "Nuestro análisis muestra una evolución notable en las velocidades de acceso a internet a lo largo de los años.\n",
    "Cambio hacia Velocidades Más Altas y \n",
    "Disminución en las Velocidades Más Bajas\n",
    "Las velocidades de acceso a internet han mejorado significativamente con el tiempo. Esto se debe a los avances en la tecnología de redes y a las inversiones en infraestructura de banda ancha.\n",
    "\n",
    "\n"
   ]
  },
  {
   "cell_type": "markdown",
   "metadata": {},
   "source": [
    "# Se utiliza el df5 para analizar el Acceso de Internet Fijo por Tecnologia"
   ]
  },
  {
   "cell_type": "code",
   "execution_count": 17,
   "metadata": {},
   "outputs": [],
   "source": [
    "df5 = pd.read_csv(\"datasets/aif_t_p.csv\")"
   ]
  },
  {
   "cell_type": "code",
   "execution_count": 224,
   "metadata": {},
   "outputs": [
    {
     "name": "stdout",
     "output_type": "stream",
     "text": [
      "(865, 9)\n"
     ]
    },
    {
     "data": {
      "text/html": [
       "<div>\n",
       "<style scoped>\n",
       "    .dataframe tbody tr th:only-of-type {\n",
       "        vertical-align: middle;\n",
       "    }\n",
       "\n",
       "    .dataframe tbody tr th {\n",
       "        vertical-align: top;\n",
       "    }\n",
       "\n",
       "    .dataframe thead th {\n",
       "        text-align: right;\n",
       "    }\n",
       "</style>\n",
       "<table border=\"1\" class=\"dataframe\">\n",
       "  <thead>\n",
       "    <tr style=\"text-align: right;\">\n",
       "      <th></th>\n",
       "      <th>Año</th>\n",
       "      <th>Trimestre</th>\n",
       "      <th>Provincia</th>\n",
       "      <th>ADSL</th>\n",
       "      <th>Cablemodem</th>\n",
       "      <th>Fibra óptica</th>\n",
       "      <th>Wireless</th>\n",
       "      <th>Otros</th>\n",
       "      <th>Total</th>\n",
       "    </tr>\n",
       "  </thead>\n",
       "  <tbody>\n",
       "    <tr>\n",
       "      <th>0</th>\n",
       "      <td>2022</td>\n",
       "      <td>4</td>\n",
       "      <td>Buenos Aires</td>\n",
       "      <td>326.0</td>\n",
       "      <td>3.0</td>\n",
       "      <td>1.0</td>\n",
       "      <td>130.0</td>\n",
       "      <td>72.0</td>\n",
       "      <td>5.0</td>\n",
       "    </tr>\n",
       "    <tr>\n",
       "      <th>1</th>\n",
       "      <td>2022</td>\n",
       "      <td>4</td>\n",
       "      <td>Capital Federal</td>\n",
       "      <td>139.0</td>\n",
       "      <td>1.0</td>\n",
       "      <td>139.0</td>\n",
       "      <td>5.0</td>\n",
       "      <td>32.0</td>\n",
       "      <td>2.0</td>\n",
       "    </tr>\n",
       "    <tr>\n",
       "      <th>2</th>\n",
       "      <td>2022</td>\n",
       "      <td>4</td>\n",
       "      <td>Catamarca</td>\n",
       "      <td>9.0</td>\n",
       "      <td>11.0</td>\n",
       "      <td>47.0</td>\n",
       "      <td>1.0</td>\n",
       "      <td>2.0</td>\n",
       "      <td>71.0</td>\n",
       "    </tr>\n",
       "    <tr>\n",
       "      <th>3</th>\n",
       "      <td>2022</td>\n",
       "      <td>4</td>\n",
       "      <td>Chaco</td>\n",
       "      <td>25.0</td>\n",
       "      <td>61.0</td>\n",
       "      <td>47.0</td>\n",
       "      <td>8.0</td>\n",
       "      <td>3.0</td>\n",
       "      <td>144.0</td>\n",
       "    </tr>\n",
       "    <tr>\n",
       "      <th>4</th>\n",
       "      <td>2022</td>\n",
       "      <td>4</td>\n",
       "      <td>Chubut</td>\n",
       "      <td>45.0</td>\n",
       "      <td>74.0</td>\n",
       "      <td>10.0</td>\n",
       "      <td>31.0</td>\n",
       "      <td>9.0</td>\n",
       "      <td>169.0</td>\n",
       "    </tr>\n",
       "  </tbody>\n",
       "</table>\n",
       "</div>"
      ],
      "text/plain": [
       "    Año Trimestre        Provincia   ADSL  Cablemodem  Fibra óptica  Wireless  \\\n",
       "0  2022         4     Buenos Aires  326.0         3.0           1.0     130.0   \n",
       "1  2022         4  Capital Federal  139.0         1.0         139.0       5.0   \n",
       "2  2022         4        Catamarca    9.0        11.0          47.0       1.0   \n",
       "3  2022         4            Chaco   25.0        61.0          47.0       8.0   \n",
       "4  2022         4           Chubut   45.0        74.0          10.0      31.0   \n",
       "\n",
       "   Otros  Total  \n",
       "0   72.0    5.0  \n",
       "1   32.0    2.0  \n",
       "2    2.0   71.0  \n",
       "3    3.0  144.0  \n",
       "4    9.0  169.0  "
      ]
     },
     "execution_count": 224,
     "metadata": {},
     "output_type": "execute_result"
    }
   ],
   "source": [
    "#Acceso a Internet fijo por tecnología y provincia\n",
    "#df5 = pd.read_csv(\"aif_t_p.csv\")\n",
    "# Mostrar las primeras filas y estadísticas descriptivas : El dataset consta de 865 filas y 9 columnas\n",
    "print(df5.shape)\n",
    "df5.head()\n"
   ]
  },
  {
   "cell_type": "code",
   "execution_count": 286,
   "metadata": {},
   "outputs": [
    {
     "name": "stdout",
     "output_type": "stream",
     "text": [
      "             ADSL  Cablemodem  Fibra óptica    Wireless       Otros  \\\n",
      "count  864.000000  864.000000    864.000000  864.000000  864.000000   \n",
      "mean    86.363426  103.291667    165.432870   57.777778  102.712963   \n",
      "std    116.431490  188.849172    266.807807  156.015038  207.418981   \n",
      "min      1.000000    0.000000      0.000000    0.000000    1.000000   \n",
      "25%     21.000000    9.000000      9.000000    4.000000    3.000000   \n",
      "50%     46.000000   35.500000     25.000000   10.000000   15.000000   \n",
      "75%     81.000000   72.250000    170.750000   26.000000   47.000000   \n",
      "max    720.000000  999.000000    998.000000  952.000000  987.000000   \n",
      "\n",
      "            Total  \n",
      "count  864.000000  \n",
      "mean   137.636574  \n",
      "std    180.798813  \n",
      "min      1.000000  \n",
      "25%     39.750000  \n",
      "50%     91.000000  \n",
      "75%    143.250000  \n",
      "max    987.000000  \n"
     ]
    }
   ],
   "source": [
    "#Reviso las primeras filas y las estadísticas descriptivas básicas de cada dataset.\n",
    "print(df5.describe())"
   ]
  },
  {
   "cell_type": "code",
   "execution_count": 287,
   "metadata": {},
   "outputs": [
    {
     "name": "stdout",
     "output_type": "stream",
     "text": [
      "Año             0\n",
      "Trimestre       0\n",
      "Provincia       1\n",
      "ADSL            1\n",
      "Cablemodem      1\n",
      "Fibra óptica    1\n",
      "Wireless        1\n",
      "Otros           1\n",
      "Total           1\n",
      "dtype: int64\n"
     ]
    }
   ],
   "source": [
    "# Verificacion de datos nulos:\n",
    "print(df5.isnull().sum())"
   ]
  },
  {
   "cell_type": "code",
   "execution_count": 288,
   "metadata": {},
   "outputs": [],
   "source": [
    "# Reemplaza todos los valores NaN por 0\n",
    "df5 = df5.fillna(0)"
   ]
  },
  {
   "cell_type": "code",
   "execution_count": 289,
   "metadata": {},
   "outputs": [
    {
     "name": "stdout",
     "output_type": "stream",
     "text": [
      "Año             0\n",
      "Trimestre       0\n",
      "Provincia       0\n",
      "ADSL            0\n",
      "Cablemodem      0\n",
      "Fibra óptica    0\n",
      "Wireless        0\n",
      "Otros           0\n",
      "Total           0\n",
      "dtype: int64\n"
     ]
    }
   ],
   "source": [
    "# Verificacion de datos nulos: No existen datos nulos\n",
    "print(df5.isnull().sum())"
   ]
  },
  {
   "cell_type": "code",
   "execution_count": 290,
   "metadata": {},
   "outputs": [
    {
     "name": "stdout",
     "output_type": "stream",
     "text": [
      "<class 'pandas.core.frame.DataFrame'>\n",
      "RangeIndex: 865 entries, 0 to 864\n",
      "Data columns (total 9 columns):\n",
      " #   Column        Non-Null Count  Dtype  \n",
      "---  ------        --------------  -----  \n",
      " 0   Año           865 non-null    object \n",
      " 1   Trimestre     865 non-null    object \n",
      " 2   Provincia     865 non-null    object \n",
      " 3   ADSL          865 non-null    float64\n",
      " 4   Cablemodem    865 non-null    float64\n",
      " 5   Fibra óptica  865 non-null    float64\n",
      " 6   Wireless      865 non-null    float64\n",
      " 7   Otros         865 non-null    float64\n",
      " 8   Total         865 non-null    float64\n",
      "dtypes: float64(6), object(3)\n",
      "memory usage: 60.9+ KB\n"
     ]
    }
   ],
   "source": [
    "# Verificacion de variables numericas y categoricas: Se observa que no tiene datos faltantes ya que las columnas tienen\n",
    "#l mismo numero de columnas#\n",
    "df5.info()"
   ]
  },
  {
   "cell_type": "code",
   "execution_count": 18,
   "metadata": {},
   "outputs": [],
   "source": [
    "# Reemplaza ' *' con '' en la columna 'Año'\n",
    "df5['Año'] = df5['Año'].str.replace(' *', '')\n",
    "\n",
    "# Elimina las filas donde la columna 'Año' es solo '*'\n",
    "df5 = df5[df5['Año'] != '*']"
   ]
  },
  {
   "cell_type": "code",
   "execution_count": 292,
   "metadata": {},
   "outputs": [
    {
     "name": "stdout",
     "output_type": "stream",
     "text": [
      "<class 'pandas.core.frame.DataFrame'>\n",
      "Index: 864 entries, 0 to 863\n",
      "Data columns (total 9 columns):\n",
      " #   Column        Non-Null Count  Dtype  \n",
      "---  ------        --------------  -----  \n",
      " 0   Año           864 non-null    object \n",
      " 1   Trimestre     864 non-null    object \n",
      " 2   Provincia     864 non-null    object \n",
      " 3   ADSL          864 non-null    float64\n",
      " 4   Cablemodem    864 non-null    float64\n",
      " 5   Fibra óptica  864 non-null    float64\n",
      " 6   Wireless      864 non-null    float64\n",
      " 7   Otros         864 non-null    float64\n",
      " 8   Total         864 non-null    float64\n",
      "dtypes: float64(6), object(3)\n",
      "memory usage: 67.5+ KB\n"
     ]
    }
   ],
   "source": [
    "# Vizualizo la informacion del dataframe\n",
    "df5.info()"
   ]
  },
  {
   "cell_type": "code",
   "execution_count": 19,
   "metadata": {},
   "outputs": [
    {
     "name": "stdout",
     "output_type": "stream",
     "text": [
      "Año               int16\n",
      "Trimestre        object\n",
      "Provincia        object\n",
      "ADSL            float64\n",
      "Cablemodem      float64\n",
      "Fibra óptica    float64\n",
      "Wireless        float64\n",
      "Otros           float64\n",
      "Total           float64\n",
      "dtype: object\n"
     ]
    }
   ],
   "source": [
    "# Lista de columnas a convertir a tipo entero\n",
    "columns_to_convert = ['Año']\n",
    "\n",
    "# Convertir las columnas a tipo entero\n",
    "df5[columns_to_convert] = df5[columns_to_convert].apply(pd.to_numeric, errors='coerce', downcast='integer')\n",
    "\n",
    "# Verificar el cambio de tipos\n",
    "print(df5.dtypes)"
   ]
  },
  {
   "cell_type": "code",
   "execution_count": 42,
   "metadata": {},
   "outputs": [
    {
     "name": "stdout",
     "output_type": "stream",
     "text": [
      "Cantidad de duplicados: 0\n"
     ]
    }
   ],
   "source": [
    "\n",
    "# Visualizacion de duplicados\n",
    "cantidad_duplicados = df5.duplicated().sum()\n",
    "print(\"Cantidad de duplicados:\", cantidad_duplicados)\n"
   ]
  },
  {
   "cell_type": "code",
   "execution_count": 294,
   "metadata": {},
   "outputs": [
    {
     "name": "stdout",
     "output_type": "stream",
     "text": [
      "\n",
      "Outliers en la columna 'ADSL':\n",
      "0      326.0\n",
      "24     340.0\n",
      "44     184.0\n",
      "48     351.0\n",
      "53     179.0\n",
      "       ...  \n",
      "821    338.0\n",
      "836    324.0\n",
      "841    446.0\n",
      "845    337.0\n",
      "860    323.0\n",
      "Name: ADSL, Length: 108, dtype: float64\n",
      "Total de outliers en 'ADSL': 108\n"
     ]
    },
    {
     "data": {
      "image/png": "[encoded data removed]",
      "text/plain": [
       "<Figure size 600x400 with 1 Axes>"
      ]
     },
     "metadata": {},
     "output_type": "display_data"
    },
    {
     "name": "stdout",
     "output_type": "stream",
     "text": [
      "\n",
      "Outliers en la columna 'Cablemodem':\n",
      "5      457.0\n",
      "20     412.0\n",
      "29     465.0\n",
      "44     426.0\n",
      "53     468.0\n",
      "       ...  \n",
      "844    539.0\n",
      "845    226.0\n",
      "857    434.0\n",
      "858    428.0\n",
      "860    174.0\n",
      "Name: Cablemodem, Length: 140, dtype: float64\n",
      "Total de outliers en 'Cablemodem': 140\n"
     ]
    },
    {
     "data": {
      "image/png": "[encoded data removed]",
      "text/plain": [
       "<Figure size 600x400 with 1 Axes>"
      ]
     },
     "metadata": {},
     "output_type": "display_data"
    },
    {
     "name": "stdout",
     "output_type": "stream",
     "text": [
      "\n",
      "Outliers en la columna 'Fibra óptica':\n",
      "94     416.0\n",
      "118    426.0\n",
      "120    886.0\n",
      "141    909.0\n",
      "144    854.0\n",
      "       ...  \n",
      "850    513.0\n",
      "854    997.0\n",
      "855    876.0\n",
      "857    722.0\n",
      "862    648.0\n",
      "Name: Fibra óptica, Length: 130, dtype: float64\n",
      "Total de outliers en 'Fibra óptica': 130\n"
     ]
    },
    {
     "data": {
      "image/png": "[encoded data removed]",
      "text/plain": [
       "<Figure size 600x400 with 1 Axes>"
      ]
     },
     "metadata": {},
     "output_type": "display_data"
    },
    {
     "name": "stdout",
     "output_type": "stream",
     "text": [
      "\n",
      "Outliers en la columna 'Wireless':\n",
      "0      130.0\n",
      "5       62.0\n",
      "18      82.0\n",
      "22     157.0\n",
      "24     127.0\n",
      "       ...  \n",
      "829    150.0\n",
      "837    907.0\n",
      "853    150.0\n",
      "857    808.0\n",
      "861    915.0\n",
      "Name: Wireless, Length: 134, dtype: float64\n",
      "Total de outliers en 'Wireless': 134\n"
     ]
    },
    {
     "data": {
      "image/png": "[encoded data removed]",
      "text/plain": [
       "<Figure size 600x400 with 1 Axes>"
      ]
     },
     "metadata": {},
     "output_type": "display_data"
    },
    {
     "name": "stdout",
     "output_type": "stream",
     "text": [
      "\n",
      "Outliers en la columna 'Otros':\n",
      "8      227.0\n",
      "18     511.0\n",
      "19     662.0\n",
      "22     651.0\n",
      "23     527.0\n",
      "       ...  \n",
      "847    133.0\n",
      "850    701.0\n",
      "856    568.0\n",
      "858    448.0\n",
      "860    644.0\n",
      "Name: Otros, Length: 150, dtype: float64\n",
      "Total de outliers en 'Otros': 150\n"
     ]
    },
    {
     "data": {
      "image/png": "[encoded data removed]",
      "text/plain": [
       "<Figure size 600x400 with 1 Axes>"
      ]
     },
     "metadata": {},
     "output_type": "display_data"
    },
    {
     "name": "stdout",
     "output_type": "stream",
     "text": [
      "Total de outliers en 'df5': 662\n"
     ]
    }
   ],
   "source": [
    "# Método de Tukey para encontrar outliers # En total hay 662 valores atipicos en las variables numericas del df5\n",
    "def detect_outliers(data, column):\n",
    "    Q1 = data[column].quantile(0.25)\n",
    "    Q3 = data[column].quantile(0.75)\n",
    "    IQR = Q3 - Q1\n",
    "    lower_bound = Q1 - 1.5 * IQR\n",
    "    upper_bound = Q3 + 1.5 * IQR\n",
    "    outliers = (data[column] < lower_bound) | (data[column] > upper_bound)\n",
    "    return outliers\n",
    "\n",
    "# Lista de columnas específicas para detectar outliers\n",
    "columns_to_check = ['ADSL', 'Cablemodem', 'Fibra óptica', 'Wireless', 'Otros']\n",
    "\n",
    "# Crear un DataFrame para almacenar información sobre valores atípicos\n",
    "outliers_df = pd.DataFrame(index=df5.index)\n",
    "\n",
    "# Detectar outliers en las columnas específicas\n",
    "total_outliers = 0\n",
    "for column in columns_to_check:\n",
    "    outliers_df[column] = detect_outliers(df5, column)\n",
    "    num_outliers = outliers_df[column].sum()\n",
    "    total_outliers += num_outliers\n",
    "\n",
    "    # Imprimir valores atípicos en la columna\n",
    "    print(f\"\\nOutliers en la columna '{column}':\")\n",
    "    print(df5.loc[outliers_df[column], column])\n",
    "    print(f\"Total de outliers en '{column}': {num_outliers}\")\n",
    "\n",
    "    # Visualizar los outliers con colores\n",
    "    plt.figure(figsize=(6, 4))\n",
    "    sns.heatmap(outliers_df[[column]], cmap='viridis', cbar=False)\n",
    "    plt.title(f'Outliers en la columna {column}')\n",
    "    plt.show()\n",
    "\n",
    "print(f\"Total de outliers en 'df5': {total_outliers}\")\n"
   ]
  },
  {
   "cell_type": "markdown",
   "metadata": {},
   "source": [
    "**Tratamiento de los outliers o valores faltantes de las columnas numericas utilizando el método de Tukey. Los outliers serán reemplazados por el límite inferior o superior del rango intercuartílico, según corresponda.**"
   ]
  },
  {
   "cell_type": "code",
   "execution_count": 295,
   "metadata": {},
   "outputs": [
    {
     "name": "stdout",
     "output_type": "stream",
     "text": [
      "      Año Trimestre            Provincia   ADSL  Cablemodem  Fibra óptica  \\\n",
      "0    2022         4         Buenos Aires  171.0       3.000         1.000   \n",
      "1    2022         4      Capital Federal  139.0       1.000       139.000   \n",
      "2    2022         4            Catamarca    9.0      11.000        47.000   \n",
      "3    2022         4                Chaco   25.0      61.000        47.000   \n",
      "4    2022         4               Chubut   45.0      74.000        10.000   \n",
      "..    ...       ...                  ...    ...         ...           ...   \n",
      "859  2014         1           Santa Cruz   19.0     100.000       381.000   \n",
      "860  2014         1             Santa Fe  171.0     167.125         3.000   \n",
      "861  2014         1  Santiago Del Estero   33.0       4.000        19.000   \n",
      "862  2014         1     Tierra Del Fuego   22.0       3.000       413.375   \n",
      "863  2014         1              Tucumán  130.0      83.000       121.000   \n",
      "\n",
      "     Wireless  Otros  Total  \n",
      "0        59.0   72.0    5.0  \n",
      "1         5.0   32.0    2.0  \n",
      "2         1.0    2.0   71.0  \n",
      "3         8.0    3.0  144.0  \n",
      "4        31.0    9.0  169.0  \n",
      "..        ...    ...    ...  \n",
      "859       4.0    3.0   27.0  \n",
      "860       6.0  113.0  507.0  \n",
      "861      59.0   34.0   37.0  \n",
      "862       1.0    3.0   28.0  \n",
      "863      13.0   98.0  130.0  \n",
      "\n",
      "[864 rows x 9 columns]\n"
     ]
    }
   ],
   "source": [
    "# Método de Tukey para encontrar y tratar outliers\n",
    "def treat_outliers(data, column):\n",
    "    Q1 = data[column].quantile(0.25)\n",
    "    Q3 = data[column].quantile(0.75)\n",
    "    IQR = Q3 - Q1\n",
    "    lower_bound = Q1 - 1.5 * IQR\n",
    "    upper_bound = Q3 + 1.5 * IQR\n",
    "    data[column] = np.where(data[column] < lower_bound, lower_bound, data[column])\n",
    "    data[column] = np.where(data[column] > upper_bound, upper_bound, data[column])\n",
    "    return data\n",
    "\n",
    "# Lista de columnas específicas para tratar outliers\n",
    "columns_to_check = ['ADSL', 'Cablemodem', 'Fibra óptica', 'Wireless', 'Otros']\n",
    "\n",
    "# Tratar outliers en las columnas específicas\n",
    "for column in columns_to_check:\n",
    "    df5 = treat_outliers(df5, column)\n",
    "\n",
    "# Imprimir el dataframe tratado sin outliers\n",
    "print(df5)\n"
   ]
  },
  {
   "cell_type": "markdown",
   "metadata": {},
   "source": [
    "# Matriz de correlación"
   ]
  },
  {
   "cell_type": "code",
   "execution_count": 296,
   "metadata": {},
   "outputs": [
    {
     "data": {
      "image/png": "[encoded data removed]",
      "text/plain": [
       "<Figure size 1000x800 with 2 Axes>"
      ]
     },
     "metadata": {},
     "output_type": "display_data"
    }
   ],
   "source": [
    "# Seleccionar solo las columnas numéricas    \n",
    "numeric_columns = ['Año', 'ADSL', 'Cablemodem', 'Fibra óptica', 'Wireless', 'Otros',]\n",
    "df_numeric = df5[numeric_columns]\n",
    "\n",
    "# Calcular la matriz de correlación\n",
    "correlation_matrix = df_numeric.corr()\n",
    "\n",
    "# Crear una figura y un eje\n",
    "fig, ax = plt.subplots(figsize=(10, 8))\n",
    "\n",
    "# Generar un mapa de calor en el eje\n",
    "sns.heatmap(correlation_matrix, annot=True, fmt=\".2f\", cmap='coolwarm', ax=ax)\n",
    "\n",
    "# Mostrar el gráfico\n",
    "plt.show()\n",
    "\n"
   ]
  },
  {
   "cell_type": "markdown",
   "metadata": {},
   "source": [
    "La matriz de correlación es una tabla que muestra los coeficientes de correlación entre las variables numericas. Un coeficiente de correlación de 1 significa que hay una correlación positiva perfecta entre las dos variables, mientras que un coeficiente de -1 significa que hay una correlación negativa perfecta. Un coeficiente de 0 significa que no hay correlación.Por lo tanto, no existe correlacion entre las variables."
   ]
  },
  {
   "cell_type": "markdown",
   "metadata": {},
   "source": [
    "# Uso de tecnología por trimestre en 2022"
   ]
  },
  {
   "cell_type": "code",
   "execution_count": 37,
   "metadata": {},
   "outputs": [
    {
     "data": {
      "application/vnd.plotly.v1+json": {
       "config": {
        "plotlyServerURL": "https://plot.ly"
       },
       "data": [
        {
         "domain": {
          "x": [
           0,
           0.235
          ],
          "y": [
           0,
           1
          ]
         },
         "hole": 0.3,
         "hovertemplate": "Trimestre=1<br>Tecnología=%{label}<br>Uso=%{value}<extra></extra>",
         "labels": [
          "Otros",
          "Wireless",
          "Wireless",
          "Wireless",
          "Wireless",
          "Wireless",
          "Wireless",
          "Wireless",
          "Wireless",
          "Wireless",
          "Wireless",
          "Wireless",
          "Wireless",
          "Fibra óptica",
          "Cablemodem",
          "Cablemodem",
          "Cablemodem",
          "Cablemodem",
          "Wireless",
          "Cablemodem",
          "Wireless",
          "Wireless",
          "ADSL",
          "ADSL",
          "ADSL",
          "ADSL",
          "ADSL",
          "ADSL",
          "ADSL",
          "ADSL",
          "ADSL",
          "Wireless",
          "Wireless",
          "Wireless",
          "Wireless",
          "Wireless",
          "Wireless",
          "Wireless",
          "Wireless",
          "Wireless",
          "Cablemodem",
          "Cablemodem",
          "Cablemodem",
          "Fibra óptica",
          "Fibra óptica",
          "Fibra óptica",
          "Fibra óptica",
          "Fibra óptica",
          "Fibra óptica",
          "Fibra óptica",
          "Fibra óptica",
          "Fibra óptica",
          "Fibra óptica",
          "Fibra óptica",
          "Fibra óptica",
          "Fibra óptica",
          "Fibra óptica",
          "Fibra óptica",
          "Fibra óptica",
          "Fibra óptica",
          "Fibra óptica",
          "Fibra óptica",
          "Fibra óptica",
          "Fibra óptica",
          "Cablemodem",
          "Cablemodem",
          "Cablemodem",
          "Cablemodem",
          "Cablemodem",
          "Cablemodem",
          "Cablemodem",
          "Cablemodem",
          "ADSL",
          "Cablemodem",
          "Cablemodem",
          "Cablemodem",
          "Cablemodem",
          "Cablemodem",
          "Cablemodem",
          "Cablemodem",
          "Otros",
          "Fibra óptica",
          "Cablemodem",
          "ADSL",
          "Fibra óptica",
          "ADSL",
          "Otros",
          "Otros",
          "Otros",
          "Otros",
          "Otros",
          "Otros",
          "Otros",
          "Otros",
          "Otros",
          "Otros",
          "Otros",
          "Otros",
          "ADSL",
          "ADSL",
          "Otros",
          "Otros",
          "Otros",
          "Otros",
          "Otros",
          "ADSL",
          "ADSL",
          "ADSL",
          "ADSL",
          "ADSL",
          "ADSL",
          "ADSL",
          "ADSL",
          "ADSL",
          "Otros",
          "Otros",
          "Otros",
          "ADSL",
          "Otros",
          "Otros"
         ],
         "legendgroup": "",
         "name": "",
         "showlegend": true,
         "type": "pie",
         "values": [
          487,
          6,
          20,
          5,
          17,
          26,
          7,
          61,
          31,
          8,
          1,
          6,
          126,
          416,
          3,
          1,
          16,
          65,
          27,
          67,
          8,
          17,
          39,
          45,
          34,
          8,
          11,
          213,
          18,
          13,
          93,
          4,
          124,
          6,
          45,
          4,
          72,
          21,
          6,
          23,
          502,
          79,
          139,
          236,
          11,
          23,
          5,
          26,
          22,
          10,
          123,
          25,
          24,
          38,
          41,
          11,
          31,
          11,
          147,
          1,
          9,
          37,
          29,
          62,
          16,
          61,
          59,
          59,
          74,
          92,
          73,
          45,
          28,
          99,
          11,
          23,
          445,
          88,
          39,
          62,
          340,
          1,
          14,
          39,
          86,
          9,
          1,
          31,
          1,
          4,
          202,
          13,
          8,
          5,
          21,
          2,
          2,
          67,
          392,
          49,
          10,
          745,
          30,
          7,
          18,
          8,
          21,
          67,
          40,
          196,
          44,
          16,
          14,
          102,
          3,
          21,
          405,
          32,
          29,
          8
         ]
        },
        {
         "domain": {
          "x": [
           0.255,
           0.49
          ],
          "y": [
           0,
           1
          ]
         },
         "hole": 0.3,
         "hovertemplate": "Trimestre=2<br>Tecnología=%{label}<br>Uso=%{value}<extra></extra>",
         "labels": [
          "Wireless",
          "Wireless",
          "Wireless",
          "Wireless",
          "Wireless",
          "Wireless",
          "Wireless",
          "Wireless",
          "Wireless",
          "Wireless",
          "Wireless",
          "Wireless",
          "Wireless",
          "Otros",
          "Wireless",
          "Wireless",
          "Wireless",
          "Otros",
          "Otros",
          "Otros",
          "Otros",
          "Otros",
          "Otros",
          "Otros",
          "Otros",
          "Wireless",
          "Wireless",
          "Wireless",
          "Fibra óptica",
          "Wireless",
          "Fibra óptica",
          "Fibra óptica",
          "Fibra óptica",
          "Fibra óptica",
          "Fibra óptica",
          "Fibra óptica",
          "Fibra óptica",
          "Fibra óptica",
          "Fibra óptica",
          "Fibra óptica",
          "Fibra óptica",
          "Fibra óptica",
          "Otros",
          "Fibra óptica",
          "Fibra óptica",
          "Fibra óptica",
          "Fibra óptica",
          "Fibra óptica",
          "Fibra óptica",
          "Fibra óptica",
          "Fibra óptica",
          "Fibra óptica",
          "Fibra óptica",
          "Fibra óptica",
          "Otros",
          "Wireless",
          "Wireless",
          "Wireless",
          "Otros",
          "Otros",
          "Otros",
          "Cablemodem",
          "Cablemodem",
          "Otros",
          "ADSL",
          "ADSL",
          "ADSL",
          "ADSL",
          "ADSL",
          "ADSL",
          "ADSL",
          "ADSL",
          "ADSL",
          "ADSL",
          "ADSL",
          "ADSL",
          "ADSL",
          "ADSL",
          "ADSL",
          "ADSL",
          "ADSL",
          "ADSL",
          "ADSL",
          "ADSL",
          "ADSL",
          "ADSL",
          "ADSL",
          "ADSL",
          "Cablemodem",
          "Cablemodem",
          "Wireless",
          "Cablemodem",
          "Cablemodem",
          "Cablemodem",
          "Cablemodem",
          "Cablemodem",
          "Cablemodem",
          "Cablemodem",
          "Cablemodem",
          "Cablemodem",
          "Cablemodem",
          "Cablemodem",
          "Cablemodem",
          "Cablemodem",
          "Otros",
          "Otros",
          "Otros",
          "Otros",
          "Otros",
          "Otros",
          "Otros",
          "Otros",
          "Otros",
          "Cablemodem",
          "Cablemodem",
          "Cablemodem",
          "Cablemodem",
          "Cablemodem",
          "Cablemodem",
          "Cablemodem"
         ],
         "legendgroup": "",
         "name": "",
         "showlegend": true,
         "type": "pie",
         "values": [
          10,
          17,
          27,
          11,
          27,
          20,
          4,
          17,
          26,
          22,
          7,
          6,
          71,
          579,
          43,
          7,
          125,
          651,
          3,
          20,
          15,
          7,
          19,
          1,
          8,
          61,
          4,
          30,
          19,
          1,
          149,
          403,
          12,
          190,
          11,
          248,
          12,
          47,
          41,
          29,
          34,
          136,
          2,
          23,
          34,
          10,
          36,
          18,
          309,
          10,
          42,
          42,
          122,
          1,
          487,
          127,
          6,
          8,
          31,
          8,
          2,
          1,
          3,
          1,
          351,
          145,
          12,
          30,
          45,
          179,
          38,
          64,
          15,
          20,
          8,
          8,
          38,
          37,
          30,
          36,
          43,
          39,
          7,
          10,
          198,
          17,
          13,
          86,
          9,
          61,
          4,
          468,
          78,
          89,
          75,
          47,
          96,
          20,
          29,
          24,
          69,
          80,
          40,
          15,
          71,
          32,
          2,
          2,
          9,
          10,
          5,
          13,
          212,
          53,
          59,
          428,
          131,
          25,
          54,
          76
         ]
        },
        {
         "domain": {
          "x": [
           0.51,
           0.745
          ],
          "y": [
           0,
           1
          ]
         },
         "hole": 0.3,
         "hovertemplate": "Trimestre=3<br>Tecnología=%{label}<br>Uso=%{value}<extra></extra>",
         "labels": [
          "Otros",
          "Otros",
          "Otros",
          "Otros",
          "Otros",
          "Otros",
          "Otros",
          "Otros",
          "Otros",
          "Otros",
          "Otros",
          "Otros",
          "Otros",
          "Otros",
          "Otros",
          "Otros",
          "Otros",
          "Otros",
          "Otros",
          "Otros",
          "Otros",
          "Otros",
          "Otros",
          "Wireless",
          "Wireless",
          "Wireless",
          "Wireless",
          "Wireless",
          "Wireless",
          "Wireless",
          "Wireless",
          "Wireless",
          "Wireless",
          "Wireless",
          "Wireless",
          "Wireless",
          "Wireless",
          "Wireless",
          "Wireless",
          "Wireless",
          "Otros",
          "Wireless",
          "Wireless",
          "Wireless",
          "Wireless",
          "Wireless",
          "Wireless",
          "Wireless",
          "Fibra óptica",
          "ADSL",
          "ADSL",
          "ADSL",
          "ADSL",
          "ADSL",
          "ADSL",
          "ADSL",
          "ADSL",
          "ADSL",
          "Cablemodem",
          "ADSL",
          "ADSL",
          "ADSL",
          "ADSL",
          "ADSL",
          "ADSL",
          "ADSL",
          "ADSL",
          "ADSL",
          "ADSL",
          "ADSL",
          "ADSL",
          "ADSL",
          "Cablemodem",
          "Cablemodem",
          "Cablemodem",
          "Cablemodem",
          "Cablemodem",
          "Cablemodem",
          "Cablemodem",
          "Cablemodem",
          "Cablemodem",
          "Cablemodem",
          "Cablemodem",
          "Cablemodem",
          "Cablemodem",
          "Cablemodem",
          "Cablemodem",
          "Cablemodem",
          "Cablemodem",
          "Cablemodem",
          "Cablemodem",
          "Cablemodem",
          "ADSL",
          "Cablemodem",
          "Fibra óptica",
          "Fibra óptica",
          "Cablemodem",
          "Fibra óptica",
          "Fibra óptica",
          "Fibra óptica",
          "Fibra óptica",
          "Fibra óptica",
          "Fibra óptica",
          "Fibra óptica",
          "Fibra óptica",
          "Fibra óptica",
          "Fibra óptica",
          "ADSL",
          "Fibra óptica",
          "Fibra óptica",
          "Fibra óptica",
          "Fibra óptica",
          "Fibra óptica",
          "Fibra óptica",
          "Cablemodem",
          "Fibra óptica",
          "Fibra óptica",
          "Fibra óptica",
          "Fibra óptica",
          "Fibra óptica"
         ],
         "legendgroup": "",
         "name": "",
         "showlegend": true,
         "type": "pie",
         "values": [
          3,
          651,
          32,
          2,
          2,
          9,
          10,
          5,
          13,
          212,
          20,
          2,
          70,
          3,
          8,
          1,
          19,
          7,
          8,
          15,
          582,
          4,
          31,
          1,
          4,
          6,
          127,
          30,
          7,
          26,
          17,
          4,
          20,
          6,
          28,
          11,
          27,
          17,
          10,
          22,
          519,
          71,
          4,
          43,
          7,
          125,
          8,
          61,
          162,
          7,
          10,
          7,
          39,
          40,
          36,
          29,
          36,
          38,
          1,
          8,
          19,
          14,
          60,
          37,
          164,
          45,
          27,
          10,
          141,
          184,
          340,
          15,
          19,
          72,
          465,
          77,
          133,
          26,
          53,
          60,
          54,
          79,
          89,
          76,
          48,
          97,
          23,
          29,
          24,
          426,
          81,
          40,
          13,
          3,
          1,
          129,
          62,
          403,
          13,
          215,
          11,
          248,
          12,
          50,
          41,
          29,
          39,
          78,
          20,
          143,
          46,
          45,
          10,
          339,
          10,
          37,
          11,
          40,
          24,
          19
         ]
        },
        {
         "domain": {
          "x": [
           0.7649999999999999,
           0.9999999999999999
          ],
          "y": [
           0,
           1
          ]
         },
         "hole": 0.3,
         "hovertemplate": "Trimestre=4<br>Tecnología=%{label}<br>Uso=%{value}<extra></extra>",
         "labels": [
          "Cablemodem",
          "Cablemodem",
          "Cablemodem",
          "Cablemodem",
          "Cablemodem",
          "Cablemodem",
          "Cablemodem",
          "Cablemodem",
          "Cablemodem",
          "Cablemodem",
          "Cablemodem",
          "Cablemodem",
          "Cablemodem",
          "Cablemodem",
          "Cablemodem",
          "Cablemodem",
          "Cablemodem",
          "Cablemodem",
          "Cablemodem",
          "Cablemodem",
          "Cablemodem",
          "Wireless",
          "ADSL",
          "ADSL",
          "ADSL",
          "ADSL",
          "ADSL",
          "ADSL",
          "ADSL",
          "ADSL",
          "ADSL",
          "ADSL",
          "ADSL",
          "Cablemodem",
          "ADSL",
          "ADSL",
          "ADSL",
          "ADSL",
          "ADSL",
          "ADSL",
          "ADSL",
          "ADSL",
          "ADSL",
          "ADSL",
          "ADSL",
          "ADSL",
          "Cablemodem",
          "Otros",
          "Otros",
          "Wireless",
          "Wireless",
          "Wireless",
          "Wireless",
          "Fibra óptica",
          "Fibra óptica",
          "Wireless",
          "Fibra óptica",
          "Fibra óptica",
          "Fibra óptica",
          "Fibra óptica",
          "Fibra óptica",
          "Fibra óptica",
          "Fibra óptica",
          "Fibra óptica",
          "Fibra óptica",
          "Wireless",
          "Wireless",
          "Wireless",
          "Wireless",
          "Wireless",
          "Wireless",
          "Wireless",
          "Wireless",
          "Wireless",
          "Wireless",
          "Wireless",
          "Wireless",
          "Wireless",
          "Wireless",
          "Wireless",
          "Wireless",
          "Wireless",
          "Fibra óptica",
          "Fibra óptica",
          "Fibra óptica",
          "Otros",
          "Otros",
          "Otros",
          "Otros",
          "Otros",
          "Otros",
          "Otros",
          "Otros",
          "Otros",
          "Otros",
          "Otros",
          "Otros",
          "Otros",
          "Otros",
          "Otros",
          "Otros",
          "Otros",
          "Otros",
          "Fibra óptica",
          "Fibra óptica",
          "Fibra óptica",
          "Fibra óptica",
          "Fibra óptica",
          "Fibra óptica",
          "Fibra óptica",
          "Fibra óptica",
          "Fibra óptica",
          "Fibra óptica",
          "Cablemodem",
          "Wireless",
          "Otros",
          "Otros",
          "Otros",
          "Otros",
          "ADSL"
         ],
         "legendgroup": "",
         "name": "",
         "showlegend": true,
         "type": "pie",
         "values": [
          412,
          24,
          43,
          23,
          97,
          48,
          73,
          87,
          78,
          52,
          61,
          17,
          136,
          457,
          74,
          61,
          11,
          1,
          3,
          54,
          80,
          5,
          69,
          139,
          9,
          25,
          45,
          152,
          34,
          56,
          14,
          18,
          8,
          81,
          6,
          33,
          29,
          34,
          37,
          39,
          6,
          10,
          164,
          14,
          13,
          38,
          41,
          72,
          651,
          44,
          7,
          157,
          4,
          169,
          405,
          4,
          15,
          12,
          3,
          12,
          53,
          44,
          32,
          249,
          47,
          82,
          12,
          1,
          8,
          31,
          62,
          9,
          26,
          22,
          18,
          20,
          6,
          28,
          11,
          24,
          16,
          4,
          147,
          19,
          25,
          227,
          1,
          1,
          32,
          2,
          8,
          13,
          4,
          7,
          8,
          511,
          662,
          19,
          3,
          19,
          5,
          11,
          9,
          43,
          13,
          41,
          27,
          367,
          10,
          47,
          47,
          139,
          1,
          21,
          130,
          32,
          2,
          3,
          527,
          326
         ]
        }
       ],
       "layout": {
        "annotations": [
         {
          "font": {},
          "showarrow": false,
          "text": "Trimestre=1",
          "x": 0.1175,
          "xanchor": "center",
          "xref": "paper",
          "y": 1,
          "yanchor": "bottom",
          "yref": "paper"
         },
         {
          "font": {},
          "showarrow": false,
          "text": "Trimestre=2",
          "x": 0.3725,
          "xanchor": "center",
          "xref": "paper",
          "y": 1,
          "yanchor": "bottom",
          "yref": "paper"
         },
         {
          "font": {},
          "showarrow": false,
          "text": "Trimestre=3",
          "x": 0.6275,
          "xanchor": "center",
          "xref": "paper",
          "y": 1,
          "yanchor": "bottom",
          "yref": "paper"
         },
         {
          "font": {},
          "showarrow": false,
          "text": "Trimestre=4",
          "x": 0.8824999999999998,
          "xanchor": "center",
          "xref": "paper",
          "y": 1,
          "yanchor": "bottom",
          "yref": "paper"
         }
        ],
        "legend": {
         "tracegroupgap": 0
        },
        "template": {
         "data": {
          "bar": [
           {
            "error_x": {
             "color": "#2a3f5f"
            },
            "error_y": {
             "color": "#2a3f5f"
            },
            "marker": {
             "line": {
              "color": "#E5ECF6",
              "width": 0.5
             },
             "pattern": {
              "fillmode": "overlay",
              "size": 10,
              "solidity": 0.2
             }
            },
            "type": "bar"
           }
          ],
          "barpolar": [
           {
            "marker": {
             "line": {
              "color": "#E5ECF6",
              "width": 0.5
             },
             "pattern": {
              "fillmode": "overlay",
              "size": 10,
              "solidity": 0.2
             }
            },
            "type": "barpolar"
           }
          ],
          "carpet": [
           {
            "aaxis": {
             "endlinecolor": "#2a3f5f",
             "gridcolor": "white",
             "linecolor": "white",
             "minorgridcolor": "white",
             "startlinecolor": "#2a3f5f"
            },
            "baxis": {
             "endlinecolor": "#2a3f5f",
             "gridcolor": "white",
             "linecolor": "white",
             "minorgridcolor": "white",
             "startlinecolor": "#2a3f5f"
            },
            "type": "carpet"
           }
          ],
          "choropleth": [
           {
            "colorbar": {
             "outlinewidth": 0,
             "ticks": ""
            },
            "type": "choropleth"
           }
          ],
          "contour": [
           {
            "colorbar": {
             "outlinewidth": 0,
             "ticks": ""
            },
            "colorscale": [
             [
              0,
              "#0d0887"
             ],
             [
              0.1111111111111111,
              "#46039f"
             ],
             [
              0.2222222222222222,
              "#7201a8"
             ],
             [
              0.3333333333333333,
              "#9c179e"
             ],
             [
              0.4444444444444444,
              "#bd3786"
             ],
             [
              0.5555555555555556,
              "#d8576b"
             ],
             [
              0.6666666666666666,
              "#ed7953"
             ],
             [
              0.7777777777777778,
              "#fb9f3a"
             ],
             [
              0.8888888888888888,
              "#fdca26"
             ],
             [
              1,
              "#f0f921"
             ]
            ],
            "type": "contour"
           }
          ],
          "contourcarpet": [
           {
            "colorbar": {
             "outlinewidth": 0,
             "ticks": ""
            },
            "type": "contourcarpet"
           }
          ],
          "heatmap": [
           {
            "colorbar": {
             "outlinewidth": 0,
             "ticks": ""
            },
            "colorscale": [
             [
              0,
              "#0d0887"
             ],
             [
              0.1111111111111111,
              "#46039f"
             ],
             [
              0.2222222222222222,
              "#7201a8"
             ],
             [
              0.3333333333333333,
              "#9c179e"
             ],
             [
              0.4444444444444444,
              "#bd3786"
             ],
             [
              0.5555555555555556,
              "#d8576b"
             ],
             [
              0.6666666666666666,
              "#ed7953"
             ],
             [
              0.7777777777777778,
              "#fb9f3a"
             ],
             [
              0.8888888888888888,
              "#fdca26"
             ],
             [
              1,
              "#f0f921"
             ]
            ],
            "type": "heatmap"
           }
          ],
          "heatmapgl": [
           {
            "colorbar": {
             "outlinewidth": 0,
             "ticks": ""
            },
            "colorscale": [
             [
              0,
              "#0d0887"
             ],
             [
              0.1111111111111111,
              "#46039f"
             ],
             [
              0.2222222222222222,
              "#7201a8"
             ],
             [
              0.3333333333333333,
              "#9c179e"
             ],
             [
              0.4444444444444444,
              "#bd3786"
             ],
             [
              0.5555555555555556,
              "#d8576b"
             ],
             [
              0.6666666666666666,
              "#ed7953"
             ],
             [
              0.7777777777777778,
              "#fb9f3a"
             ],
             [
              0.8888888888888888,
              "#fdca26"
             ],
             [
              1,
              "#f0f921"
             ]
            ],
            "type": "heatmapgl"
           }
          ],
          "histogram": [
           {
            "marker": {
             "pattern": {
              "fillmode": "overlay",
              "size": 10,
              "solidity": 0.2
             }
            },
            "type": "histogram"
           }
          ],
          "histogram2d": [
           {
            "colorbar": {
             "outlinewidth": 0,
             "ticks": ""
            },
            "colorscale": [
             [
              0,
              "#0d0887"
             ],
             [
              0.1111111111111111,
              "#46039f"
             ],
             [
              0.2222222222222222,
              "#7201a8"
             ],
             [
              0.3333333333333333,
              "#9c179e"
             ],
             [
              0.4444444444444444,
              "#bd3786"
             ],
             [
              0.5555555555555556,
              "#d8576b"
             ],
             [
              0.6666666666666666,
              "#ed7953"
             ],
             [
              0.7777777777777778,
              "#fb9f3a"
             ],
             [
              0.8888888888888888,
              "#fdca26"
             ],
             [
              1,
              "#f0f921"
             ]
            ],
            "type": "histogram2d"
           }
          ],
          "histogram2dcontour": [
           {
            "colorbar": {
             "outlinewidth": 0,
             "ticks": ""
            },
            "colorscale": [
             [
              0,
              "#0d0887"
             ],
             [
              0.1111111111111111,
              "#46039f"
             ],
             [
              0.2222222222222222,
              "#7201a8"
             ],
             [
              0.3333333333333333,
              "#9c179e"
             ],
             [
              0.4444444444444444,
              "#bd3786"
             ],
             [
              0.5555555555555556,
              "#d8576b"
             ],
             [
              0.6666666666666666,
              "#ed7953"
             ],
             [
              0.7777777777777778,
              "#fb9f3a"
             ],
             [
              0.8888888888888888,
              "#fdca26"
             ],
             [
              1,
              "#f0f921"
             ]
            ],
            "type": "histogram2dcontour"
           }
          ],
          "mesh3d": [
           {
            "colorbar": {
             "outlinewidth": 0,
             "ticks": ""
            },
            "type": "mesh3d"
           }
          ],
          "parcoords": [
           {
            "line": {
             "colorbar": {
              "outlinewidth": 0,
              "ticks": ""
             }
            },
            "type": "parcoords"
           }
          ],
          "pie": [
           {
            "automargin": true,
            "type": "pie"
           }
          ],
          "scatter": [
           {
            "fillpattern": {
             "fillmode": "overlay",
             "size": 10,
             "solidity": 0.2
            },
            "type": "scatter"
           }
          ],
          "scatter3d": [
           {
            "line": {
             "colorbar": {
              "outlinewidth": 0,
              "ticks": ""
             }
            },
            "marker": {
             "colorbar": {
              "outlinewidth": 0,
              "ticks": ""
             }
            },
            "type": "scatter3d"
           }
          ],
          "scattercarpet": [
           {
            "marker": {
             "colorbar": {
              "outlinewidth": 0,
              "ticks": ""
             }
            },
            "type": "scattercarpet"
           }
          ],
          "scattergeo": [
           {
            "marker": {
             "colorbar": {
              "outlinewidth": 0,
              "ticks": ""
             }
            },
            "type": "scattergeo"
           }
          ],
          "scattergl": [
           {
            "marker": {
             "colorbar": {
              "outlinewidth": 0,
              "ticks": ""
             }
            },
            "type": "scattergl"
           }
          ],
          "scattermapbox": [
           {
            "marker": {
             "colorbar": {
              "outlinewidth": 0,
              "ticks": ""
             }
            },
            "type": "scattermapbox"
           }
          ],
          "scatterpolar": [
           {
            "marker": {
             "colorbar": {
              "outlinewidth": 0,
              "ticks": ""
             }
            },
            "type": "scatterpolar"
           }
          ],
          "scatterpolargl": [
           {
            "marker": {
             "colorbar": {
              "outlinewidth": 0,
              "ticks": ""
             }
            },
            "type": "scatterpolargl"
           }
          ],
          "scatterternary": [
           {
            "marker": {
             "colorbar": {
              "outlinewidth": 0,
              "ticks": ""
             }
            },
            "type": "scatterternary"
           }
          ],
          "surface": [
           {
            "colorbar": {
             "outlinewidth": 0,
             "ticks": ""
            },
            "colorscale": [
             [
              0,
              "#0d0887"
             ],
             [
              0.1111111111111111,
              "#46039f"
             ],
             [
              0.2222222222222222,
              "#7201a8"
             ],
             [
              0.3333333333333333,
              "#9c179e"
             ],
             [
              0.4444444444444444,
              "#bd3786"
             ],
             [
              0.5555555555555556,
              "#d8576b"
             ],
             [
              0.6666666666666666,
              "#ed7953"
             ],
             [
              0.7777777777777778,
              "#fb9f3a"
             ],
             [
              0.8888888888888888,
              "#fdca26"
             ],
             [
              1,
              "#f0f921"
             ]
            ],
            "type": "surface"
           }
          ],
          "table": [
           {
            "cells": {
             "fill": {
              "color": "#EBF0F8"
             },
             "line": {
              "color": "white"
             }
            },
            "header": {
             "fill": {
              "color": "#C8D4E3"
             },
             "line": {
              "color": "white"
             }
            },
            "type": "table"
           }
          ]
         },
         "layout": {
          "annotationdefaults": {
           "arrowcolor": "#2a3f5f",
           "arrowhead": 0,
           "arrowwidth": 1
          },
          "autotypenumbers": "strict",
          "coloraxis": {
           "colorbar": {
            "outlinewidth": 0,
            "ticks": ""
           }
          },
          "colorscale": {
           "diverging": [
            [
             0,
             "#8e0152"
            ],
            [
             0.1,
             "#c51b7d"
            ],
            [
             0.2,
             "#de77ae"
            ],
            [
             0.3,
             "#f1b6da"
            ],
            [
             0.4,
             "#fde0ef"
            ],
            [
             0.5,
             "#f7f7f7"
            ],
            [
             0.6,
             "#e6f5d0"
            ],
            [
             0.7,
             "#b8e186"
            ],
            [
             0.8,
             "#7fbc41"
            ],
            [
             0.9,
             "#4d9221"
            ],
            [
             1,
             "#276419"
            ]
           ],
           "sequential": [
            [
             0,
             "#0d0887"
            ],
            [
             0.1111111111111111,
             "#46039f"
            ],
            [
             0.2222222222222222,
             "#7201a8"
            ],
            [
             0.3333333333333333,
             "#9c179e"
            ],
            [
             0.4444444444444444,
             "#bd3786"
            ],
            [
             0.5555555555555556,
             "#d8576b"
            ],
            [
             0.6666666666666666,
             "#ed7953"
            ],
            [
             0.7777777777777778,
             "#fb9f3a"
            ],
            [
             0.8888888888888888,
             "#fdca26"
            ],
            [
             1,
             "#f0f921"
            ]
           ],
           "sequentialminus": [
            [
             0,
             "#0d0887"
            ],
            [
             0.1111111111111111,
             "#46039f"
            ],
            [
             0.2222222222222222,
             "#7201a8"
            ],
            [
             0.3333333333333333,
             "#9c179e"
            ],
            [
             0.4444444444444444,
             "#bd3786"
            ],
            [
             0.5555555555555556,
             "#d8576b"
            ],
            [
             0.6666666666666666,
             "#ed7953"
            ],
            [
             0.7777777777777778,
             "#fb9f3a"
            ],
            [
             0.8888888888888888,
             "#fdca26"
            ],
            [
             1,
             "#f0f921"
            ]
           ]
          },
          "colorway": [
           "#636efa",
           "#EF553B",
           "#00cc96",
           "#ab63fa",
           "#FFA15A",
           "#19d3f3",
           "#FF6692",
           "#B6E880",
           "#FF97FF",
           "#FECB52"
          ],
          "font": {
           "color": "#2a3f5f"
          },
          "geo": {
           "bgcolor": "white",
           "lakecolor": "white",
           "landcolor": "#E5ECF6",
           "showlakes": true,
           "showland": true,
           "subunitcolor": "white"
          },
          "hoverlabel": {
           "align": "left"
          },
          "hovermode": "closest",
          "mapbox": {
           "style": "light"
          },
          "paper_bgcolor": "white",
          "plot_bgcolor": "#E5ECF6",
          "polar": {
           "angularaxis": {
            "gridcolor": "white",
            "linecolor": "white",
            "ticks": ""
           },
           "bgcolor": "#E5ECF6",
           "radialaxis": {
            "gridcolor": "white",
            "linecolor": "white",
            "ticks": ""
           }
          },
          "scene": {
           "xaxis": {
            "backgroundcolor": "#E5ECF6",
            "gridcolor": "white",
            "gridwidth": 2,
            "linecolor": "white",
            "showbackground": true,
            "ticks": "",
            "zerolinecolor": "white"
           },
           "yaxis": {
            "backgroundcolor": "#E5ECF6",
            "gridcolor": "white",
            "gridwidth": 2,
            "linecolor": "white",
            "showbackground": true,
            "ticks": "",
            "zerolinecolor": "white"
           },
           "zaxis": {
            "backgroundcolor": "#E5ECF6",
            "gridcolor": "white",
            "gridwidth": 2,
            "linecolor": "white",
            "showbackground": true,
            "ticks": "",
            "zerolinecolor": "white"
           }
          },
          "shapedefaults": {
           "line": {
            "color": "#2a3f5f"
           }
          },
          "ternary": {
           "aaxis": {
            "gridcolor": "white",
            "linecolor": "white",
            "ticks": ""
           },
           "baxis": {
            "gridcolor": "white",
            "linecolor": "white",
            "ticks": ""
           },
           "bgcolor": "#E5ECF6",
           "caxis": {
            "gridcolor": "white",
            "linecolor": "white",
            "ticks": ""
           }
          },
          "title": {
           "x": 0.05
          },
          "xaxis": {
           "automargin": true,
           "gridcolor": "white",
           "linecolor": "white",
           "ticks": "",
           "title": {
            "standoff": 15
           },
           "zerolinecolor": "white",
           "zerolinewidth": 2
          },
          "yaxis": {
           "automargin": true,
           "gridcolor": "white",
           "linecolor": "white",
           "ticks": "",
           "title": {
            "standoff": 15
           },
           "zerolinecolor": "white",
           "zerolinewidth": 2
          }
         }
        },
        "title": {
         "text": "Uso de tecnología por trimestre en 2022"
        }
       }
      }
     },
     "metadata": {},
     "output_type": "display_data"
    }
   ],
   "source": [
    "# Filtrar el Dataframe para el año 2022\n",
    "df_2022 = df5[df5['Año'] == 2022]\n",
    "\n",
    "# Crear un dataframe de larga forma para el gráfico\n",
    "df_long = df_2022.melt(id_vars=['Trimestre'], value_vars=['ADSL', 'Cablemodem', 'Fibra óptica', 'Wireless', 'Otros'], var_name='Tecnología', value_name='Uso')\n",
    "\n",
    "# Cambiar el tipo de datos de la columna 'Trimestre' a numérico\n",
    "df_long['Trimestre'] = pd.to_numeric(df_long['Trimestre'])\n",
    "\n",
    "# Ordenar el dataframe por 'Trimestre' en orden descendente\n",
    "df_long = df_long.sort_values('Trimestre', ascending=True)\n",
    "\n",
    "# Crear gráficos de pastel separados para cada trimestre\n",
    "fig = px.pie(df_long, names='Tecnología', values='Uso', title=\"Uso de tecnología por trimestre en 2022\", facet_col=\"Trimestre\", hole=0.3)\n",
    "\n",
    "# Mostrar el gráfico\n",
    "fig.show()\n",
    "\n"
   ]
  },
  {
   "cell_type": "markdown",
   "metadata": {},
   "source": [
    "Los gráficos de pastel muestra la participación de diferentes tipos de tecnología en el acceso a internet en Argentina durante el año 2022 por cada uno de los trimestres.  Los tipos de tecnología incluyen ADSL, Cablemodem, Fibra óptica, Wireless y Otros.\n",
    "\n",
    "# Información Clave\n",
    "\n",
    "**Distribución de Tecnología:**\n",
    " El gráfico proporciona una visión clara de cómo se distribuye el acceso a internet entre diferentes tipos de tecnología. Esto puede ayudar a identificar qué tecnologías son más populares y cuáles son menos utilizadas. Se observa que la Fibra Optica es la que abarca la mayor cantidad del mercado. \n",
    "\n",
    "**Tendencias de Uso:** \n",
    "Al observar los porcentajes, podemos identificar las tendencias de uso de diferentes tecnologías. Por ejemplo, si una tecnología tiene un porcentaje alto, significa que es ampliamente utilizada para el acceso a internet.\n",
    "\n",
    "**Oportunidades de Mercado:**\n",
    " Las tecnologías con porcentajes más bajos pueden representar oportunidades de mercado. Estas tecnologías pueden ser áreas en las que se podría invertir para mejorar la infraestructura y aumentar su uso.\n",
    "\n",
    "**Beneficios para el Cliente:**\n",
    "Este gráfico puede ser útil para nuestros clientes de varias maneras:\n",
    "\n",
    "**Planificación Estratégica:** Los clientes pueden utilizar esta información para planificar estrategias de negocio, como invertir en tecnologías específicas o mejorar las existentes.\n",
    "\n",
    "**Toma de Decisiones:** Este gráfico puede ayudar en la toma de decisiones al proporcionar una visión clara de las tendencia en el uso del tipo de tecnologia "
   ]
  },
  {
   "cell_type": "markdown",
   "metadata": {},
   "source": [
    " **Se utiliza el df12 para analizar los ingresos generados trimestralmente por la prestacion del servicio de Internet fijo.**"
   ]
  },
  {
   "cell_type": "code",
   "execution_count": 46,
   "metadata": {},
   "outputs": [
    {
     "name": "stdout",
     "output_type": "stream",
     "text": [
      "(36, 4)\n"
     ]
    },
    {
     "data": {
      "text/html": [
       "<div>\n",
       "<style scoped>\n",
       "    .dataframe tbody tr th:only-of-type {\n",
       "        vertical-align: middle;\n",
       "    }\n",
       "\n",
       "    .dataframe tbody tr th {\n",
       "        vertical-align: top;\n",
       "    }\n",
       "\n",
       "    .dataframe thead th {\n",
       "        text-align: right;\n",
       "    }\n",
       "</style>\n",
       "<table border=\"1\" class=\"dataframe\">\n",
       "  <thead>\n",
       "    <tr style=\"text-align: right;\">\n",
       "      <th></th>\n",
       "      <th>Año</th>\n",
       "      <th>Trimestre</th>\n",
       "      <th>Ingresos (miles de pesos)</th>\n",
       "      <th>Periodo</th>\n",
       "    </tr>\n",
       "  </thead>\n",
       "  <tbody>\n",
       "    <tr>\n",
       "      <th>0</th>\n",
       "      <td>2022</td>\n",
       "      <td>4</td>\n",
       "      <td>72</td>\n",
       "      <td>Oct-Dic 2022</td>\n",
       "    </tr>\n",
       "    <tr>\n",
       "      <th>1</th>\n",
       "      <td>2022</td>\n",
       "      <td>3</td>\n",
       "      <td>64</td>\n",
       "      <td>Jul-Sept 2022</td>\n",
       "    </tr>\n",
       "    <tr>\n",
       "      <th>2</th>\n",
       "      <td>2022</td>\n",
       "      <td>2</td>\n",
       "      <td>60</td>\n",
       "      <td>Abr-Jun 2022</td>\n",
       "    </tr>\n",
       "    <tr>\n",
       "      <th>3</th>\n",
       "      <td>2022</td>\n",
       "      <td>1</td>\n",
       "      <td>55</td>\n",
       "      <td>Ene-Mar 2022</td>\n",
       "    </tr>\n",
       "    <tr>\n",
       "      <th>4</th>\n",
       "      <td>2021</td>\n",
       "      <td>4</td>\n",
       "      <td>45</td>\n",
       "      <td>Oct-Dic 2021</td>\n",
       "    </tr>\n",
       "  </tbody>\n",
       "</table>\n",
       "</div>"
      ],
      "text/plain": [
       "    Año  Trimestre  Ingresos (miles de pesos)        Periodo\n",
       "0  2022          4                         72   Oct-Dic 2022\n",
       "1  2022          3                         64  Jul-Sept 2022\n",
       "2  2022          2                         60   Abr-Jun 2022\n",
       "3  2022          1                         55   Ene-Mar 2022\n",
       "4  2021          4                         45   Oct-Dic 2021"
      ]
     },
     "execution_count": 46,
     "metadata": {},
     "output_type": "execute_result"
    }
   ],
   "source": [
    "#Ingresos trimestrales por la prestación del servicio de Internet fijo\n",
    "df12= pd.read_csv(\"datasets/ing_tri_if.csv\")\n",
    "# Mostrar las primeras filas y estadísticas descriptivas : El dataset consta de 36 y 5 columnas\n",
    "print(df12.shape)\n",
    "df12.head()"
   ]
  },
  {
   "cell_type": "code",
   "execution_count": 301,
   "metadata": {},
   "outputs": [
    {
     "name": "stdout",
     "output_type": "stream",
     "text": [
      "               Año  Trimestre  Ingresos (miles de pesos)\n",
      "count    36.000000  36.000000                  36.000000\n",
      "mean   2018.000000   2.500000                  21.888889\n",
      "std       2.618615   1.133893                  19.239510\n",
      "min    2014.000000   1.000000                   3.000000\n",
      "25%    2016.000000   1.750000                   6.750000\n",
      "50%    2018.000000   2.500000                  14.500000\n",
      "75%    2020.000000   3.250000                  32.500000\n",
      "max    2022.000000   4.000000                  72.000000\n"
     ]
    }
   ],
   "source": [
    "#Reviso las primeras filas y las estadísticas descriptivas básicas de cada dataset.\n",
    "print(df12.describe())"
   ]
  },
  {
   "cell_type": "code",
   "execution_count": 302,
   "metadata": {},
   "outputs": [
    {
     "name": "stdout",
     "output_type": "stream",
     "text": [
      "Año                          0\n",
      "Trimestre                    0\n",
      "Ingresos (miles de pesos)    0\n",
      "Periodo                      0\n",
      "dtype: int64\n"
     ]
    }
   ],
   "source": [
    "# Verificacion de datos nulos: No existen datos nulos\n",
    "print(df12.isnull().sum())"
   ]
  },
  {
   "cell_type": "code",
   "execution_count": 303,
   "metadata": {},
   "outputs": [
    {
     "name": "stdout",
     "output_type": "stream",
     "text": [
      "<class 'pandas.core.frame.DataFrame'>\n",
      "RangeIndex: 36 entries, 0 to 35\n",
      "Data columns (total 4 columns):\n",
      " #   Column                     Non-Null Count  Dtype \n",
      "---  ------                     --------------  ----- \n",
      " 0   Año                        36 non-null     int64 \n",
      " 1   Trimestre                  36 non-null     int64 \n",
      " 2   Ingresos (miles de pesos)  36 non-null     int64 \n",
      " 3   Periodo                    36 non-null     object\n",
      "dtypes: int64(3), object(1)\n",
      "memory usage: 1.3+ KB\n"
     ]
    }
   ],
   "source": [
    "# Verificacion de variables numericas y categoricas: Se observa que no tiene datos faltantes ya que las columnas tienen\n",
    "#l mismo numero de columnas#\n",
    "df12.info()"
   ]
  },
  {
   "cell_type": "code",
   "execution_count": 47,
   "metadata": {},
   "outputs": [
    {
     "name": "stdout",
     "output_type": "stream",
     "text": [
      "Cantidad de duplicados: 0\n"
     ]
    }
   ],
   "source": [
    "\n",
    "# Visualizacion de duplicados\n",
    "cantidad_duplicados = df12.duplicated().sum()\n",
    "print(\"Cantidad de duplicados:\", cantidad_duplicados)\n"
   ]
  },
  {
   "cell_type": "code",
   "execution_count": 45,
   "metadata": {},
   "outputs": [
    {
     "name": "stdout",
     "output_type": "stream",
     "text": [
      "Valores atípicos:\n",
      "    Año  Trimestre  Ingresos (miles de pesos)       Periodo\n",
      "0  2022          4                         72  Oct-Dic 2022\n"
     ]
    }
   ],
   "source": [
    "# Identificacion de Outliers Se encuentran pocos outliers en la columna de Ingresos \n",
    "Q1 = df12['Ingresos (miles de pesos)'].quantile(0.25)\n",
    "Q3 = df12['Ingresos (miles de pesos)'].quantile(0.75)\n",
    "\n",
    "# Calcular el rango intercuartílico (IQR)\n",
    "IQR = Q3 - Q1\n",
    "\n",
    "# Definir los límites para detectar valores atípicos\n",
    "lower_limit = Q1 - 1.5 * IQR\n",
    "upper_limit = Q3 + 1.5 * IQR\n",
    "\n",
    "# Filtrar los valores atípicos\n",
    "outliers = df12[(df12['Ingresos (miles de pesos)'] < lower_limit) | (df12['Ingresos (miles de pesos)'] > upper_limit)]\n",
    "\n",
    "# Mostrar los valores atípicos\n",
    "print(\"Valores atípicos:\")\n",
    "print(outliers)\n"
   ]
  },
  {
   "cell_type": "code",
   "execution_count": 44,
   "metadata": {},
   "outputs": [
    {
     "data": {
      "application/vnd.plotly.v1+json": {
       "config": {
        "plotlyServerURL": "https://plot.ly"
       },
       "data": [
        {
         "alignmentgroup": "True",
         "hovertemplate": "Año=%{marker.color}<br>Ingresos (miles de pesos)=%{y}<extra></extra>",
         "legendgroup": "",
         "marker": {
          "color": [
           2022,
           2022,
           2022,
           2022,
           2021,
           2021,
           2021,
           2021,
           2020,
           2020,
           2020,
           2020,
           2019,
           2019,
           2019,
           2019,
           2018,
           2018,
           2018,
           2018,
           2017,
           2017,
           2017,
           2017,
           2016,
           2016,
           2016,
           2016,
           2015,
           2015,
           2015,
           2015,
           2014,
           2014,
           2014,
           2014
          ],
          "coloraxis": "coloraxis",
          "line": {
           "width": 0
          },
          "pattern": {
           "shape": ""
          }
         },
         "name": "",
         "offsetgroup": "",
         "orientation": "v",
         "showlegend": false,
         "textposition": "auto",
         "type": "bar",
         "x": [
          2022,
          2022,
          2022,
          2022,
          2021,
          2021,
          2021,
          2021,
          2020,
          2020,
          2020,
          2020,
          2019,
          2019,
          2019,
          2019,
          2018,
          2018,
          2018,
          2018,
          2017,
          2017,
          2017,
          2017,
          2016,
          2016,
          2016,
          2016,
          2015,
          2015,
          2015,
          2015,
          2014,
          2014,
          2014,
          2014
         ],
         "xaxis": "x",
         "y": [
          72,
          64,
          60,
          55,
          45,
          43,
          38,
          37,
          34,
          32,
          32,
          30,
          24,
          22,
          21,
          20,
          17,
          15,
          14,
          13,
          11,
          10,
          10,
          9,
          7,
          7,
          7,
          6,
          5,
          5,
          5,
          5,
          4,
          3,
          3,
          3
         ],
         "yaxis": "y"
        }
       ],
       "layout": {
        "barmode": "relative",
        "coloraxis": {
         "colorbar": {
          "title": {
           "text": "Año"
          }
         },
         "colorscale": [
          [
           0,
           "#0d0887"
          ],
          [
           0.1111111111111111,
           "#46039f"
          ],
          [
           0.2222222222222222,
           "#7201a8"
          ],
          [
           0.3333333333333333,
           "#9c179e"
          ],
          [
           0.4444444444444444,
           "#bd3786"
          ],
          [
           0.5555555555555556,
           "#d8576b"
          ],
          [
           0.6666666666666666,
           "#ed7953"
          ],
          [
           0.7777777777777778,
           "#fb9f3a"
          ],
          [
           0.8888888888888888,
           "#fdca26"
          ],
          [
           1,
           "#f0f921"
          ]
         ]
        },
        "legend": {
         "tracegroupgap": 0
        },
        "template": {
         "data": {
          "bar": [
           {
            "error_x": {
             "color": "#2a3f5f"
            },
            "error_y": {
             "color": "#2a3f5f"
            },
            "marker": {
             "line": {
              "color": "#E5ECF6",
              "width": 0.5
             },
             "pattern": {
              "fillmode": "overlay",
              "size": 10,
              "solidity": 0.2
             }
            },
            "type": "bar"
           }
          ],
          "barpolar": [
           {
            "marker": {
             "line": {
              "color": "#E5ECF6",
              "width": 0.5
             },
             "pattern": {
              "fillmode": "overlay",
              "size": 10,
              "solidity": 0.2
             }
            },
            "type": "barpolar"
           }
          ],
          "carpet": [
           {
            "aaxis": {
             "endlinecolor": "#2a3f5f",
             "gridcolor": "white",
             "linecolor": "white",
             "minorgridcolor": "white",
             "startlinecolor": "#2a3f5f"
            },
            "baxis": {
             "endlinecolor": "#2a3f5f",
             "gridcolor": "white",
             "linecolor": "white",
             "minorgridcolor": "white",
             "startlinecolor": "#2a3f5f"
            },
            "type": "carpet"
           }
          ],
          "choropleth": [
           {
            "colorbar": {
             "outlinewidth": 0,
             "ticks": ""
            },
            "type": "choropleth"
           }
          ],
          "contour": [
           {
            "colorbar": {
             "outlinewidth": 0,
             "ticks": ""
            },
            "colorscale": [
             [
              0,
              "#0d0887"
             ],
             [
              0.1111111111111111,
              "#46039f"
             ],
             [
              0.2222222222222222,
              "#7201a8"
             ],
             [
              0.3333333333333333,
              "#9c179e"
             ],
             [
              0.4444444444444444,
              "#bd3786"
             ],
             [
              0.5555555555555556,
              "#d8576b"
             ],
             [
              0.6666666666666666,
              "#ed7953"
             ],
             [
              0.7777777777777778,
              "#fb9f3a"
             ],
             [
              0.8888888888888888,
              "#fdca26"
             ],
             [
              1,
              "#f0f921"
             ]
            ],
            "type": "contour"
           }
          ],
          "contourcarpet": [
           {
            "colorbar": {
             "outlinewidth": 0,
             "ticks": ""
            },
            "type": "contourcarpet"
           }
          ],
          "heatmap": [
           {
            "colorbar": {
             "outlinewidth": 0,
             "ticks": ""
            },
            "colorscale": [
             [
              0,
              "#0d0887"
             ],
             [
              0.1111111111111111,
              "#46039f"
             ],
             [
              0.2222222222222222,
              "#7201a8"
             ],
             [
              0.3333333333333333,
              "#9c179e"
             ],
             [
              0.4444444444444444,
              "#bd3786"
             ],
             [
              0.5555555555555556,
              "#d8576b"
             ],
             [
              0.6666666666666666,
              "#ed7953"
             ],
             [
              0.7777777777777778,
              "#fb9f3a"
             ],
             [
              0.8888888888888888,
              "#fdca26"
             ],
             [
              1,
              "#f0f921"
             ]
            ],
            "type": "heatmap"
           }
          ],
          "heatmapgl": [
           {
            "colorbar": {
             "outlinewidth": 0,
             "ticks": ""
            },
            "colorscale": [
             [
              0,
              "#0d0887"
             ],
             [
              0.1111111111111111,
              "#46039f"
             ],
             [
              0.2222222222222222,
              "#7201a8"
             ],
             [
              0.3333333333333333,
              "#9c179e"
             ],
             [
              0.4444444444444444,
              "#bd3786"
             ],
             [
              0.5555555555555556,
              "#d8576b"
             ],
             [
              0.6666666666666666,
              "#ed7953"
             ],
             [
              0.7777777777777778,
              "#fb9f3a"
             ],
             [
              0.8888888888888888,
              "#fdca26"
             ],
             [
              1,
              "#f0f921"
             ]
            ],
            "type": "heatmapgl"
           }
          ],
          "histogram": [
           {
            "marker": {
             "pattern": {
              "fillmode": "overlay",
              "size": 10,
              "solidity": 0.2
             }
            },
            "type": "histogram"
           }
          ],
          "histogram2d": [
           {
            "colorbar": {
             "outlinewidth": 0,
             "ticks": ""
            },
            "colorscale": [
             [
              0,
              "#0d0887"
             ],
             [
              0.1111111111111111,
              "#46039f"
             ],
             [
              0.2222222222222222,
              "#7201a8"
             ],
             [
              0.3333333333333333,
              "#9c179e"
             ],
             [
              0.4444444444444444,
              "#bd3786"
             ],
             [
              0.5555555555555556,
              "#d8576b"
             ],
             [
              0.6666666666666666,
              "#ed7953"
             ],
             [
              0.7777777777777778,
              "#fb9f3a"
             ],
             [
              0.8888888888888888,
              "#fdca26"
             ],
             [
              1,
              "#f0f921"
             ]
            ],
            "type": "histogram2d"
           }
          ],
          "histogram2dcontour": [
           {
            "colorbar": {
             "outlinewidth": 0,
             "ticks": ""
            },
            "colorscale": [
             [
              0,
              "#0d0887"
             ],
             [
              0.1111111111111111,
              "#46039f"
             ],
             [
              0.2222222222222222,
              "#7201a8"
             ],
             [
              0.3333333333333333,
              "#9c179e"
             ],
             [
              0.4444444444444444,
              "#bd3786"
             ],
             [
              0.5555555555555556,
              "#d8576b"
             ],
             [
              0.6666666666666666,
              "#ed7953"
             ],
             [
              0.7777777777777778,
              "#fb9f3a"
             ],
             [
              0.8888888888888888,
              "#fdca26"
             ],
             [
              1,
              "#f0f921"
             ]
            ],
            "type": "histogram2dcontour"
           }
          ],
          "mesh3d": [
           {
            "colorbar": {
             "outlinewidth": 0,
             "ticks": ""
            },
            "type": "mesh3d"
           }
          ],
          "parcoords": [
           {
            "line": {
             "colorbar": {
              "outlinewidth": 0,
              "ticks": ""
             }
            },
            "type": "parcoords"
           }
          ],
          "pie": [
           {
            "automargin": true,
            "type": "pie"
           }
          ],
          "scatter": [
           {
            "fillpattern": {
             "fillmode": "overlay",
             "size": 10,
             "solidity": 0.2
            },
            "type": "scatter"
           }
          ],
          "scatter3d": [
           {
            "line": {
             "colorbar": {
              "outlinewidth": 0,
              "ticks": ""
             }
            },
            "marker": {
             "colorbar": {
              "outlinewidth": 0,
              "ticks": ""
             }
            },
            "type": "scatter3d"
           }
          ],
          "scattercarpet": [
           {
            "marker": {
             "colorbar": {
              "outlinewidth": 0,
              "ticks": ""
             }
            },
            "type": "scattercarpet"
           }
          ],
          "scattergeo": [
           {
            "marker": {
             "colorbar": {
              "outlinewidth": 0,
              "ticks": ""
             }
            },
            "type": "scattergeo"
           }
          ],
          "scattergl": [
           {
            "marker": {
             "colorbar": {
              "outlinewidth": 0,
              "ticks": ""
             }
            },
            "type": "scattergl"
           }
          ],
          "scattermapbox": [
           {
            "marker": {
             "colorbar": {
              "outlinewidth": 0,
              "ticks": ""
             }
            },
            "type": "scattermapbox"
           }
          ],
          "scatterpolar": [
           {
            "marker": {
             "colorbar": {
              "outlinewidth": 0,
              "ticks": ""
             }
            },
            "type": "scatterpolar"
           }
          ],
          "scatterpolargl": [
           {
            "marker": {
             "colorbar": {
              "outlinewidth": 0,
              "ticks": ""
             }
            },
            "type": "scatterpolargl"
           }
          ],
          "scatterternary": [
           {
            "marker": {
             "colorbar": {
              "outlinewidth": 0,
              "ticks": ""
             }
            },
            "type": "scatterternary"
           }
          ],
          "surface": [
           {
            "colorbar": {
             "outlinewidth": 0,
             "ticks": ""
            },
            "colorscale": [
             [
              0,
              "#0d0887"
             ],
             [
              0.1111111111111111,
              "#46039f"
             ],
             [
              0.2222222222222222,
              "#7201a8"
             ],
             [
              0.3333333333333333,
              "#9c179e"
             ],
             [
              0.4444444444444444,
              "#bd3786"
             ],
             [
              0.5555555555555556,
              "#d8576b"
             ],
             [
              0.6666666666666666,
              "#ed7953"
             ],
             [
              0.7777777777777778,
              "#fb9f3a"
             ],
             [
              0.8888888888888888,
              "#fdca26"
             ],
             [
              1,
              "#f0f921"
             ]
            ],
            "type": "surface"
           }
          ],
          "table": [
           {
            "cells": {
             "fill": {
              "color": "#EBF0F8"
             },
             "line": {
              "color": "white"
             }
            },
            "header": {
             "fill": {
              "color": "#C8D4E3"
             },
             "line": {
              "color": "white"
             }
            },
            "type": "table"
           }
          ]
         },
         "layout": {
          "annotationdefaults": {
           "arrowcolor": "#2a3f5f",
           "arrowhead": 0,
           "arrowwidth": 1
          },
          "autotypenumbers": "strict",
          "coloraxis": {
           "colorbar": {
            "outlinewidth": 0,
            "ticks": ""
           }
          },
          "colorscale": {
           "diverging": [
            [
             0,
             "#8e0152"
            ],
            [
             0.1,
             "#c51b7d"
            ],
            [
             0.2,
             "#de77ae"
            ],
            [
             0.3,
             "#f1b6da"
            ],
            [
             0.4,
             "#fde0ef"
            ],
            [
             0.5,
             "#f7f7f7"
            ],
            [
             0.6,
             "#e6f5d0"
            ],
            [
             0.7,
             "#b8e186"
            ],
            [
             0.8,
             "#7fbc41"
            ],
            [
             0.9,
             "#4d9221"
            ],
            [
             1,
             "#276419"
            ]
           ],
           "sequential": [
            [
             0,
             "#0d0887"
            ],
            [
             0.1111111111111111,
             "#46039f"
            ],
            [
             0.2222222222222222,
             "#7201a8"
            ],
            [
             0.3333333333333333,
             "#9c179e"
            ],
            [
             0.4444444444444444,
             "#bd3786"
            ],
            [
             0.5555555555555556,
             "#d8576b"
            ],
            [
             0.6666666666666666,
             "#ed7953"
            ],
            [
             0.7777777777777778,
             "#fb9f3a"
            ],
            [
             0.8888888888888888,
             "#fdca26"
            ],
            [
             1,
             "#f0f921"
            ]
           ],
           "sequentialminus": [
            [
             0,
             "#0d0887"
            ],
            [
             0.1111111111111111,
             "#46039f"
            ],
            [
             0.2222222222222222,
             "#7201a8"
            ],
            [
             0.3333333333333333,
             "#9c179e"
            ],
            [
             0.4444444444444444,
             "#bd3786"
            ],
            [
             0.5555555555555556,
             "#d8576b"
            ],
            [
             0.6666666666666666,
             "#ed7953"
            ],
            [
             0.7777777777777778,
             "#fb9f3a"
            ],
            [
             0.8888888888888888,
             "#fdca26"
            ],
            [
             1,
             "#f0f921"
            ]
           ]
          },
          "colorway": [
           "#636efa",
           "#EF553B",
           "#00cc96",
           "#ab63fa",
           "#FFA15A",
           "#19d3f3",
           "#FF6692",
           "#B6E880",
           "#FF97FF",
           "#FECB52"
          ],
          "font": {
           "color": "#2a3f5f"
          },
          "geo": {
           "bgcolor": "white",
           "lakecolor": "white",
           "landcolor": "#E5ECF6",
           "showlakes": true,
           "showland": true,
           "subunitcolor": "white"
          },
          "hoverlabel": {
           "align": "left"
          },
          "hovermode": "closest",
          "mapbox": {
           "style": "light"
          },
          "paper_bgcolor": "white",
          "plot_bgcolor": "#E5ECF6",
          "polar": {
           "angularaxis": {
            "gridcolor": "white",
            "linecolor": "white",
            "ticks": ""
           },
           "bgcolor": "#E5ECF6",
           "radialaxis": {
            "gridcolor": "white",
            "linecolor": "white",
            "ticks": ""
           }
          },
          "scene": {
           "xaxis": {
            "backgroundcolor": "#E5ECF6",
            "gridcolor": "white",
            "gridwidth": 2,
            "linecolor": "white",
            "showbackground": true,
            "ticks": "",
            "zerolinecolor": "white"
           },
           "yaxis": {
            "backgroundcolor": "#E5ECF6",
            "gridcolor": "white",
            "gridwidth": 2,
            "linecolor": "white",
            "showbackground": true,
            "ticks": "",
            "zerolinecolor": "white"
           },
           "zaxis": {
            "backgroundcolor": "#E5ECF6",
            "gridcolor": "white",
            "gridwidth": 2,
            "linecolor": "white",
            "showbackground": true,
            "ticks": "",
            "zerolinecolor": "white"
           }
          },
          "shapedefaults": {
           "line": {
            "color": "#2a3f5f"
           }
          },
          "ternary": {
           "aaxis": {
            "gridcolor": "white",
            "linecolor": "white",
            "ticks": ""
           },
           "baxis": {
            "gridcolor": "white",
            "linecolor": "white",
            "ticks": ""
           },
           "bgcolor": "#E5ECF6",
           "caxis": {
            "gridcolor": "white",
            "linecolor": "white",
            "ticks": ""
           }
          },
          "title": {
           "x": 0.05
          },
          "xaxis": {
           "automargin": true,
           "gridcolor": "white",
           "linecolor": "white",
           "ticks": "",
           "title": {
            "standoff": 15
           },
           "zerolinecolor": "white",
           "zerolinewidth": 2
          },
          "yaxis": {
           "automargin": true,
           "gridcolor": "white",
           "linecolor": "white",
           "ticks": "",
           "title": {
            "standoff": 15
           },
           "zerolinecolor": "white",
           "zerolinewidth": 2
          }
         }
        },
        "title": {
         "font": {
          "color": "black",
          "size": 24
         },
         "text": "Ingresos por Año en Pesos",
         "x": 0.5,
         "xanchor": "center",
         "y": 0.95,
         "yanchor": "top"
        },
        "xaxis": {
         "anchor": "y",
         "domain": [
          0,
          1
         ],
         "title": {
          "text": "Año"
         }
        },
        "yaxis": {
         "anchor": "x",
         "domain": [
          0,
          1
         ],
         "title": {
          "text": "Ingresos (miles de pesos)"
         }
        }
       }
      }
     },
     "metadata": {},
     "output_type": "display_data"
    }
   ],
   "source": [
    "# Ingresos trimestrales por la prestacion del servicio de internet fijo Argentina 2014-2022\n",
    "\n",
    "fig = px.bar(df12, x='Año', y='Ingresos (miles de pesos)', color='Año', title='Ingresos por Año',\n",
    "             labels={'Ingresos (miles de pesos)': 'Ingresos (miles de pesos)'},\n",
    "             color_discrete_sequence=px.colors.sequential.Blues)  # Paleta de colores azules\n",
    "\n",
    "# Desactivar rayas dentro de cada barra\n",
    "fig.update_traces(marker=dict(line=dict(width=0)))\n",
    "\n",
    "# Resaltar el título\n",
    "fig.update_layout(\n",
    "    title={\n",
    "        'text': \"Ingresos por Año en Pesos\",\n",
    "        'y':0.95,\n",
    "        'x':0.5,\n",
    "        'xanchor': 'center',\n",
    "        'yanchor': 'top',\n",
    "        'font': dict(\n",
    "            size=24,\n",
    "            color=\"black\")\n",
    "    }\n",
    ")\n",
    "\n",
    "# Mostrar el gráfico\n",
    "fig.show()\n"
   ]
  },
  {
   "cell_type": "markdown",
   "metadata": {},
   "source": [
    "*Análisis del Gráfico de Barras: Ingresos por Año*\n",
    "El gráfico de barras muestra los ingresos por año. Cada barra representa un año específico, y la altura de la barra indica la cantidad de ingresos en miles de pesos para ese año. Los colores de las barras representan diferentes años, lo que facilita la comparación visual de los ingresos entre los años.\n",
    "\n",
    "**Puntos Clave**\n",
    "**Tendencias a lo largo del tiempo:**\n",
    " El gráfico permite identificar fácilmente las tendencias en los ingresos a lo largo del tiempo. Las barras están aumentando de altura de izquierda a derecha, eso indica un aumento en los ingresos a lo largo de los años. \n",
    "\n",
    "**Comparación año tras año:**\n",
    " Los colores permiten comparar rápidamente los ingresos de un año con los de otro. Esto puede ser útil para identificar cualquier año que haya sido particularmente bueno o malo en términos de ingresos.\n",
    "\n",
    "**Resumen visual:**\n",
    "El gráfico de barras nos proporciona una representación visual de los datos que puede ser más intuitiva y accesible que una tabla de números. Esto puede facilitar la comprensión de los patrones y tendencias en los datos.\n"
   ]
  },
  {
   "cell_type": "markdown",
   "metadata": {},
   "source": [
    "**Se utiliza el df14 para analizar la penetracion del Internet fijo por Accesos por cada 100 hogares y Accesos por cada 100 hab**"
   ]
  },
  {
   "cell_type": "code",
   "execution_count": 48,
   "metadata": {},
   "outputs": [
    {
     "name": "stdout",
     "output_type": "stream",
     "text": [
      "(36, 5)\n"
     ]
    },
    {
     "data": {
      "text/html": [
       "<div>\n",
       "<style scoped>\n",
       "    .dataframe tbody tr th:only-of-type {\n",
       "        vertical-align: middle;\n",
       "    }\n",
       "\n",
       "    .dataframe tbody tr th {\n",
       "        vertical-align: top;\n",
       "    }\n",
       "\n",
       "    .dataframe thead th {\n",
       "        text-align: right;\n",
       "    }\n",
       "</style>\n",
       "<table border=\"1\" class=\"dataframe\">\n",
       "  <thead>\n",
       "    <tr style=\"text-align: right;\">\n",
       "      <th></th>\n",
       "      <th>Año</th>\n",
       "      <th>Trimestre</th>\n",
       "      <th>Accesos por cada 100 hogares</th>\n",
       "      <th>Accesos por cada 100 hab</th>\n",
       "      <th>Periodo</th>\n",
       "    </tr>\n",
       "  </thead>\n",
       "  <tbody>\n",
       "    <tr>\n",
       "      <th>0</th>\n",
       "      <td>2022</td>\n",
       "      <td>4</td>\n",
       "      <td>77,21</td>\n",
       "      <td>24,15</td>\n",
       "      <td>Oct-Dic 2022</td>\n",
       "    </tr>\n",
       "    <tr>\n",
       "      <th>1</th>\n",
       "      <td>2022</td>\n",
       "      <td>3</td>\n",
       "      <td>76,64</td>\n",
       "      <td>23,95</td>\n",
       "      <td>Jul-Sept 2022</td>\n",
       "    </tr>\n",
       "    <tr>\n",
       "      <th>2</th>\n",
       "      <td>2022</td>\n",
       "      <td>2</td>\n",
       "      <td>75,97</td>\n",
       "      <td>23,72</td>\n",
       "      <td>Abr-Jun 2022</td>\n",
       "    </tr>\n",
       "    <tr>\n",
       "      <th>3</th>\n",
       "      <td>2022</td>\n",
       "      <td>1</td>\n",
       "      <td>73,88</td>\n",
       "      <td>23,05</td>\n",
       "      <td>Ene-Mar 2022</td>\n",
       "    </tr>\n",
       "    <tr>\n",
       "      <th>4</th>\n",
       "      <td>2021</td>\n",
       "      <td>4</td>\n",
       "      <td>73,18</td>\n",
       "      <td>22,81</td>\n",
       "      <td>Oct-Dic 2021</td>\n",
       "    </tr>\n",
       "  </tbody>\n",
       "</table>\n",
       "</div>"
      ],
      "text/plain": [
       "    Año  Trimestre Accesos por cada 100 hogares Accesos por cada 100 hab  \\\n",
       "0  2022          4                        77,21                    24,15   \n",
       "1  2022          3                        76,64                    23,95   \n",
       "2  2022          2                        75,97                    23,72   \n",
       "3  2022          1                        73,88                    23,05   \n",
       "4  2021          4                        73,18                    22,81   \n",
       "\n",
       "         Periodo  \n",
       "0   Oct-Dic 2022  \n",
       "1  Jul-Sept 2022  \n",
       "2   Abr-Jun 2022  \n",
       "3   Ene-Mar 2022  \n",
       "4   Oct-Dic 2021  "
      ]
     },
     "execution_count": 48,
     "metadata": {},
     "output_type": "execute_result"
    }
   ],
   "source": [
    "# Penetración por hogares nacional de Internet fijo\n",
    "df14= pd.read_csv(\"datasets/pen_if_hog_nac.csv\")\n",
    "# Mostrar las primeras filas y estadísticas descriptivas : El dataset consta de 36 y 5 columnas\n",
    "print(df14.shape)\n",
    "df14.head()"
   ]
  },
  {
   "cell_type": "code",
   "execution_count": 306,
   "metadata": {},
   "outputs": [
    {
     "name": "stdout",
     "output_type": "stream",
     "text": [
      "               Año  Trimestre\n",
      "count    36.000000  36.000000\n",
      "mean   2018.000000   2.500000\n",
      "std       2.618615   1.133893\n",
      "min    2014.000000   1.000000\n",
      "25%    2016.000000   1.750000\n",
      "50%    2018.000000   2.500000\n",
      "75%    2020.000000   3.250000\n",
      "max    2022.000000   4.000000\n"
     ]
    }
   ],
   "source": [
    "#Reviso las primeras filas y las estadísticas descriptivas básicas de cada dataset.\n",
    "print(df14.describe())"
   ]
  },
  {
   "cell_type": "code",
   "execution_count": 307,
   "metadata": {},
   "outputs": [
    {
     "name": "stdout",
     "output_type": "stream",
     "text": [
      "Año                             0\n",
      "Trimestre                       0\n",
      "Accesos por cada 100 hogares    0\n",
      "Accesos por cada 100 hab        0\n",
      "Periodo                         0\n",
      "dtype: int64\n"
     ]
    }
   ],
   "source": [
    "# Verificacion de datos nulos: No existen datos nulos\n",
    "print(df14.isnull().sum())"
   ]
  },
  {
   "cell_type": "code",
   "execution_count": 308,
   "metadata": {},
   "outputs": [
    {
     "name": "stdout",
     "output_type": "stream",
     "text": [
      "<class 'pandas.core.frame.DataFrame'>\n",
      "RangeIndex: 36 entries, 0 to 35\n",
      "Data columns (total 5 columns):\n",
      " #   Column                        Non-Null Count  Dtype \n",
      "---  ------                        --------------  ----- \n",
      " 0   Año                           36 non-null     int64 \n",
      " 1   Trimestre                     36 non-null     int64 \n",
      " 2   Accesos por cada 100 hogares  36 non-null     object\n",
      " 3   Accesos por cada 100 hab      36 non-null     object\n",
      " 4   Periodo                       36 non-null     object\n",
      "dtypes: int64(2), object(3)\n",
      "memory usage: 1.5+ KB\n"
     ]
    }
   ],
   "source": [
    "# Verificacion de variables numericas y categoricas: Se observa que no tiene datos faltantes ya que las columnas tienen\n",
    "#l mismo numero de columnas#\n",
    "df14.info()\n"
   ]
  },
  {
   "cell_type": "code",
   "execution_count": 309,
   "metadata": {},
   "outputs": [],
   "source": [
    "# Convertir las columnas a tipo numérico\n",
    "df14['Accesos por cada 100 hogares'] = pd.to_numeric(df14['Accesos por cada 100 hogares'].str.replace(',', '.'))\n",
    "df14['Accesos por cada 100 hab'] = pd.to_numeric(df14['Accesos por cada 100 hab'].str.replace(',', '.'))\n"
   ]
  },
  {
   "cell_type": "code",
   "execution_count": 49,
   "metadata": {},
   "outputs": [
    {
     "name": "stdout",
     "output_type": "stream",
     "text": [
      "Cantidad de duplicados: 0\n"
     ]
    }
   ],
   "source": [
    "\n",
    "# Visualizacion de duplicados\n",
    "cantidad_duplicados = df14.duplicated().sum()\n",
    "print(\"Cantidad de duplicados:\", cantidad_duplicados)\n"
   ]
  },
  {
   "cell_type": "markdown",
   "metadata": {},
   "source": [
    "# Identificación de outliers"
   ]
  },
  {
   "cell_type": "code",
   "execution_count": 310,
   "metadata": {},
   "outputs": [
    {
     "data": {
      "image/png": "[encoded data removed]",
      "text/plain": [
       "<Figure size 1000x600 with 1 Axes>"
      ]
     },
     "metadata": {},
     "output_type": "display_data"
    },
    {
     "name": "stdout",
     "output_type": "stream",
     "text": [
      "       Accesos por cada 100 hogares  Accesos por cada 100 hab\n",
      "count                     36.000000                 36.000000\n",
      "mean                      60.745833                 18.760278\n",
      "std                        8.513140                  2.782531\n",
      "min                       49.550000                 15.050000\n",
      "25%                       53.162500                 16.307500\n",
      "50%                       59.925000                 18.485000\n",
      "75%                       66.637500                 20.695000\n",
      "max                       77.210000                 24.150000\n",
      "Filas con outliers en Accesos por cada 100 hogares:\n",
      "Empty DataFrame\n",
      "Columns: [Año, Trimestre, Accesos por cada 100 hogares, Accesos por cada 100 hab, Periodo]\n",
      "Index: []\n",
      "Filas con outliers en Accesos por cada 100 hab:\n",
      "Empty DataFrame\n",
      "Columns: [Año, Trimestre, Accesos por cada 100 hogares, Accesos por cada 100 hab, Periodo]\n",
      "Index: []\n",
      "\n",
      "Número de outliers en Accesos por cada 100 hogares: 0\n",
      "Número de outliers en Accesos por cada 100 hab: 0\n",
      "Total de outliers: 0\n"
     ]
    }
   ],
   "source": [
    "# Identicar outliers\n",
    "df14['Accesos por cada 100 hogares'] = df14['Accesos por cada 100 hogares'].apply(lambda x: pd.to_numeric(str(x).replace(',', '.'), errors='coerce'))\n",
    "df14['Accesos por cada 100 hab'] = df14['Accesos por cada 100 hab'].apply(lambda x: pd.to_numeric(str(x).replace(',', '.'), errors='coerce'))\n",
    "\n",
    "# Visualizar box plots para identificar outliers\n",
    "plt.figure(figsize=(10, 6))\n",
    "sns.boxplot(data=df14[['Accesos por cada 100 hogares', 'Accesos por cada 100 hab']])\n",
    "plt.title('Box Plot de Accesos por cada 100 hogares y hab')\n",
    "plt.show()\n",
    "\n",
    "# Calcular estadísticas resumen\n",
    "summary_stats = df14[['Accesos por cada 100 hogares', 'Accesos por cada 100 hab']].describe()\n",
    "print(summary_stats)\n",
    "\n",
    "# Identificar filas con valores atípicos\n",
    "outliers_hogares = df14[(df14['Accesos por cada 100 hogares'] > summary_stats.loc['75%', 'Accesos por cada 100 hogares'] + 1.5 * (summary_stats.loc['75%', 'Accesos por cada 100 hogares'] - summary_stats.loc['25%', 'Accesos por cada 100 hogares']))\n",
    "                        | (df14['Accesos por cada 100 hogares'] < summary_stats.loc['25%', 'Accesos por cada 100 hogares'] - 1.5 * (summary_stats.loc['75%', 'Accesos por cada 100 hogares'] - summary_stats.loc['25%', 'Accesos por cada 100 hogares']))]\n",
    "\n",
    "outliers_hab = df14[(df14['Accesos por cada 100 hab'] > summary_stats.loc['75%', 'Accesos por cada 100 hab'] + 1.5 * (summary_stats.loc['75%', 'Accesos por cada 100 hab'] - summary_stats.loc['25%', 'Accesos por cada 100 hab']))\n",
    "                    | (df14['Accesos por cada 100 hab'] < summary_stats.loc['25%', 'Accesos por cada 100 hab'] - 1.5 * (summary_stats.loc['75%', 'Accesos por cada 100 hab'] - summary_stats.loc['25%', 'Accesos por cada 100 hab']))]\n",
    "\n",
    "print(\"Filas con outliers en Accesos por cada 100 hogares:\")\n",
    "print(outliers_hogares)\n",
    "\n",
    "print(\"Filas con outliers en Accesos por cada 100 hab:\")\n",
    "print(outliers_hab)\n",
    "\n",
    "# Contar outliers por variable y total\n",
    "num_outliers_hogares = outliers_hogares.shape[0]\n",
    "num_outliers_hab = outliers_hab.shape[0]\n",
    "total_outliers = num_outliers_hogares + num_outliers_hab\n",
    "\n",
    "print(f\"\\nNúmero de outliers en Accesos por cada 100 hogares: {num_outliers_hogares}\")\n",
    "print(f\"Número de outliers en Accesos por cada 100 hab: {num_outliers_hab}\")\n",
    "print(f\"Total de outliers: {total_outliers}\")\n"
   ]
  },
  {
   "cell_type": "markdown",
   "metadata": {},
   "source": [
    "Los resultados indican que no hay filas que cumplan con la definición de outliers según el método utilizado en el análisis de caja (box plot). En otras palabras, no hay valores atípicos en las columnas \"Accesos por cada 100 hogares\" ni \"Accesos por cada 100 hab\" según el criterio de 1.5 veces el rango intercuartílico por encima del tercer cuartil o por debajo del primer cuartil."
   ]
  },
  {
   "cell_type": "markdown",
   "metadata": {},
   "source": [
    "# Matriz de Correlación"
   ]
  },
  {
   "cell_type": "code",
   "execution_count": 311,
   "metadata": {},
   "outputs": [
    {
     "data": {
      "image/png": "[encoded data removed]",
      "text/plain": [
       "<Figure size 800x600 with 2 Axes>"
      ]
     },
     "metadata": {},
     "output_type": "display_data"
    }
   ],
   "source": [
    "# Selecciona solo las columnas que quieres correlacionar\n",
    "columnas = ['Accesos por cada 100 hogares', 'Accesos por cada 100 hab']\n",
    "df14_seleccionado = df14[columnas]\n",
    "\n",
    "# Calcula la matriz de correlación\n",
    "matriz_correlacion = df14_seleccionado.corr()\n",
    "\n",
    "# Crea un mapa de calor\n",
    "plt.figure(figsize=(8, 6))\n",
    "sns.heatmap(matriz_correlacion, annot=True, cmap='coolwarm')\n",
    "\n",
    "plt.title('Matriz de correlación')\n",
    "plt.show()\n",
    "\n"
   ]
  },
  {
   "cell_type": "markdown",
   "metadata": {},
   "source": [
    "La matriz de correlación siempre tendrá 1s en la diagonal. Esto se debe a que cada variable tiene una correlación perfecta consigo misma. Por lo tanto, ‘Accesos por cada 100 hogares’ tendrá una correlación de 1 con ‘Accesos por cada 100 hogares’, y ‘Accesos por cada 100 hab’ tendrá una correlación de 1 con ‘Accesos por cada 100 hab’."
   ]
  },
  {
   "cell_type": "markdown",
   "metadata": {},
   "source": [
    "# Accesos por cada 100 hogares y 100 habitantes por Año"
   ]
  },
  {
   "cell_type": "code",
   "execution_count": 312,
   "metadata": {},
   "outputs": [
    {
     "data": {
      "application/vnd.plotly.v1+json": {
       "config": {
        "plotlyServerURL": "https://plot.ly"
       },
       "data": [
        {
         "alignmentgroup": "True",
         "hovertemplate": "variable=Accesos por cada 100 hogares<br>Año=%{x}<br>Accesos=%{y}<extra></extra>",
         "legendgroup": "Accesos por cada 100 hogares",
         "marker": {
          "color": "#636efa",
          "pattern": {
           "shape": ""
          }
         },
         "name": "Accesos por cada 100 hogares",
         "offsetgroup": "Accesos por cada 100 hogares",
         "orientation": "v",
         "showlegend": true,
         "textposition": "auto",
         "type": "bar",
         "x": [
          2022,
          2022,
          2022,
          2022,
          2021,
          2021,
          2021,
          2021,
          2020,
          2020,
          2020,
          2020,
          2019,
          2019,
          2019,
          2019,
          2018,
          2018,
          2018,
          2018,
          2017,
          2017,
          2017,
          2017,
          2016,
          2016,
          2016,
          2016,
          2015,
          2015,
          2015,
          2015,
          2014,
          2014,
          2014,
          2014
         ],
         "xaxis": "x",
         "y": [
          77.21,
          76.64,
          75.97,
          73.88,
          73.18,
          70.58,
          69.24,
          67.95,
          67.62,
          66.31,
          64.21,
          62.86,
          62.92,
          65.79,
          64.53,
          62.48,
          61.42,
          60.69,
          59.16,
          58.82,
          57.78,
          56.9,
          54.9,
          54.16,
          53.94,
          53.73,
          53.34,
          51.85,
          52.63,
          52.46,
          51.76,
          51.36,
          50.5,
          50.67,
          49.86,
          49.55
         ],
         "yaxis": "y"
        },
        {
         "alignmentgroup": "True",
         "hovertemplate": "variable=Accesos por cada 100 hab<br>Año=%{x}<br>Accesos=%{y}<extra></extra>",
         "legendgroup": "Accesos por cada 100 hab",
         "marker": {
          "color": "#EF553B",
          "pattern": {
           "shape": ""
          }
         },
         "name": "Accesos por cada 100 hab",
         "offsetgroup": "Accesos por cada 100 hab",
         "orientation": "v",
         "showlegend": true,
         "textposition": "auto",
         "type": "bar",
         "x": [
          2022,
          2022,
          2022,
          2022,
          2021,
          2021,
          2021,
          2021,
          2020,
          2020,
          2020,
          2020,
          2019,
          2019,
          2019,
          2019,
          2018,
          2018,
          2018,
          2018,
          2017,
          2017,
          2017,
          2017,
          2016,
          2016,
          2016,
          2016,
          2015,
          2015,
          2015,
          2015,
          2014,
          2014,
          2014,
          2014
         ],
         "xaxis": "x",
         "y": [
          24.15,
          23.95,
          23.72,
          23.05,
          22.81,
          21.98,
          21.55,
          21.13,
          21.01,
          20.59,
          19.92,
          19.48,
          19.49,
          20.36,
          19.96,
          19.31,
          18.97,
          18.73,
          18.24,
          18.12,
          17.79,
          17.51,
          16.88,
          16.64,
          16.56,
          16.5,
          16.37,
          15.9,
          16.12,
          16.05,
          15.82,
          15.68,
          15.39,
          15.43,
          15.16,
          15.05
         ],
         "yaxis": "y"
        }
       ],
       "layout": {
        "barmode": "group",
        "legend": {
         "title": {
          "text": "variable"
         },
         "tracegroupgap": 0
        },
        "template": {
         "data": {
          "bar": [
           {
            "error_x": {
             "color": "#f2f5fa"
            },
            "error_y": {
             "color": "#f2f5fa"
            },
            "marker": {
             "line": {
              "color": "rgb(17,17,17)",
              "width": 0.5
             },
             "pattern": {
              "fillmode": "overlay",
              "size": 10,
              "solidity": 0.2
             }
            },
            "type": "bar"
           }
          ],
          "barpolar": [
           {
            "marker": {
             "line": {
              "color": "rgb(17,17,17)",
              "width": 0.5
             },
             "pattern": {
              "fillmode": "overlay",
              "size": 10,
              "solidity": 0.2
             }
            },
            "type": "barpolar"
           }
          ],
          "carpet": [
           {
            "aaxis": {
             "endlinecolor": "#A2B1C6",
             "gridcolor": "#506784",
             "linecolor": "#506784",
             "minorgridcolor": "#506784",
             "startlinecolor": "#A2B1C6"
            },
            "baxis": {
             "endlinecolor": "#A2B1C6",
             "gridcolor": "#506784",
             "linecolor": "#506784",
             "minorgridcolor": "#506784",
             "startlinecolor": "#A2B1C6"
            },
            "type": "carpet"
           }
          ],
          "choropleth": [
           {
            "colorbar": {
             "outlinewidth": 0,
             "ticks": ""
            },
            "type": "choropleth"
           }
          ],
          "contour": [
           {
            "colorbar": {
             "outlinewidth": 0,
             "ticks": ""
            },
            "colorscale": [
             [
              0,
              "#0d0887"
             ],
             [
              0.1111111111111111,
              "#46039f"
             ],
             [
              0.2222222222222222,
              "#7201a8"
             ],
             [
              0.3333333333333333,
              "#9c179e"
             ],
             [
              0.4444444444444444,
              "#bd3786"
             ],
             [
              0.5555555555555556,
              "#d8576b"
             ],
             [
              0.6666666666666666,
              "#ed7953"
             ],
             [
              0.7777777777777778,
              "#fb9f3a"
             ],
             [
              0.8888888888888888,
              "#fdca26"
             ],
             [
              1,
              "#f0f921"
             ]
            ],
            "type": "contour"
           }
          ],
          "contourcarpet": [
           {
            "colorbar": {
             "outlinewidth": 0,
             "ticks": ""
            },
            "type": "contourcarpet"
           }
          ],
          "heatmap": [
           {
            "colorbar": {
             "outlinewidth": 0,
             "ticks": ""
            },
            "colorscale": [
             [
              0,
              "#0d0887"
             ],
             [
              0.1111111111111111,
              "#46039f"
             ],
             [
              0.2222222222222222,
              "#7201a8"
             ],
             [
              0.3333333333333333,
              "#9c179e"
             ],
             [
              0.4444444444444444,
              "#bd3786"
             ],
             [
              0.5555555555555556,
              "#d8576b"
             ],
             [
              0.6666666666666666,
              "#ed7953"
             ],
             [
              0.7777777777777778,
              "#fb9f3a"
             ],
             [
              0.8888888888888888,
              "#fdca26"
             ],
             [
              1,
              "#f0f921"
             ]
            ],
            "type": "heatmap"
           }
          ],
          "heatmapgl": [
           {
            "colorbar": {
             "outlinewidth": 0,
             "ticks": ""
            },
            "colorscale": [
             [
              0,
              "#0d0887"
             ],
             [
              0.1111111111111111,
              "#46039f"
             ],
             [
              0.2222222222222222,
              "#7201a8"
             ],
             [
              0.3333333333333333,
              "#9c179e"
             ],
             [
              0.4444444444444444,
              "#bd3786"
             ],
             [
              0.5555555555555556,
              "#d8576b"
             ],
             [
              0.6666666666666666,
              "#ed7953"
             ],
             [
              0.7777777777777778,
              "#fb9f3a"
             ],
             [
              0.8888888888888888,
              "#fdca26"
             ],
             [
              1,
              "#f0f921"
             ]
            ],
            "type": "heatmapgl"
           }
          ],
          "histogram": [
           {
            "marker": {
             "pattern": {
              "fillmode": "overlay",
              "size": 10,
              "solidity": 0.2
             }
            },
            "type": "histogram"
           }
          ],
          "histogram2d": [
           {
            "colorbar": {
             "outlinewidth": 0,
             "ticks": ""
            },
            "colorscale": [
             [
              0,
              "#0d0887"
             ],
             [
              0.1111111111111111,
              "#46039f"
             ],
             [
              0.2222222222222222,
              "#7201a8"
             ],
             [
              0.3333333333333333,
              "#9c179e"
             ],
             [
              0.4444444444444444,
              "#bd3786"
             ],
             [
              0.5555555555555556,
              "#d8576b"
             ],
             [
              0.6666666666666666,
              "#ed7953"
             ],
             [
              0.7777777777777778,
              "#fb9f3a"
             ],
             [
              0.8888888888888888,
              "#fdca26"
             ],
             [
              1,
              "#f0f921"
             ]
            ],
            "type": "histogram2d"
           }
          ],
          "histogram2dcontour": [
           {
            "colorbar": {
             "outlinewidth": 0,
             "ticks": ""
            },
            "colorscale": [
             [
              0,
              "#0d0887"
             ],
             [
              0.1111111111111111,
              "#46039f"
             ],
             [
              0.2222222222222222,
              "#7201a8"
             ],
             [
              0.3333333333333333,
              "#9c179e"
             ],
             [
              0.4444444444444444,
              "#bd3786"
             ],
             [
              0.5555555555555556,
              "#d8576b"
             ],
             [
              0.6666666666666666,
              "#ed7953"
             ],
             [
              0.7777777777777778,
              "#fb9f3a"
             ],
             [
              0.8888888888888888,
              "#fdca26"
             ],
             [
              1,
              "#f0f921"
             ]
            ],
            "type": "histogram2dcontour"
           }
          ],
          "mesh3d": [
           {
            "colorbar": {
             "outlinewidth": 0,
             "ticks": ""
            },
            "type": "mesh3d"
           }
          ],
          "parcoords": [
           {
            "line": {
             "colorbar": {
              "outlinewidth": 0,
              "ticks": ""
             }
            },
            "type": "parcoords"
           }
          ],
          "pie": [
           {
            "automargin": true,
            "type": "pie"
           }
          ],
          "scatter": [
           {
            "marker": {
             "line": {
              "color": "#283442"
             }
            },
            "type": "scatter"
           }
          ],
          "scatter3d": [
           {
            "line": {
             "colorbar": {
              "outlinewidth": 0,
              "ticks": ""
             }
            },
            "marker": {
             "colorbar": {
              "outlinewidth": 0,
              "ticks": ""
             }
            },
            "type": "scatter3d"
           }
          ],
          "scattercarpet": [
           {
            "marker": {
             "colorbar": {
              "outlinewidth": 0,
              "ticks": ""
             }
            },
            "type": "scattercarpet"
           }
          ],
          "scattergeo": [
           {
            "marker": {
             "colorbar": {
              "outlinewidth": 0,
              "ticks": ""
             }
            },
            "type": "scattergeo"
           }
          ],
          "scattergl": [
           {
            "marker": {
             "line": {
              "color": "#283442"
             }
            },
            "type": "scattergl"
           }
          ],
          "scattermapbox": [
           {
            "marker": {
             "colorbar": {
              "outlinewidth": 0,
              "ticks": ""
             }
            },
            "type": "scattermapbox"
           }
          ],
          "scatterpolar": [
           {
            "marker": {
             "colorbar": {
              "outlinewidth": 0,
              "ticks": ""
             }
            },
            "type": "scatterpolar"
           }
          ],
          "scatterpolargl": [
           {
            "marker": {
             "colorbar": {
              "outlinewidth": 0,
              "ticks": ""
             }
            },
            "type": "scatterpolargl"
           }
          ],
          "scatterternary": [
           {
            "marker": {
             "colorbar": {
              "outlinewidth": 0,
              "ticks": ""
             }
            },
            "type": "scatterternary"
           }
          ],
          "surface": [
           {
            "colorbar": {
             "outlinewidth": 0,
             "ticks": ""
            },
            "colorscale": [
             [
              0,
              "#0d0887"
             ],
             [
              0.1111111111111111,
              "#46039f"
             ],
             [
              0.2222222222222222,
              "#7201a8"
             ],
             [
              0.3333333333333333,
              "#9c179e"
             ],
             [
              0.4444444444444444,
              "#bd3786"
             ],
             [
              0.5555555555555556,
              "#d8576b"
             ],
             [
              0.6666666666666666,
              "#ed7953"
             ],
             [
              0.7777777777777778,
              "#fb9f3a"
             ],
             [
              0.8888888888888888,
              "#fdca26"
             ],
             [
              1,
              "#f0f921"
             ]
            ],
            "type": "surface"
           }
          ],
          "table": [
           {
            "cells": {
             "fill": {
              "color": "#506784"
             },
             "line": {
              "color": "rgb(17,17,17)"
             }
            },
            "header": {
             "fill": {
              "color": "#2a3f5f"
             },
             "line": {
              "color": "rgb(17,17,17)"
             }
            },
            "type": "table"
           }
          ]
         },
         "layout": {
          "annotationdefaults": {
           "arrowcolor": "#f2f5fa",
           "arrowhead": 0,
           "arrowwidth": 1
          },
          "autotypenumbers": "strict",
          "coloraxis": {
           "colorbar": {
            "outlinewidth": 0,
            "ticks": ""
           }
          },
          "colorscale": {
           "diverging": [
            [
             0,
             "#8e0152"
            ],
            [
             0.1,
             "#c51b7d"
            ],
            [
             0.2,
             "#de77ae"
            ],
            [
             0.3,
             "#f1b6da"
            ],
            [
             0.4,
             "#fde0ef"
            ],
            [
             0.5,
             "#f7f7f7"
            ],
            [
             0.6,
             "#e6f5d0"
            ],
            [
             0.7,
             "#b8e186"
            ],
            [
             0.8,
             "#7fbc41"
            ],
            [
             0.9,
             "#4d9221"
            ],
            [
             1,
             "#276419"
            ]
           ],
           "sequential": [
            [
             0,
             "#0d0887"
            ],
            [
             0.1111111111111111,
             "#46039f"
            ],
            [
             0.2222222222222222,
             "#7201a8"
            ],
            [
             0.3333333333333333,
             "#9c179e"
            ],
            [
             0.4444444444444444,
             "#bd3786"
            ],
            [
             0.5555555555555556,
             "#d8576b"
            ],
            [
             0.6666666666666666,
             "#ed7953"
            ],
            [
             0.7777777777777778,
             "#fb9f3a"
            ],
            [
             0.8888888888888888,
             "#fdca26"
            ],
            [
             1,
             "#f0f921"
            ]
           ],
           "sequentialminus": [
            [
             0,
             "#0d0887"
            ],
            [
             0.1111111111111111,
             "#46039f"
            ],
            [
             0.2222222222222222,
             "#7201a8"
            ],
            [
             0.3333333333333333,
             "#9c179e"
            ],
            [
             0.4444444444444444,
             "#bd3786"
            ],
            [
             0.5555555555555556,
             "#d8576b"
            ],
            [
             0.6666666666666666,
             "#ed7953"
            ],
            [
             0.7777777777777778,
             "#fb9f3a"
            ],
            [
             0.8888888888888888,
             "#fdca26"
            ],
            [
             1,
             "#f0f921"
            ]
           ]
          },
          "colorway": [
           "#636efa",
           "#EF553B",
           "#00cc96",
           "#ab63fa",
           "#FFA15A",
           "#19d3f3",
           "#FF6692",
           "#B6E880",
           "#FF97FF",
           "#FECB52"
          ],
          "font": {
           "color": "#f2f5fa"
          },
          "geo": {
           "bgcolor": "rgb(17,17,17)",
           "lakecolor": "rgb(17,17,17)",
           "landcolor": "rgb(17,17,17)",
           "showlakes": true,
           "showland": true,
           "subunitcolor": "#506784"
          },
          "hoverlabel": {
           "align": "left"
          },
          "hovermode": "closest",
          "mapbox": {
           "style": "dark"
          },
          "paper_bgcolor": "rgb(17,17,17)",
          "plot_bgcolor": "rgb(17,17,17)",
          "polar": {
           "angularaxis": {
            "gridcolor": "#506784",
            "linecolor": "#506784",
            "ticks": ""
           },
           "bgcolor": "rgb(17,17,17)",
           "radialaxis": {
            "gridcolor": "#506784",
            "linecolor": "#506784",
            "ticks": ""
           }
          },
          "scene": {
           "xaxis": {
            "backgroundcolor": "rgb(17,17,17)",
            "gridcolor": "#506784",
            "gridwidth": 2,
            "linecolor": "#506784",
            "showbackground": true,
            "ticks": "",
            "zerolinecolor": "#C8D4E3"
           },
           "yaxis": {
            "backgroundcolor": "rgb(17,17,17)",
            "gridcolor": "#506784",
            "gridwidth": 2,
            "linecolor": "#506784",
            "showbackground": true,
            "ticks": "",
            "zerolinecolor": "#C8D4E3"
           },
           "zaxis": {
            "backgroundcolor": "rgb(17,17,17)",
            "gridcolor": "#506784",
            "gridwidth": 2,
            "linecolor": "#506784",
            "showbackground": true,
            "ticks": "",
            "zerolinecolor": "#C8D4E3"
           }
          },
          "shapedefaults": {
           "line": {
            "color": "#f2f5fa"
           }
          },
          "sliderdefaults": {
           "bgcolor": "#C8D4E3",
           "bordercolor": "rgb(17,17,17)",
           "borderwidth": 1,
           "tickwidth": 0
          },
          "ternary": {
           "aaxis": {
            "gridcolor": "#506784",
            "linecolor": "#506784",
            "ticks": ""
           },
           "baxis": {
            "gridcolor": "#506784",
            "linecolor": "#506784",
            "ticks": ""
           },
           "bgcolor": "rgb(17,17,17)",
           "caxis": {
            "gridcolor": "#506784",
            "linecolor": "#506784",
            "ticks": ""
           }
          },
          "title": {
           "x": 0.05
          },
          "updatemenudefaults": {
           "bgcolor": "#506784",
           "borderwidth": 0
          },
          "xaxis": {
           "automargin": true,
           "gridcolor": "#283442",
           "linecolor": "#506784",
           "ticks": "",
           "title": {
            "standoff": 15
           },
           "zerolinecolor": "#283442",
           "zerolinewidth": 2
          },
          "yaxis": {
           "automargin": true,
           "gridcolor": "#283442",
           "linecolor": "#506784",
           "ticks": "",
           "title": {
            "standoff": 15
           },
           "zerolinecolor": "#283442",
           "zerolinewidth": 2
          }
         }
        },
        "title": {
         "text": "Accesos por cada 100 hogares y 100 hab por Año"
        },
        "xaxis": {
         "anchor": "y",
         "domain": [
          0,
          1
         ],
         "title": {
          "text": "Año"
         }
        },
        "yaxis": {
         "anchor": "x",
         "domain": [
          0,
          1
         ],
         "title": {
          "text": "Accesos"
         }
        }
       }
      }
     },
     "metadata": {},
     "output_type": "display_data"
    }
   ],
   "source": [
    "\n",
    "# Crear la visualización de barras apiladas\n",
    "fig = px.bar(df14, x='Año', y=['Accesos por cada 100 hogares', 'Accesos por cada 100 hab'],\n",
    "             labels={'value': 'Accesos'},\n",
    "             title='Accesos por cada 100 hogares y 100 hab por Año',\n",
    "             template='plotly_dark',\n",
    "             barmode='group')  # Utiliza barmode='group' para barras agrupadas en lugar de apiladas\n",
    "\n",
    "# Mostrar la figura\n",
    "fig.show()"
   ]
  },
  {
   "cell_type": "markdown",
   "metadata": {},
   "source": [
    "# Análisis de Accesos por cada 100 hogares y 100 hab por Año\n",
    "\n",
    "El gráfico de barras presenta una comparación visual entre los accesos por cada 100 hogares y accesos por cada 100 habitantes a lo largo de varios años (desde 2014 hasta 2022). La representación gráfica permite identificar patrones y tendencias en la evolución de estos indicadores.\n",
    "\n",
    "## Observaciones clave:\n",
    "\n",
    "- **Accesos por cada 100 hogares:**\n",
    "  - Se observa un aumento constante en los accesos por cada 100 hogares desde 2014 hasta 2023.\n",
    "  - Los años más recientes muestran un crecimiento significativo en comparación con los años anteriores.\n",
    " \n",
    "- **Accesos por cada 100 habitantes:**\n",
    "  - Similar a los accesos por hogar, se aprecia un aumento general en los accesos por cada 100 habitantes a lo largo de los años.\n",
    "  - Puede notarse alguna variabilidad entre años específicos que podría requerir una investigación adicional.\n",
    " \n",
    "## Conclusiones:\n",
    "- Ambos indicadores sugieren un aumento positivo en la conectividad a lo largo del tiempo, indicando posiblemente una mayor adopción de servicios de telecomunicaciones.\n",
    "\n",
    "- Este análisis proporciona una visión general de cómo han evolucionado los accesos a lo largo de los años y puede ser útil para tomar decisiones estratégicas relacionadas con la infraestructura de telecomunicaciones.\n"
   ]
  }
 ],
 "metadata": {
  "kernelspec": {
   "display_name": "Python 3",
   "language": "python",
   "name": "python3"
  },
  "language_info": {
   "codemirror_mode": {
    "name": "ipython",
    "version": 3
   },
   "file_extension": ".py",
   "mimetype": "text/x-python",
   "name": "python",
   "nbconvert_exporter": "python",
   "pygments_lexer": "ipython3",
   "version": "3.11.4"
  }
 },
 "nbformat": 4,
 "nbformat_minor": 2
}
